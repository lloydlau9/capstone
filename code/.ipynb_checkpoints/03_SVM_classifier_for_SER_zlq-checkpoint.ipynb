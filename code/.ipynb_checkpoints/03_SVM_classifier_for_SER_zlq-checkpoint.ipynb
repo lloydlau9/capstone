{
 "cells": [
  {
   "cell_type": "markdown",
   "metadata": {},
   "source": [
    "#  SVM Classifier for  SER (Speech Emotion Recognition)"
   ]
  },
  {
   "cell_type": "markdown",
   "metadata": {},
   "source": [
    "## Dataset\n",
    "\n",
    "The Ryerson Audio-Visual Database of Emotional Speech and Song (RAVDESS),and it is free to download. This dataset has 7356 files rated by 247 individuals 10 times on emotional validity, intensity, and genuineness. here the Speech files of all actors (01-24) will be used and the files are available under path ../datasets/RAVDESS. It contains 1440 files: 60 trials per actor x 24 actors = 1440. \n",
    "Filename identifiers:\n",
    "<ol>\n",
    "<li>Modality (01 = full-AV, 02 = video-only, 03 = audio-only).</li>\n",
    "<li>Vocal channel (01 = speech, 02 = song).</li>\n",
    "<li>Emotion (01 = neutral, 02 = calm, 03 = happy, 04 = sad, 05 = angry, 06 = fearful, 07 = disgust, 08 = surprised).</li>\n",
    "<li>Emotional intensity (01 = normal, 02 = strong). NOTE: There is no strong intensity for the 'neutral' emotion.</li>\n",
    "<li>Statement (01 = \"Kids are talking by the door\", 02 = \"Dogs are sitting by the door\").</li>\n",
    "<li>Repetition (01 = 1st repetition, 02 = 2nd repetition)..</li>\n",
    "<li>Actor (01 to 24. Odd numbered actors are male, even numbered actors are female).</li>\n",
    "</ol>"
   ]
  },
  {
   "cell_type": "markdown",
   "metadata": {},
   "source": [
    "## Downloading Libraries"
   ]
  },
  {
   "cell_type": "code",
   "execution_count": 1,
   "metadata": {},
   "outputs": [],
   "source": [
    "#!pip install librosa soundfile numpy sklearn pyaudio"
   ]
  },
  {
   "cell_type": "code",
   "execution_count": 2,
   "metadata": {},
   "outputs": [],
   "source": [
    "#!pip install soundfile"
   ]
  },
  {
   "cell_type": "code",
   "execution_count": 3,
   "metadata": {},
   "outputs": [],
   "source": [
    "# pip install seaborn"
   ]
  },
  {
   "cell_type": "markdown",
   "metadata": {},
   "source": [
    "## Libraries Import"
   ]
  },
  {
   "cell_type": "code",
   "execution_count": 4,
   "metadata": {},
   "outputs": [],
   "source": [
    "# Import our libraries\n",
    "\n",
    "import os,glob\n",
    "import librosa\n",
    "import time\n",
    "import numpy as np\n",
    "import pandas as pd\n",
    "import matplotlib.pyplot as plt\n",
    "from sklearn.model_selection import train_test_split\n",
    "from sklearn.svm import SVC\n",
    "import time\n",
    "from sklearn.metrics import accuracy_score\n",
    "from sklearn.metrics import classification_report\n",
    "from sklearn.metrics import confusion_matrix\n",
    "import seaborn as sn\n",
    "from sklearn.svm import SVC\n",
    "import seaborn as sn\n",
    "from sklearn.model_selection import cross_val_score\n",
    "import librosa.display\n",
    "from sklearn.preprocessing import StandardScaler\n",
    "from sklearn.pipeline import Pipeline\n",
    "import soundfile\n",
    "import os.path"
   ]
  },
  {
   "cell_type": "markdown",
   "metadata": {},
   "source": [
    "## Feature Extraction\n",
    "\n",
    "This function loads the file give the file path and after resampling and computing MFCC features, returns the features. We have selected the no. of MFCCs as 40.\n"
   ]
  },
  {
   "cell_type": "code",
   "execution_count": 5,
   "metadata": {},
   "outputs": [],
   "source": [
    "#Extract features (mfcc, chroma, mel) from a given sound file(with path)\n",
    "def extract_feature(file_name, mfcc):\n",
    "    X, sample_rate = librosa.load(os.path.join(file_name), res_type='kaiser_fast')\n",
    "    result=np.array([])\n",
    "    if mfcc:\n",
    "        mfccs=np.mean(librosa.feature.mfcc(y=X, sr=sample_rate, n_mfcc=40).T, axis=0)\n",
    "        result=np.hstack((result, mfccs))\n",
    "    return result"
   ]
  },
  {
   "cell_type": "code",
   "execution_count": 6,
   "metadata": {},
   "outputs": [],
   "source": [
    "#Emotions in the RAVDESS dataset, it will not take the neutral into the modeling process\n",
    "emotions={\n",
    "  '01':'neutral',\n",
    "  '02':'calm',\n",
    "  '03':'happy',\n",
    "  '04':'sad',\n",
    "  '05':'angry',\n",
    "  '06':'fear',\n",
    "  '07':'disgust',\n",
    "  '08':'surprise'\n",
    "}\n",
    "#Emotions to observe(all emotions except neutral)\n",
    "observed_emotions=['neutral','calm', 'happy', 'sad','angry','fear', 'disgust','surprise']"
   ]
  },
  {
   "cell_type": "markdown",
   "metadata": {},
   "source": [
    "## Retrieve RAVDESS dataset from File System"
   ]
  },
  {
   "cell_type": "code",
   "execution_count": 7,
   "metadata": {},
   "outputs": [
    {
     "data": {
      "text/plain": [
       "['03-01-01-01-01-01-01.wav',\n",
       " '03-01-01-01-01-02-01.wav',\n",
       " '03-01-01-01-02-01-01.wav',\n",
       " '03-01-01-01-02-02-01.wav',\n",
       " '03-01-02-01-01-01-01.wav']"
      ]
     },
     "execution_count": 7,
     "metadata": {},
     "output_type": "execute_result"
    }
   ],
   "source": [
    "#audio file path in file system\n",
    "RAV = \"../datasets/RAVDESS/\"\n",
    "CSV = \"../datasets/CSV/\"\n",
    "# test to run one example \n",
    "dir_list = os.listdir(RAV+\"Actor_01/\")\n",
    "dir_list[0:5]"
   ]
  },
  {
   "cell_type": "code",
   "execution_count": 8,
   "metadata": {},
   "outputs": [],
   "source": [
    "#Load the data and extract features for each sound file\n",
    "def load_data(test_size=0.2): \n",
    "    x,y=[],[]\n",
    "    \n",
    "    # feature to extract\n",
    "    mfcc = True \n",
    "    path= RAV+\"Actor_*/*.wav\"   \n",
    "    for file in glob.glob(path):\n",
    "        file_name=os.path.basename(file)\n",
    "        emotion=emotions[file_name.split(\"-\")[2]] #to get emotion according to filename. dictionary emotions is defined above.\n",
    "        if emotion not in observed_emotions: #options observed_emotions - RAVDESS and TESS, ravdess_emotions for RAVDESS only\n",
    "            continue\n",
    "        feature=extract_feature(file, mfcc)\n",
    "        x.append(feature)\n",
    "        y.append(emotion)\n",
    "    return {\"X\":x,\"y\":y}"
   ]
  },
  {
   "cell_type": "code",
   "execution_count": 9,
   "metadata": {
    "scrolled": false
   },
   "outputs": [],
   "source": [
    "#load data into memory\n",
    "Trial_dict = load_data(test_size = 0.3)"
   ]
  },
  {
   "cell_type": "code",
   "execution_count": 10,
   "metadata": {
    "scrolled": true
   },
   "outputs": [
    {
     "data": {
      "text/plain": [
       "((1440, 40), (1440, 1))"
      ]
     },
     "execution_count": 10,
     "metadata": {},
     "output_type": "execute_result"
    }
   ],
   "source": [
    "X = pd.DataFrame(Trial_dict[\"X\"])\n",
    "y = pd.DataFrame(Trial_dict[\"y\"])\n",
    "X.shape, y.shape"
   ]
  },
  {
   "cell_type": "code",
   "execution_count": 11,
   "metadata": {
    "scrolled": false
   },
   "outputs": [
    {
     "data": {
      "text/html": [
       "<div>\n",
       "<style scoped>\n",
       "    .dataframe tbody tr th:only-of-type {\n",
       "        vertical-align: middle;\n",
       "    }\n",
       "\n",
       "    .dataframe tbody tr th {\n",
       "        vertical-align: top;\n",
       "    }\n",
       "\n",
       "    .dataframe thead th {\n",
       "        text-align: right;\n",
       "    }\n",
       "</style>\n",
       "<table border=\"1\" class=\"dataframe\">\n",
       "  <thead>\n",
       "    <tr style=\"text-align: right;\">\n",
       "      <th></th>\n",
       "      <th>0</th>\n",
       "      <th>1</th>\n",
       "      <th>2</th>\n",
       "      <th>3</th>\n",
       "      <th>4</th>\n",
       "      <th>5</th>\n",
       "      <th>6</th>\n",
       "      <th>7</th>\n",
       "      <th>8</th>\n",
       "      <th>9</th>\n",
       "      <th>...</th>\n",
       "      <th>31</th>\n",
       "      <th>32</th>\n",
       "      <th>33</th>\n",
       "      <th>34</th>\n",
       "      <th>35</th>\n",
       "      <th>36</th>\n",
       "      <th>37</th>\n",
       "      <th>38</th>\n",
       "      <th>39</th>\n",
       "      <th>emotion</th>\n",
       "    </tr>\n",
       "  </thead>\n",
       "  <tbody>\n",
       "    <tr>\n",
       "      <th>0</th>\n",
       "      <td>-707.226318</td>\n",
       "      <td>68.469788</td>\n",
       "      <td>-11.611320</td>\n",
       "      <td>22.716902</td>\n",
       "      <td>-0.303072</td>\n",
       "      <td>5.822211</td>\n",
       "      <td>-6.081500</td>\n",
       "      <td>-2.655389</td>\n",
       "      <td>-9.960321</td>\n",
       "      <td>-5.103168</td>\n",
       "      <td>...</td>\n",
       "      <td>-2.744597</td>\n",
       "      <td>-2.285304</td>\n",
       "      <td>-2.167415</td>\n",
       "      <td>-2.929328</td>\n",
       "      <td>-1.793007</td>\n",
       "      <td>-0.758816</td>\n",
       "      <td>-2.190662</td>\n",
       "      <td>-2.976669</td>\n",
       "      <td>-2.087532</td>\n",
       "      <td>neutral</td>\n",
       "    </tr>\n",
       "    <tr>\n",
       "      <th>1</th>\n",
       "      <td>-703.383240</td>\n",
       "      <td>70.197769</td>\n",
       "      <td>-15.213277</td>\n",
       "      <td>27.412649</td>\n",
       "      <td>-0.247905</td>\n",
       "      <td>5.837488</td>\n",
       "      <td>-4.831208</td>\n",
       "      <td>-4.569034</td>\n",
       "      <td>-10.607910</td>\n",
       "      <td>-3.820005</td>\n",
       "      <td>...</td>\n",
       "      <td>-3.116829</td>\n",
       "      <td>-1.922442</td>\n",
       "      <td>-2.564388</td>\n",
       "      <td>-2.969680</td>\n",
       "      <td>-0.872745</td>\n",
       "      <td>-1.239757</td>\n",
       "      <td>-3.162743</td>\n",
       "      <td>-2.940819</td>\n",
       "      <td>-2.609301</td>\n",
       "      <td>neutral</td>\n",
       "    </tr>\n",
       "    <tr>\n",
       "      <th>2</th>\n",
       "      <td>-700.794006</td>\n",
       "      <td>70.959595</td>\n",
       "      <td>-11.694939</td>\n",
       "      <td>23.595743</td>\n",
       "      <td>-2.463483</td>\n",
       "      <td>6.388802</td>\n",
       "      <td>-5.021149</td>\n",
       "      <td>-4.631995</td>\n",
       "      <td>-9.482592</td>\n",
       "      <td>-5.633955</td>\n",
       "      <td>...</td>\n",
       "      <td>-2.547276</td>\n",
       "      <td>-2.147709</td>\n",
       "      <td>-1.945596</td>\n",
       "      <td>-2.771029</td>\n",
       "      <td>-1.836579</td>\n",
       "      <td>-1.192164</td>\n",
       "      <td>-2.677400</td>\n",
       "      <td>-3.442389</td>\n",
       "      <td>-2.399600</td>\n",
       "      <td>neutral</td>\n",
       "    </tr>\n",
       "    <tr>\n",
       "      <th>3</th>\n",
       "      <td>-694.826050</td>\n",
       "      <td>69.669205</td>\n",
       "      <td>-9.815083</td>\n",
       "      <td>23.888597</td>\n",
       "      <td>-1.381263</td>\n",
       "      <td>8.620013</td>\n",
       "      <td>-4.805181</td>\n",
       "      <td>-6.055672</td>\n",
       "      <td>-9.544140</td>\n",
       "      <td>-5.380029</td>\n",
       "      <td>...</td>\n",
       "      <td>-2.928294</td>\n",
       "      <td>-2.366574</td>\n",
       "      <td>-3.042785</td>\n",
       "      <td>-3.062823</td>\n",
       "      <td>-1.447675</td>\n",
       "      <td>-0.979923</td>\n",
       "      <td>-2.325146</td>\n",
       "      <td>-3.415248</td>\n",
       "      <td>-3.387120</td>\n",
       "      <td>neutral</td>\n",
       "    </tr>\n",
       "    <tr>\n",
       "      <th>4</th>\n",
       "      <td>-737.437988</td>\n",
       "      <td>77.273209</td>\n",
       "      <td>-11.190391</td>\n",
       "      <td>26.755884</td>\n",
       "      <td>-1.537418</td>\n",
       "      <td>8.085284</td>\n",
       "      <td>-7.015995</td>\n",
       "      <td>-3.006230</td>\n",
       "      <td>-8.947398</td>\n",
       "      <td>-7.313802</td>\n",
       "      <td>...</td>\n",
       "      <td>-2.158252</td>\n",
       "      <td>-1.256279</td>\n",
       "      <td>-2.996467</td>\n",
       "      <td>-1.348934</td>\n",
       "      <td>-0.796627</td>\n",
       "      <td>-1.648554</td>\n",
       "      <td>-1.981015</td>\n",
       "      <td>-3.455514</td>\n",
       "      <td>-3.098281</td>\n",
       "      <td>calm</td>\n",
       "    </tr>\n",
       "    <tr>\n",
       "      <th>5</th>\n",
       "      <td>-716.575806</td>\n",
       "      <td>79.555000</td>\n",
       "      <td>-9.764153</td>\n",
       "      <td>21.266054</td>\n",
       "      <td>1.637321</td>\n",
       "      <td>6.441747</td>\n",
       "      <td>-7.460036</td>\n",
       "      <td>-3.939013</td>\n",
       "      <td>-7.493039</td>\n",
       "      <td>-6.710302</td>\n",
       "      <td>...</td>\n",
       "      <td>-3.157654</td>\n",
       "      <td>-2.751998</td>\n",
       "      <td>-3.946696</td>\n",
       "      <td>-3.424494</td>\n",
       "      <td>-1.561885</td>\n",
       "      <td>-1.812810</td>\n",
       "      <td>-3.330558</td>\n",
       "      <td>-3.927409</td>\n",
       "      <td>-4.398661</td>\n",
       "      <td>calm</td>\n",
       "    </tr>\n",
       "    <tr>\n",
       "      <th>6</th>\n",
       "      <td>-708.541504</td>\n",
       "      <td>81.566536</td>\n",
       "      <td>-14.513219</td>\n",
       "      <td>26.434237</td>\n",
       "      <td>-4.558772</td>\n",
       "      <td>9.789379</td>\n",
       "      <td>-5.627738</td>\n",
       "      <td>-3.479167</td>\n",
       "      <td>-8.197019</td>\n",
       "      <td>-6.570935</td>\n",
       "      <td>...</td>\n",
       "      <td>-2.898625</td>\n",
       "      <td>-1.729264</td>\n",
       "      <td>-3.638450</td>\n",
       "      <td>-3.722741</td>\n",
       "      <td>-2.391207</td>\n",
       "      <td>-1.859560</td>\n",
       "      <td>-2.648129</td>\n",
       "      <td>-4.284513</td>\n",
       "      <td>-3.400892</td>\n",
       "      <td>calm</td>\n",
       "    </tr>\n",
       "    <tr>\n",
       "      <th>7</th>\n",
       "      <td>-709.393677</td>\n",
       "      <td>84.234299</td>\n",
       "      <td>-13.381046</td>\n",
       "      <td>25.719385</td>\n",
       "      <td>-1.773599</td>\n",
       "      <td>8.669509</td>\n",
       "      <td>-5.068448</td>\n",
       "      <td>-4.345946</td>\n",
       "      <td>-7.930424</td>\n",
       "      <td>-6.252995</td>\n",
       "      <td>...</td>\n",
       "      <td>-2.574771</td>\n",
       "      <td>-1.703177</td>\n",
       "      <td>-2.932248</td>\n",
       "      <td>-3.322625</td>\n",
       "      <td>-1.913512</td>\n",
       "      <td>-1.099499</td>\n",
       "      <td>-2.460561</td>\n",
       "      <td>-3.341412</td>\n",
       "      <td>-3.574461</td>\n",
       "      <td>calm</td>\n",
       "    </tr>\n",
       "    <tr>\n",
       "      <th>8</th>\n",
       "      <td>-746.074280</td>\n",
       "      <td>87.865776</td>\n",
       "      <td>-12.613696</td>\n",
       "      <td>27.847467</td>\n",
       "      <td>-2.255568</td>\n",
       "      <td>9.403696</td>\n",
       "      <td>-8.469919</td>\n",
       "      <td>-1.561309</td>\n",
       "      <td>-5.440102</td>\n",
       "      <td>-6.947087</td>\n",
       "      <td>...</td>\n",
       "      <td>-4.273163</td>\n",
       "      <td>-2.579099</td>\n",
       "      <td>-3.169269</td>\n",
       "      <td>-4.250158</td>\n",
       "      <td>-0.516558</td>\n",
       "      <td>-2.046174</td>\n",
       "      <td>-3.282803</td>\n",
       "      <td>-4.088738</td>\n",
       "      <td>-3.995429</td>\n",
       "      <td>calm</td>\n",
       "    </tr>\n",
       "    <tr>\n",
       "      <th>9</th>\n",
       "      <td>-709.888733</td>\n",
       "      <td>83.872131</td>\n",
       "      <td>-16.015291</td>\n",
       "      <td>24.925694</td>\n",
       "      <td>-3.676042</td>\n",
       "      <td>7.734766</td>\n",
       "      <td>-8.870955</td>\n",
       "      <td>-4.643577</td>\n",
       "      <td>-7.436958</td>\n",
       "      <td>-6.956243</td>\n",
       "      <td>...</td>\n",
       "      <td>-3.525422</td>\n",
       "      <td>-3.342165</td>\n",
       "      <td>-3.688268</td>\n",
       "      <td>-4.542849</td>\n",
       "      <td>-1.813079</td>\n",
       "      <td>-1.500344</td>\n",
       "      <td>-2.933184</td>\n",
       "      <td>-3.796410</td>\n",
       "      <td>-4.100177</td>\n",
       "      <td>calm</td>\n",
       "    </tr>\n",
       "  </tbody>\n",
       "</table>\n",
       "<p>10 rows × 41 columns</p>\n",
       "</div>"
      ],
      "text/plain": [
       "            0          1          2          3         4         5         6  \\\n",
       "0 -707.226318  68.469788 -11.611320  22.716902 -0.303072  5.822211 -6.081500   \n",
       "1 -703.383240  70.197769 -15.213277  27.412649 -0.247905  5.837488 -4.831208   \n",
       "2 -700.794006  70.959595 -11.694939  23.595743 -2.463483  6.388802 -5.021149   \n",
       "3 -694.826050  69.669205  -9.815083  23.888597 -1.381263  8.620013 -4.805181   \n",
       "4 -737.437988  77.273209 -11.190391  26.755884 -1.537418  8.085284 -7.015995   \n",
       "5 -716.575806  79.555000  -9.764153  21.266054  1.637321  6.441747 -7.460036   \n",
       "6 -708.541504  81.566536 -14.513219  26.434237 -4.558772  9.789379 -5.627738   \n",
       "7 -709.393677  84.234299 -13.381046  25.719385 -1.773599  8.669509 -5.068448   \n",
       "8 -746.074280  87.865776 -12.613696  27.847467 -2.255568  9.403696 -8.469919   \n",
       "9 -709.888733  83.872131 -16.015291  24.925694 -3.676042  7.734766 -8.870955   \n",
       "\n",
       "          7          8         9  ...        31        32        33        34  \\\n",
       "0 -2.655389  -9.960321 -5.103168  ... -2.744597 -2.285304 -2.167415 -2.929328   \n",
       "1 -4.569034 -10.607910 -3.820005  ... -3.116829 -1.922442 -2.564388 -2.969680   \n",
       "2 -4.631995  -9.482592 -5.633955  ... -2.547276 -2.147709 -1.945596 -2.771029   \n",
       "3 -6.055672  -9.544140 -5.380029  ... -2.928294 -2.366574 -3.042785 -3.062823   \n",
       "4 -3.006230  -8.947398 -7.313802  ... -2.158252 -1.256279 -2.996467 -1.348934   \n",
       "5 -3.939013  -7.493039 -6.710302  ... -3.157654 -2.751998 -3.946696 -3.424494   \n",
       "6 -3.479167  -8.197019 -6.570935  ... -2.898625 -1.729264 -3.638450 -3.722741   \n",
       "7 -4.345946  -7.930424 -6.252995  ... -2.574771 -1.703177 -2.932248 -3.322625   \n",
       "8 -1.561309  -5.440102 -6.947087  ... -4.273163 -2.579099 -3.169269 -4.250158   \n",
       "9 -4.643577  -7.436958 -6.956243  ... -3.525422 -3.342165 -3.688268 -4.542849   \n",
       "\n",
       "         35        36        37        38        39  emotion  \n",
       "0 -1.793007 -0.758816 -2.190662 -2.976669 -2.087532  neutral  \n",
       "1 -0.872745 -1.239757 -3.162743 -2.940819 -2.609301  neutral  \n",
       "2 -1.836579 -1.192164 -2.677400 -3.442389 -2.399600  neutral  \n",
       "3 -1.447675 -0.979923 -2.325146 -3.415248 -3.387120  neutral  \n",
       "4 -0.796627 -1.648554 -1.981015 -3.455514 -3.098281     calm  \n",
       "5 -1.561885 -1.812810 -3.330558 -3.927409 -4.398661     calm  \n",
       "6 -2.391207 -1.859560 -2.648129 -4.284513 -3.400892     calm  \n",
       "7 -1.913512 -1.099499 -2.460561 -3.341412 -3.574461     calm  \n",
       "8 -0.516558 -2.046174 -3.282803 -4.088738 -3.995429     calm  \n",
       "9 -1.813079 -1.500344 -2.933184 -3.796410 -4.100177     calm  \n",
       "\n",
       "[10 rows x 41 columns]"
      ]
     },
     "execution_count": 11,
     "metadata": {},
     "output_type": "execute_result"
    }
   ],
   "source": [
    "#renaming the label column to emotion, store the attributes and label into dataframe\n",
    "y=y.rename(columns= {0: 'emotion'})\n",
    "data = pd.concat([X, y], axis =1)\n",
    "#view the first 10 record\n",
    "data.head(10)"
   ]
  },
  {
   "cell_type": "code",
   "execution_count": 12,
   "metadata": {
    "scrolled": false
   },
   "outputs": [
    {
     "data": {
      "text/html": [
       "<div>\n",
       "<style scoped>\n",
       "    .dataframe tbody tr th:only-of-type {\n",
       "        vertical-align: middle;\n",
       "    }\n",
       "\n",
       "    .dataframe tbody tr th {\n",
       "        vertical-align: top;\n",
       "    }\n",
       "\n",
       "    .dataframe thead th {\n",
       "        text-align: right;\n",
       "    }\n",
       "</style>\n",
       "<table border=\"1\" class=\"dataframe\">\n",
       "  <thead>\n",
       "    <tr style=\"text-align: right;\">\n",
       "      <th></th>\n",
       "      <th>0</th>\n",
       "      <th>1</th>\n",
       "      <th>2</th>\n",
       "      <th>3</th>\n",
       "      <th>4</th>\n",
       "      <th>5</th>\n",
       "      <th>6</th>\n",
       "      <th>7</th>\n",
       "      <th>8</th>\n",
       "      <th>9</th>\n",
       "      <th>...</th>\n",
       "      <th>31</th>\n",
       "      <th>32</th>\n",
       "      <th>33</th>\n",
       "      <th>34</th>\n",
       "      <th>35</th>\n",
       "      <th>36</th>\n",
       "      <th>37</th>\n",
       "      <th>38</th>\n",
       "      <th>39</th>\n",
       "      <th>emotion</th>\n",
       "    </tr>\n",
       "  </thead>\n",
       "  <tbody>\n",
       "    <tr>\n",
       "      <th>381</th>\n",
       "      <td>-704.217773</td>\n",
       "      <td>96.894836</td>\n",
       "      <td>-7.962417</td>\n",
       "      <td>30.597338</td>\n",
       "      <td>4.512605</td>\n",
       "      <td>5.855523</td>\n",
       "      <td>-3.838742</td>\n",
       "      <td>-7.965760</td>\n",
       "      <td>-3.256197</td>\n",
       "      <td>-1.033767</td>\n",
       "      <td>...</td>\n",
       "      <td>-0.647436</td>\n",
       "      <td>0.303341</td>\n",
       "      <td>0.082242</td>\n",
       "      <td>1.063451</td>\n",
       "      <td>-1.798114</td>\n",
       "      <td>-2.951135</td>\n",
       "      <td>-2.436602</td>\n",
       "      <td>-2.182701</td>\n",
       "      <td>0.184276</td>\n",
       "      <td>sad</td>\n",
       "    </tr>\n",
       "    <tr>\n",
       "      <th>803</th>\n",
       "      <td>-690.528381</td>\n",
       "      <td>61.745071</td>\n",
       "      <td>-10.077102</td>\n",
       "      <td>26.556133</td>\n",
       "      <td>-17.883801</td>\n",
       "      <td>6.126415</td>\n",
       "      <td>-15.518837</td>\n",
       "      <td>-7.512677</td>\n",
       "      <td>-2.421874</td>\n",
       "      <td>-7.970224</td>\n",
       "      <td>...</td>\n",
       "      <td>3.736036</td>\n",
       "      <td>3.803792</td>\n",
       "      <td>2.554111</td>\n",
       "      <td>1.913296</td>\n",
       "      <td>1.566291</td>\n",
       "      <td>1.159302</td>\n",
       "      <td>1.784285</td>\n",
       "      <td>1.247074</td>\n",
       "      <td>-0.273714</td>\n",
       "      <td>sad</td>\n",
       "    </tr>\n",
       "    <tr>\n",
       "      <th>1257</th>\n",
       "      <td>-522.547852</td>\n",
       "      <td>71.594673</td>\n",
       "      <td>-27.239637</td>\n",
       "      <td>25.742672</td>\n",
       "      <td>-9.833568</td>\n",
       "      <td>-2.802426</td>\n",
       "      <td>-11.821802</td>\n",
       "      <td>-3.805766</td>\n",
       "      <td>-14.900043</td>\n",
       "      <td>-6.055284</td>\n",
       "      <td>...</td>\n",
       "      <td>-1.016810</td>\n",
       "      <td>1.103800</td>\n",
       "      <td>-1.795943</td>\n",
       "      <td>-0.948975</td>\n",
       "      <td>-0.124041</td>\n",
       "      <td>-0.212853</td>\n",
       "      <td>-0.748886</td>\n",
       "      <td>-2.379764</td>\n",
       "      <td>-1.255134</td>\n",
       "      <td>surprise</td>\n",
       "    </tr>\n",
       "    <tr>\n",
       "      <th>294</th>\n",
       "      <td>-666.343628</td>\n",
       "      <td>71.613968</td>\n",
       "      <td>-20.362463</td>\n",
       "      <td>20.612637</td>\n",
       "      <td>-5.400164</td>\n",
       "      <td>-2.558363</td>\n",
       "      <td>-4.565088</td>\n",
       "      <td>-4.714737</td>\n",
       "      <td>-7.842060</td>\n",
       "      <td>-3.706572</td>\n",
       "      <td>...</td>\n",
       "      <td>2.350595</td>\n",
       "      <td>3.612947</td>\n",
       "      <td>2.823682</td>\n",
       "      <td>3.547302</td>\n",
       "      <td>2.147167</td>\n",
       "      <td>0.255657</td>\n",
       "      <td>0.671982</td>\n",
       "      <td>1.125031</td>\n",
       "      <td>3.133790</td>\n",
       "      <td>surprise</td>\n",
       "    </tr>\n",
       "    <tr>\n",
       "      <th>670</th>\n",
       "      <td>-689.817627</td>\n",
       "      <td>75.740128</td>\n",
       "      <td>-18.727385</td>\n",
       "      <td>23.561630</td>\n",
       "      <td>-13.044191</td>\n",
       "      <td>6.547275</td>\n",
       "      <td>-10.943681</td>\n",
       "      <td>-8.943235</td>\n",
       "      <td>-5.428520</td>\n",
       "      <td>-10.712025</td>\n",
       "      <td>...</td>\n",
       "      <td>3.721370</td>\n",
       "      <td>5.734661</td>\n",
       "      <td>4.009685</td>\n",
       "      <td>4.273960</td>\n",
       "      <td>2.865510</td>\n",
       "      <td>3.632054</td>\n",
       "      <td>4.025000</td>\n",
       "      <td>-0.547100</td>\n",
       "      <td>-2.214227</td>\n",
       "      <td>calm</td>\n",
       "    </tr>\n",
       "    <tr>\n",
       "      <th>1233</th>\n",
       "      <td>-391.282104</td>\n",
       "      <td>64.823883</td>\n",
       "      <td>-44.410015</td>\n",
       "      <td>24.159870</td>\n",
       "      <td>-6.644214</td>\n",
       "      <td>-2.711426</td>\n",
       "      <td>-12.813751</td>\n",
       "      <td>-5.695066</td>\n",
       "      <td>-15.173285</td>\n",
       "      <td>-2.730457</td>\n",
       "      <td>...</td>\n",
       "      <td>2.229800</td>\n",
       "      <td>2.530826</td>\n",
       "      <td>2.601278</td>\n",
       "      <td>1.863973</td>\n",
       "      <td>2.048487</td>\n",
       "      <td>1.000649</td>\n",
       "      <td>0.699412</td>\n",
       "      <td>-0.908060</td>\n",
       "      <td>-0.728327</td>\n",
       "      <td>angry</td>\n",
       "    </tr>\n",
       "    <tr>\n",
       "      <th>929</th>\n",
       "      <td>-495.388916</td>\n",
       "      <td>52.601246</td>\n",
       "      <td>-18.456188</td>\n",
       "      <td>16.498810</td>\n",
       "      <td>-14.867596</td>\n",
       "      <td>-2.611890</td>\n",
       "      <td>-7.134120</td>\n",
       "      <td>-8.411621</td>\n",
       "      <td>-9.924981</td>\n",
       "      <td>-1.064174</td>\n",
       "      <td>...</td>\n",
       "      <td>2.686933</td>\n",
       "      <td>1.627410</td>\n",
       "      <td>1.205594</td>\n",
       "      <td>0.446363</td>\n",
       "      <td>1.528806</td>\n",
       "      <td>1.660067</td>\n",
       "      <td>0.773370</td>\n",
       "      <td>0.014139</td>\n",
       "      <td>1.542143</td>\n",
       "      <td>angry</td>\n",
       "    </tr>\n",
       "    <tr>\n",
       "      <th>1023</th>\n",
       "      <td>-773.995911</td>\n",
       "      <td>75.553070</td>\n",
       "      <td>-11.395932</td>\n",
       "      <td>20.213110</td>\n",
       "      <td>-14.209482</td>\n",
       "      <td>5.442740</td>\n",
       "      <td>-7.901574</td>\n",
       "      <td>-11.984410</td>\n",
       "      <td>-7.176928</td>\n",
       "      <td>-2.538752</td>\n",
       "      <td>...</td>\n",
       "      <td>-2.637724</td>\n",
       "      <td>-4.223076</td>\n",
       "      <td>-2.058306</td>\n",
       "      <td>-0.066105</td>\n",
       "      <td>2.260533</td>\n",
       "      <td>4.989973</td>\n",
       "      <td>6.916315</td>\n",
       "      <td>6.922174</td>\n",
       "      <td>4.917077</td>\n",
       "      <td>neutral</td>\n",
       "    </tr>\n",
       "    <tr>\n",
       "      <th>559</th>\n",
       "      <td>-372.023163</td>\n",
       "      <td>45.459175</td>\n",
       "      <td>-48.178139</td>\n",
       "      <td>13.248820</td>\n",
       "      <td>-12.808140</td>\n",
       "      <td>-11.401958</td>\n",
       "      <td>-13.969151</td>\n",
       "      <td>-17.541628</td>\n",
       "      <td>-15.476977</td>\n",
       "      <td>-2.885039</td>\n",
       "      <td>...</td>\n",
       "      <td>-0.481321</td>\n",
       "      <td>-1.952549</td>\n",
       "      <td>-1.362333</td>\n",
       "      <td>0.921313</td>\n",
       "      <td>-0.893574</td>\n",
       "      <td>0.421132</td>\n",
       "      <td>0.761447</td>\n",
       "      <td>-0.926614</td>\n",
       "      <td>0.708562</td>\n",
       "      <td>happy</td>\n",
       "    </tr>\n",
       "    <tr>\n",
       "      <th>1116</th>\n",
       "      <td>-627.018921</td>\n",
       "      <td>75.802078</td>\n",
       "      <td>-22.982471</td>\n",
       "      <td>33.156944</td>\n",
       "      <td>-10.361494</td>\n",
       "      <td>10.556851</td>\n",
       "      <td>-12.686422</td>\n",
       "      <td>-5.615674</td>\n",
       "      <td>-5.369403</td>\n",
       "      <td>-4.663747</td>\n",
       "      <td>...</td>\n",
       "      <td>-2.226835</td>\n",
       "      <td>1.424883</td>\n",
       "      <td>1.533700</td>\n",
       "      <td>-0.304384</td>\n",
       "      <td>3.218005</td>\n",
       "      <td>1.711251</td>\n",
       "      <td>1.458720</td>\n",
       "      <td>0.503725</td>\n",
       "      <td>2.641086</td>\n",
       "      <td>fear</td>\n",
       "    </tr>\n",
       "  </tbody>\n",
       "</table>\n",
       "<p>10 rows × 41 columns</p>\n",
       "</div>"
      ],
      "text/plain": [
       "               0          1          2          3          4          5  \\\n",
       "381  -704.217773  96.894836  -7.962417  30.597338   4.512605   5.855523   \n",
       "803  -690.528381  61.745071 -10.077102  26.556133 -17.883801   6.126415   \n",
       "1257 -522.547852  71.594673 -27.239637  25.742672  -9.833568  -2.802426   \n",
       "294  -666.343628  71.613968 -20.362463  20.612637  -5.400164  -2.558363   \n",
       "670  -689.817627  75.740128 -18.727385  23.561630 -13.044191   6.547275   \n",
       "1233 -391.282104  64.823883 -44.410015  24.159870  -6.644214  -2.711426   \n",
       "929  -495.388916  52.601246 -18.456188  16.498810 -14.867596  -2.611890   \n",
       "1023 -773.995911  75.553070 -11.395932  20.213110 -14.209482   5.442740   \n",
       "559  -372.023163  45.459175 -48.178139  13.248820 -12.808140 -11.401958   \n",
       "1116 -627.018921  75.802078 -22.982471  33.156944 -10.361494  10.556851   \n",
       "\n",
       "              6          7          8          9  ...        31        32  \\\n",
       "381   -3.838742  -7.965760  -3.256197  -1.033767  ... -0.647436  0.303341   \n",
       "803  -15.518837  -7.512677  -2.421874  -7.970224  ...  3.736036  3.803792   \n",
       "1257 -11.821802  -3.805766 -14.900043  -6.055284  ... -1.016810  1.103800   \n",
       "294   -4.565088  -4.714737  -7.842060  -3.706572  ...  2.350595  3.612947   \n",
       "670  -10.943681  -8.943235  -5.428520 -10.712025  ...  3.721370  5.734661   \n",
       "1233 -12.813751  -5.695066 -15.173285  -2.730457  ...  2.229800  2.530826   \n",
       "929   -7.134120  -8.411621  -9.924981  -1.064174  ...  2.686933  1.627410   \n",
       "1023  -7.901574 -11.984410  -7.176928  -2.538752  ... -2.637724 -4.223076   \n",
       "559  -13.969151 -17.541628 -15.476977  -2.885039  ... -0.481321 -1.952549   \n",
       "1116 -12.686422  -5.615674  -5.369403  -4.663747  ... -2.226835  1.424883   \n",
       "\n",
       "            33        34        35        36        37        38        39  \\\n",
       "381   0.082242  1.063451 -1.798114 -2.951135 -2.436602 -2.182701  0.184276   \n",
       "803   2.554111  1.913296  1.566291  1.159302  1.784285  1.247074 -0.273714   \n",
       "1257 -1.795943 -0.948975 -0.124041 -0.212853 -0.748886 -2.379764 -1.255134   \n",
       "294   2.823682  3.547302  2.147167  0.255657  0.671982  1.125031  3.133790   \n",
       "670   4.009685  4.273960  2.865510  3.632054  4.025000 -0.547100 -2.214227   \n",
       "1233  2.601278  1.863973  2.048487  1.000649  0.699412 -0.908060 -0.728327   \n",
       "929   1.205594  0.446363  1.528806  1.660067  0.773370  0.014139  1.542143   \n",
       "1023 -2.058306 -0.066105  2.260533  4.989973  6.916315  6.922174  4.917077   \n",
       "559  -1.362333  0.921313 -0.893574  0.421132  0.761447 -0.926614  0.708562   \n",
       "1116  1.533700 -0.304384  3.218005  1.711251  1.458720  0.503725  2.641086   \n",
       "\n",
       "       emotion  \n",
       "381        sad  \n",
       "803        sad  \n",
       "1257  surprise  \n",
       "294   surprise  \n",
       "670       calm  \n",
       "1233     angry  \n",
       "929      angry  \n",
       "1023   neutral  \n",
       "559      happy  \n",
       "1116      fear  \n",
       "\n",
       "[10 rows x 41 columns]"
      ]
     },
     "execution_count": 12,
     "metadata": {},
     "output_type": "execute_result"
    }
   ],
   "source": [
    "#to shuffle the data\n",
    "data = data.reindex(np.random.permutation(data.index))\n",
    "#view the first 10 record after shuffle\n",
    "data.head(10)"
   ]
  },
  {
   "cell_type": "code",
   "execution_count": 13,
   "metadata": {
    "scrolled": false
   },
   "outputs": [
    {
     "data": {
      "text/plain": [
       "(1440, 41)"
      ]
     },
     "execution_count": 13,
     "metadata": {},
     "output_type": "execute_result"
    }
   ],
   "source": [
    "# save the shuffled data into csv file for future use.\n",
    "if os.path.isfile(CSV+\"mfcc_feature.csv\"):\n",
    "    print (\"File already exist! Delete it first from file system if you want to replace old data\")\n",
    "else:\n",
    "    data.to_csv(CSV+\"mfcc_feature.csv\")\n",
    "#to view the data dimension \n",
    "data.shape"
   ]
  },
  {
   "cell_type": "code",
   "execution_count": 14,
   "metadata": {
    "scrolled": true
   },
   "outputs": [
    {
     "data": {
      "text/plain": [
       "Index([        0,         1,         2,         3,         4,         5,\n",
       "               6,         7,         8,         9,        10,        11,\n",
       "              12,        13,        14,        15,        16,        17,\n",
       "              18,        19,        20,        21,        22,        23,\n",
       "              24,        25,        26,        27,        28,        29,\n",
       "              30,        31,        32,        33,        34,        35,\n",
       "              36,        37,        38,        39, 'emotion'],\n",
       "      dtype='object')"
      ]
     },
     "execution_count": 14,
     "metadata": {},
     "output_type": "execute_result"
    }
   ],
   "source": [
    "#check all the fields(columns) in the data\n",
    "data.columns"
   ]
  },
  {
   "cell_type": "code",
   "execution_count": 15,
   "metadata": {},
   "outputs": [
    {
     "data": {
      "text/plain": [
       "((1440, 40), (1440,))"
      ]
     },
     "execution_count": 15,
     "metadata": {},
     "output_type": "execute_result"
    }
   ],
   "source": [
    "#separating features and target outputs\n",
    "#X variable contains attributes while y variable contains corresponding labels.\n",
    "X = data.drop('emotion', axis = 1).values\n",
    "y = data['emotion'].values\n",
    "#check the shape of x and y\n",
    "X.shape, y.shape"
   ]
  },
  {
   "cell_type": "markdown",
   "metadata": {},
   "source": [
    "## SVM (Support Vector Machine) Classifier and Fit/Train the Model\n",
    "Implementing SVM with Scikit-Learn"
   ]
  },
  {
   "cell_type": "markdown",
   "metadata": {},
   "source": [
    "To divide data into training and test sets. The model_selection library of the Scikit-Learn library contains the train_test_split method which is used to divide data into training and test sets.\n",
    "\n",
    "to train SVM on the training data. Scikit-Learn contains the svm library, which contains built-in classes for different SVM algorithms. "
   ]
  },
  {
   "cell_type": "code",
   "execution_count": 16,
   "metadata": {},
   "outputs": [],
   "source": [
    "X_train, X_test, y_train, y_test = train_test_split(X, y, test_size = 0.20)\n",
    "svclassifier = SVC(kernel = 'linear')"
   ]
  },
  {
   "cell_type": "code",
   "execution_count": 17,
   "metadata": {},
   "outputs": [
    {
     "data": {
      "text/plain": [
       "SVC(kernel='linear')"
      ]
     },
     "execution_count": 17,
     "metadata": {},
     "output_type": "execute_result"
    }
   ],
   "source": [
    "svclassifier.fit(X_train, y_train)"
   ]
  },
  {
   "cell_type": "code",
   "execution_count": 18,
   "metadata": {},
   "outputs": [],
   "source": [
    "y_pred = svclassifier.predict(X_test)"
   ]
  },
  {
   "cell_type": "code",
   "execution_count": 19,
   "metadata": {
    "scrolled": false
   },
   "outputs": [
    {
     "name": "stdout",
     "output_type": "stream",
     "text": [
      "Accuracy: 44.79%\n",
      "Statistics:\n",
      "              precision    recall  f1-score   support\n",
      "\n",
      "       angry       0.54      0.61      0.57        36\n",
      "        calm       0.55      0.65      0.60        48\n",
      "     disgust       0.42      0.44      0.43        32\n",
      "        fear       0.46      0.47      0.46        45\n",
      "       happy       0.36      0.39      0.37        36\n",
      "     neutral       0.35      0.35      0.35        17\n",
      "         sad       0.26      0.24      0.25        37\n",
      "    surprise       0.55      0.32      0.41        37\n",
      "\n",
      "    accuracy                           0.45       288\n",
      "   macro avg       0.44      0.43      0.43       288\n",
      "weighted avg       0.45      0.45      0.44       288\n",
      "\n",
      "Confusion Matrix:\n",
      "[[22  2  4  2  1  1  1  3]\n",
      " [ 0 31  2  1  1  5  7  1]\n",
      " [ 8  1 14  1  4  0  3  1]\n",
      " [ 4  2  2 21 11  0  5  0]\n",
      " [ 3  0  2  8 14  0  4  5]\n",
      " [ 0  6  1  0  1  6  3  0]\n",
      " [ 1 13  2  8  2  2  9  0]\n",
      " [ 3  1  6  5  5  3  2 12]]\n"
     ]
    }
   ],
   "source": [
    "accuracy=accuracy_score(y_test, y_pred)\n",
    "#Print the accuracy\n",
    "print(\"Accuracy: {:.2f}%\".format(accuracy*100))\n",
    "#Print the report\n",
    "print(\"Statistics:\")\n",
    "print(classification_report(y_test,y_pred))\n",
    "\n",
    "print(\"Confusion Matrix:\")\n",
    "matrix = confusion_matrix(y_test,y_pred)\n",
    "print (matrix)\n"
   ]
  },
  {
   "cell_type": "code",
   "execution_count": 20,
   "metadata": {
    "scrolled": false
   },
   "outputs": [
    {
     "name": "stdout",
     "output_type": "stream",
     "text": [
      "Train Accuracy: 64.93%\n",
      "Test Accuracy: 44.79%\n"
     ]
    }
   ],
   "source": [
    "#calculate and display the train and test accuracy\n",
    "train_accuracy = float(svclassifier.score(X_train, y_train)*100)\n",
    "print(\"Train Accuracy: {:.2f}%\".format(train_accuracy))\n",
    "test_accuracy = float(svclassifier.score(X_test, y_test)*100)\n",
    "print(\"Test Accuracy: {:.2f}%\".format(test_accuracy))"
   ]
  },
  {
   "cell_type": "markdown",
   "metadata": {},
   "source": [
    "## Cross-Validation\n",
    "after calculating the training accuracy and comparing with testing accuracy, to check for overfitting of data.\n",
    "5-fold cross validation of the dataset with the SVC classifier."
   ]
  },
  {
   "cell_type": "code",
   "execution_count": 21,
   "metadata": {},
   "outputs": [
    {
     "name": "stdout",
     "output_type": "stream",
     "text": [
      "[0.44097222 0.46875    0.47222222 0.44791667 0.45138889]\n"
     ]
    }
   ],
   "source": [
    "# no. of folds cv = 5\n",
    "cv_results = cross_val_score(svclassifier, X, y, cv = 5)\n",
    "print(cv_results)"
   ]
  },
  {
   "cell_type": "markdown",
   "metadata": {},
   "source": [
    "## Scaling\n",
    "\n",
    "When performing the linear SVM classification, it is often helpful to normalize the training data and scale the test data with the mean and standard deviation of training data."
   ]
  },
  {
   "cell_type": "code",
   "execution_count": 22,
   "metadata": {},
   "outputs": [],
   "source": [
    "#splitting dataset into train/ test sets\n",
    "X_train, X_test, y_train, y_test = train_test_split(X, y, test_size = 0.20)"
   ]
  },
  {
   "cell_type": "code",
   "execution_count": 23,
   "metadata": {},
   "outputs": [],
   "source": [
    "# Setup the pipeline steps and create the pipeline and fit the pipeline to the training set: svc_scaled\n",
    "steps = [('scaler', StandardScaler()),\n",
    "        ('SVM', SVC())]\n",
    "pipeline = Pipeline(steps)\n",
    "svc_scaled = pipeline.fit(X_train, y_train)"
   ]
  },
  {
   "cell_type": "code",
   "execution_count": 24,
   "metadata": {
    "scrolled": true
   },
   "outputs": [
    {
     "name": "stdout",
     "output_type": "stream",
     "text": [
      "Accuracy with Scaling: 53.82%\n",
      "Accuracy without Scaling: 40.97%\n"
     ]
    }
   ],
   "source": [
    "# fit a classifier to the unscaled data, Compute and print metrics\n",
    "svc_unscaled = SVC(kernel = 'linear').fit(X_train, y_train)\n",
    "Scaling_accuracy = float(svc_scaled.score(X_test, y_test)*100)\n",
    "Non_Scaling_accuracy = float(svc_unscaled.score(X_test, y_test)*100)\n",
    "print('Accuracy with Scaling: {:.2f}%'.format(Scaling_accuracy))\n",
    "print('Accuracy without Scaling: {:.2f}%'.format(Non_Scaling_accuracy))"
   ]
  },
  {
   "cell_type": "markdown",
   "metadata": {},
   "source": [
    "## Generalization check\n",
    "Checking for overfitting or underfitting by comparing the training and testing scores of the model"
   ]
  },
  {
   "cell_type": "code",
   "execution_count": 25,
   "metadata": {},
   "outputs": [
    {
     "name": "stdout",
     "output_type": "stream",
     "text": [
      "Train Accuracy: 75.52%\n",
      "Test Accuracy: 53.82%\n"
     ]
    }
   ],
   "source": [
    "train_accuracy = float(svc_scaled.score(X_train, y_train)*100)\n",
    "print(\"Train Accuracy: {:.2f}%\".format(train_accuracy))\n",
    "test_accuracy = float(svc_scaled.score(X_test, y_test)*100)\n",
    "print(\"Test Accuracy: {:.2f}%\".format(test_accuracy))"
   ]
  },
  {
   "cell_type": "code",
   "execution_count": 26,
   "metadata": {},
   "outputs": [],
   "source": [
    "scaled_predictions = svc_scaled.predict(X_test)"
   ]
  },
  {
   "cell_type": "code",
   "execution_count": 27,
   "metadata": {
    "scrolled": false
   },
   "outputs": [
    {
     "name": "stdout",
     "output_type": "stream",
     "text": [
      "Accuracy: 53.82%\n",
      "Statistics:\n",
      "              precision    recall  f1-score   support\n",
      "\n",
      "       angry       0.74      0.59      0.66        39\n",
      "        calm       0.58      0.87      0.69        38\n",
      "     disgust       0.41      0.61      0.49        28\n",
      "        fear       0.38      0.55      0.45        31\n",
      "       happy       0.55      0.27      0.36        45\n",
      "     neutral       0.43      0.16      0.23        19\n",
      "         sad       0.57      0.43      0.49        47\n",
      "    surprise       0.60      0.73      0.66        41\n",
      "\n",
      "    accuracy                           0.54       288\n",
      "   macro avg       0.53      0.52      0.50       288\n",
      "weighted avg       0.55      0.54      0.52       288\n",
      "\n",
      "Confusion Matrix:\n"
     ]
    },
    {
     "data": {
      "image/png": "[encoded data removed]",
      "text/plain": [
       "<Figure size 432x288 with 2 Axes>"
      ]
     },
     "metadata": {
      "needs_background": "light"
     },
     "output_type": "display_data"
    }
   ],
   "source": [
    "accuracy=accuracy_score(y_test, scaled_predictions)\n",
    "\n",
    "#Print the accuracy\n",
    "print(\"Accuracy: {:.2f}%\".format(accuracy*100))\n",
    "\n",
    "#Print the report\n",
    "print(\"Statistics:\")\n",
    "print(classification_report(y_test,scaled_predictions))\n",
    "\n",
    "print(\"Confusion Matrix:\")\n",
    "cm = confusion_matrix(y_test,scaled_predictions)\n",
    "df_cm = pd.DataFrame(cm)\n",
    "sn.heatmap(df_cm, annot=True, fmt='')\n",
    "plt.show()"
   ]
  },
  {
   "cell_type": "code",
   "execution_count": 28,
   "metadata": {},
   "outputs": [
    {
     "name": "stdout",
     "output_type": "stream",
     "text": [
      "[0.60763889 0.53125    0.54861111 0.57638889 0.57291667]\n"
     ]
    }
   ],
   "source": [
    "cv_results = cross_val_score(svc_scaled, X, y, cv = 5)\n",
    "print(cv_results)"
   ]
  },
  {
   "cell_type": "markdown",
   "metadata": {},
   "source": [
    "## Summary\n",
    "\n",
    "By making use of the soundfile library to read the sound files, extracting features from each file and applying SVM Classifier, the model delivered an accuracy of 54.51."
   ]
  },
  {
   "cell_type": "code",
   "execution_count": null,
   "metadata": {},
   "outputs": [],
   "source": []
  }
 ],
 "metadata": {
  "kernelspec": {
   "display_name": "Python 3",
   "language": "python",
   "name": "python3"
  },
  "language_info": {
   "codemirror_mode": {
    "name": "ipython",
    "version": 3
   },
   "file_extension": ".py",
   "mimetype": "text/x-python",
   "name": "python",
   "nbconvert_exporter": "python",
   "pygments_lexer": "ipython3",
   "version": "3.8.5"
  }
 },
 "nbformat": 4,
 "nbformat_minor": 4
}
