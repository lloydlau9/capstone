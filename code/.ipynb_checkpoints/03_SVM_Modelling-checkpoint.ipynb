{
 "cells": [
  {
   "cell_type": "markdown",
   "metadata": {},
   "source": [
    "#  Support Vector Machines (SVM) Modelling "
   ]
  },
  {
   "cell_type": "markdown",
   "metadata": {},
   "source": [
    "Support Vector Machines (SVM) with non-linear kernels are often the most successfully applied algorithms for speech emotion recognition. \n",
    "\n",
    "A SVM using non-linear kernel transforms the input feature vectors into a higher dimensional feature space using a kernel mapping function. By choosing appropriate non-linear kernels functions, classifiers that are non-linear in the original space can become linear in the feature space."
   ]
  },
  {
   "cell_type": "markdown",
   "metadata": {},
   "source": [
    "## Downloading Libraries"
   ]
  },
  {
   "cell_type": "code",
   "execution_count": 1,
   "metadata": {},
   "outputs": [],
   "source": [
    "#!pip install librosa soundfile numpy sklearn pyaudio"
   ]
  },
  {
   "cell_type": "code",
   "execution_count": 2,
   "metadata": {},
   "outputs": [],
   "source": [
    "#!pip install soundfile"
   ]
  },
  {
   "cell_type": "code",
   "execution_count": 3,
   "metadata": {},
   "outputs": [],
   "source": [
    "# pip install seaborn"
   ]
  },
  {
   "cell_type": "markdown",
   "metadata": {},
   "source": [
    "## Libraries Import"
   ]
  },
  {
   "cell_type": "code",
   "execution_count": 4,
   "metadata": {},
   "outputs": [],
   "source": [
    "# Import our libraries\n",
    "\n",
    "import os, glob, pickle\n",
    "import librosa\n",
    "import time\n",
    "import numpy as np\n",
    "import pandas as pd\n",
    "import matplotlib.pyplot as plt\n",
    "from sklearn.model_selection import train_test_split\n",
    "from sklearn.svm import SVC\n",
    "import time\n",
    "from sklearn.metrics import accuracy_score\n",
    "from sklearn.metrics import classification_report\n",
    "from sklearn.metrics import confusion_matrix\n",
    "\n",
    "from sklearn.svm import SVC\n",
    "import seaborn as sns\n",
    "from sklearn.model_selection import cross_val_score\n",
    "import librosa.display\n",
    "from sklearn.preprocessing import StandardScaler\n",
    "from sklearn.pipeline import Pipeline\n",
    "import soundfile\n",
    "import os.path\n",
    "from sklearn.preprocessing import LabelEncoder\n",
    "from keras.utils import np_utils, to_categorical"
   ]
  },
  {
   "cell_type": "code",
   "execution_count": 5,
   "metadata": {
    "scrolled": true
   },
   "outputs": [
    {
     "data": {
      "text/html": [
       "<div>\n",
       "<style scoped>\n",
       "    .dataframe tbody tr th:only-of-type {\n",
       "        vertical-align: middle;\n",
       "    }\n",
       "\n",
       "    .dataframe tbody tr th {\n",
       "        vertical-align: top;\n",
       "    }\n",
       "\n",
       "    .dataframe thead th {\n",
       "        text-align: right;\n",
       "    }\n",
       "</style>\n",
       "<table border=\"1\" class=\"dataframe\">\n",
       "  <thead>\n",
       "    <tr style=\"text-align: right;\">\n",
       "      <th></th>\n",
       "      <th>labels</th>\n",
       "      <th>source</th>\n",
       "      <th>path</th>\n",
       "    </tr>\n",
       "  </thead>\n",
       "  <tbody>\n",
       "    <tr>\n",
       "      <th>0</th>\n",
       "      <td>male_neutral</td>\n",
       "      <td>RAVDESS</td>\n",
       "      <td>../datasets/RAVDESS/audio_speech_actors_01-24/...</td>\n",
       "    </tr>\n",
       "    <tr>\n",
       "      <th>1</th>\n",
       "      <td>male_neutral</td>\n",
       "      <td>RAVDESS</td>\n",
       "      <td>../datasets/RAVDESS/audio_speech_actors_01-24/...</td>\n",
       "    </tr>\n",
       "    <tr>\n",
       "      <th>2</th>\n",
       "      <td>male_neutral</td>\n",
       "      <td>RAVDESS</td>\n",
       "      <td>../datasets/RAVDESS/audio_speech_actors_01-24/...</td>\n",
       "    </tr>\n",
       "    <tr>\n",
       "      <th>3</th>\n",
       "      <td>male_neutral</td>\n",
       "      <td>RAVDESS</td>\n",
       "      <td>../datasets/RAVDESS/audio_speech_actors_01-24/...</td>\n",
       "    </tr>\n",
       "    <tr>\n",
       "      <th>4</th>\n",
       "      <td>male_neutral</td>\n",
       "      <td>RAVDESS</td>\n",
       "      <td>../datasets/RAVDESS/audio_speech_actors_01-24/...</td>\n",
       "    </tr>\n",
       "  </tbody>\n",
       "</table>\n",
       "</div>"
      ],
      "text/plain": [
       "         labels   source                                               path\n",
       "0  male_neutral  RAVDESS  ../datasets/RAVDESS/audio_speech_actors_01-24/...\n",
       "1  male_neutral  RAVDESS  ../datasets/RAVDESS/audio_speech_actors_01-24/...\n",
       "2  male_neutral  RAVDESS  ../datasets/RAVDESS/audio_speech_actors_01-24/...\n",
       "3  male_neutral  RAVDESS  ../datasets/RAVDESS/audio_speech_actors_01-24/...\n",
       "4  male_neutral  RAVDESS  ../datasets/RAVDESS/audio_speech_actors_01-24/..."
      ]
     },
     "execution_count": 5,
     "metadata": {},
     "output_type": "execute_result"
    }
   ],
   "source": [
    "ref = pd.read_csv(\"../datasets/data_path.csv\")\n",
    "ref.head()"
   ]
  },
  {
   "cell_type": "code",
   "execution_count": 6,
   "metadata": {},
   "outputs": [
    {
     "data": {
      "text/plain": [
       "0       ../datasets/RAVDESS/audio_speech_actors_01-24/...\n",
       "1       ../datasets/RAVDESS/audio_speech_actors_01-24/...\n",
       "2       ../datasets/RAVDESS/audio_speech_actors_01-24/...\n",
       "3       ../datasets/RAVDESS/audio_speech_actors_01-24/...\n",
       "4       ../datasets/RAVDESS/audio_speech_actors_01-24/...\n",
       "                              ...                        \n",
       "8685             ../datasets/AudioWAV/1091_WSI_DIS_XX.wav\n",
       "8686             ../datasets/AudioWAV/1091_WSI_FEA_XX.wav\n",
       "8687             ../datasets/AudioWAV/1091_WSI_HAP_XX.wav\n",
       "8688             ../datasets/AudioWAV/1091_WSI_NEU_XX.wav\n",
       "8689             ../datasets/AudioWAV/1091_WSI_SAD_XX.wav\n",
       "Name: path, Length: 8690, dtype: object"
      ]
     },
     "execution_count": 6,
     "metadata": {},
     "output_type": "execute_result"
    }
   ],
   "source": [
    "ref['path']"
   ]
  },
  {
   "cell_type": "code",
   "execution_count": 7,
   "metadata": {
    "scrolled": true
   },
   "outputs": [
    {
     "name": "stdout",
     "output_type": "stream",
     "text": [
      "male_disgust      767\n",
      "male_angry        767\n",
      "male_happy        767\n",
      "male_sad          767\n",
      "male_fear         767\n",
      "male_neutral      719\n",
      "female_angry      696\n",
      "female_fear       696\n",
      "female_happy      696\n",
      "female_disgust    696\n",
      "female_sad        696\n",
      "female_neutral    656\n",
      "Name: labels, dtype: int64\n"
     ]
    }
   ],
   "source": [
    "print(ref.labels.value_counts())"
   ]
  },
  {
   "cell_type": "markdown",
   "metadata": {},
   "source": [
    "#### Feature Extractions using MFCC from audio dataset"
   ]
  },
  {
   "cell_type": "code",
   "execution_count": 8,
   "metadata": {},
   "outputs": [
    {
     "name": "stdout",
     "output_type": "stream",
     "text": [
      "8690\n"
     ]
    },
    {
     "data": {
      "text/html": [
       "<div>\n",
       "<style scoped>\n",
       "    .dataframe tbody tr th:only-of-type {\n",
       "        vertical-align: middle;\n",
       "    }\n",
       "\n",
       "    .dataframe tbody tr th {\n",
       "        vertical-align: top;\n",
       "    }\n",
       "\n",
       "    .dataframe thead th {\n",
       "        text-align: right;\n",
       "    }\n",
       "</style>\n",
       "<table border=\"1\" class=\"dataframe\">\n",
       "  <thead>\n",
       "    <tr style=\"text-align: right;\">\n",
       "      <th></th>\n",
       "      <th>feature</th>\n",
       "    </tr>\n",
       "  </thead>\n",
       "  <tbody>\n",
       "    <tr>\n",
       "      <th>0</th>\n",
       "      <td>[-21.385315, -21.385315, -21.385315, -21.38531...</td>\n",
       "    </tr>\n",
       "    <tr>\n",
       "      <th>1</th>\n",
       "      <td>[-19.669842, -19.838392, -20.179165, -18.40570...</td>\n",
       "    </tr>\n",
       "    <tr>\n",
       "      <th>2</th>\n",
       "      <td>[-21.391132, -21.391132, -21.391132, -21.39113...</td>\n",
       "    </tr>\n",
       "    <tr>\n",
       "      <th>3</th>\n",
       "      <td>[-21.469006, -21.469006, -21.469006, -21.46900...</td>\n",
       "    </tr>\n",
       "    <tr>\n",
       "      <th>4</th>\n",
       "      <td>[-22.837025, -22.837025, -22.837025, -22.83702...</td>\n",
       "    </tr>\n",
       "  </tbody>\n",
       "</table>\n",
       "</div>"
      ],
      "text/plain": [
       "                                             feature\n",
       "0  [-21.385315, -21.385315, -21.385315, -21.38531...\n",
       "1  [-19.669842, -19.838392, -20.179165, -18.40570...\n",
       "2  [-21.391132, -21.391132, -21.391132, -21.39113...\n",
       "3  [-21.469006, -21.469006, -21.469006, -21.46900...\n",
       "4  [-22.837025, -22.837025, -22.837025, -22.83702..."
      ]
     },
     "execution_count": 8,
     "metadata": {},
     "output_type": "execute_result"
    }
   ],
   "source": [
    "df = pd.DataFrame(columns=['feature'])\n",
    "\n",
    "# loop feature extraction over the entire dataset\n",
    "counter=0\n",
    "for index,path in enumerate(ref.path):\n",
    "    X, sample_rate = librosa.load(path\n",
    "                                  , res_type='kaiser_fast'\n",
    "                                  ,duration=2.5\n",
    "                                  ,sr=44100\n",
    "                                  ,offset=0.5\n",
    "                                 )\n",
    "    sample_rate = np.array(sample_rate)\n",
    "    \n",
    "    # mean as the feature. Could do min and max etc as well. \n",
    "    mfccs = np.mean(librosa.feature.mfcc(y=X, \n",
    "                                        sr=sample_rate, \n",
    "                                        n_mfcc=40),\n",
    "                    axis=0)\n",
    "    df.loc[counter] = [mfccs]\n",
    "    counter=counter+1   \n",
    "\n",
    "# Check a few records to make sure its processed successfully\n",
    "print(len(df))\n",
    "df.head()"
   ]
  },
  {
   "cell_type": "code",
   "execution_count": 9,
   "metadata": {},
   "outputs": [
    {
     "data": {
      "text/html": [
       "<div>\n",
       "<style scoped>\n",
       "    .dataframe tbody tr th:only-of-type {\n",
       "        vertical-align: middle;\n",
       "    }\n",
       "\n",
       "    .dataframe tbody tr th {\n",
       "        vertical-align: top;\n",
       "    }\n",
       "\n",
       "    .dataframe thead th {\n",
       "        text-align: right;\n",
       "    }\n",
       "</style>\n",
       "<table border=\"1\" class=\"dataframe\">\n",
       "  <thead>\n",
       "    <tr style=\"text-align: right;\">\n",
       "      <th></th>\n",
       "      <th>labels</th>\n",
       "      <th>source</th>\n",
       "      <th>path</th>\n",
       "      <th>0</th>\n",
       "      <th>1</th>\n",
       "      <th>2</th>\n",
       "      <th>3</th>\n",
       "      <th>4</th>\n",
       "      <th>5</th>\n",
       "      <th>6</th>\n",
       "      <th>...</th>\n",
       "      <th>206</th>\n",
       "      <th>207</th>\n",
       "      <th>208</th>\n",
       "      <th>209</th>\n",
       "      <th>210</th>\n",
       "      <th>211</th>\n",
       "      <th>212</th>\n",
       "      <th>213</th>\n",
       "      <th>214</th>\n",
       "      <th>215</th>\n",
       "    </tr>\n",
       "  </thead>\n",
       "  <tbody>\n",
       "    <tr>\n",
       "      <th>0</th>\n",
       "      <td>male_neutral</td>\n",
       "      <td>RAVDESS</td>\n",
       "      <td>../datasets/RAVDESS/audio_speech_actors_01-24/...</td>\n",
       "      <td>-21.385315</td>\n",
       "      <td>-21.385315</td>\n",
       "      <td>-21.385315</td>\n",
       "      <td>-21.385315</td>\n",
       "      <td>-21.385315</td>\n",
       "      <td>-21.385315</td>\n",
       "      <td>-21.385315</td>\n",
       "      <td>...</td>\n",
       "      <td>-17.314789</td>\n",
       "      <td>-18.879824</td>\n",
       "      <td>-20.803364</td>\n",
       "      <td>-21.046108</td>\n",
       "      <td>-20.095325</td>\n",
       "      <td>-20.280087</td>\n",
       "      <td>-20.763123</td>\n",
       "      <td>-19.553648</td>\n",
       "      <td>-20.154835</td>\n",
       "      <td>-19.897285</td>\n",
       "    </tr>\n",
       "    <tr>\n",
       "      <th>1</th>\n",
       "      <td>male_neutral</td>\n",
       "      <td>RAVDESS</td>\n",
       "      <td>../datasets/RAVDESS/audio_speech_actors_01-24/...</td>\n",
       "      <td>-19.669842</td>\n",
       "      <td>-19.838392</td>\n",
       "      <td>-20.179165</td>\n",
       "      <td>-18.405704</td>\n",
       "      <td>-18.904381</td>\n",
       "      <td>-19.933283</td>\n",
       "      <td>-20.974010</td>\n",
       "      <td>...</td>\n",
       "      <td>-21.251734</td>\n",
       "      <td>-21.251734</td>\n",
       "      <td>-21.251734</td>\n",
       "      <td>-21.251734</td>\n",
       "      <td>-21.251734</td>\n",
       "      <td>-21.251734</td>\n",
       "      <td>-21.251734</td>\n",
       "      <td>-21.251734</td>\n",
       "      <td>-21.251734</td>\n",
       "      <td>-21.251734</td>\n",
       "    </tr>\n",
       "    <tr>\n",
       "      <th>2</th>\n",
       "      <td>male_neutral</td>\n",
       "      <td>RAVDESS</td>\n",
       "      <td>../datasets/RAVDESS/audio_speech_actors_01-24/...</td>\n",
       "      <td>-21.391132</td>\n",
       "      <td>-21.391132</td>\n",
       "      <td>-21.391132</td>\n",
       "      <td>-21.391132</td>\n",
       "      <td>-21.381531</td>\n",
       "      <td>-21.391132</td>\n",
       "      <td>-21.391132</td>\n",
       "      <td>...</td>\n",
       "      <td>-21.391132</td>\n",
       "      <td>-21.391132</td>\n",
       "      <td>-21.391132</td>\n",
       "      <td>-21.391132</td>\n",
       "      <td>-21.108055</td>\n",
       "      <td>-21.259764</td>\n",
       "      <td>-21.391132</td>\n",
       "      <td>-21.391132</td>\n",
       "      <td>-21.391132</td>\n",
       "      <td>-21.391132</td>\n",
       "    </tr>\n",
       "    <tr>\n",
       "      <th>3</th>\n",
       "      <td>male_neutral</td>\n",
       "      <td>RAVDESS</td>\n",
       "      <td>../datasets/RAVDESS/audio_speech_actors_01-24/...</td>\n",
       "      <td>-21.469006</td>\n",
       "      <td>-21.469006</td>\n",
       "      <td>-21.469006</td>\n",
       "      <td>-21.469006</td>\n",
       "      <td>-21.469006</td>\n",
       "      <td>-21.469006</td>\n",
       "      <td>-21.469006</td>\n",
       "      <td>...</td>\n",
       "      <td>-17.526384</td>\n",
       "      <td>-17.198935</td>\n",
       "      <td>-17.701351</td>\n",
       "      <td>-18.673058</td>\n",
       "      <td>-19.091045</td>\n",
       "      <td>-19.486828</td>\n",
       "      <td>-20.428762</td>\n",
       "      <td>-20.331993</td>\n",
       "      <td>-19.380220</td>\n",
       "      <td>-18.689539</td>\n",
       "    </tr>\n",
       "    <tr>\n",
       "      <th>4</th>\n",
       "      <td>male_neutral</td>\n",
       "      <td>RAVDESS</td>\n",
       "      <td>../datasets/RAVDESS/audio_speech_actors_01-24/...</td>\n",
       "      <td>-22.837025</td>\n",
       "      <td>-22.837025</td>\n",
       "      <td>-22.837025</td>\n",
       "      <td>-22.837025</td>\n",
       "      <td>-22.837025</td>\n",
       "      <td>-22.837025</td>\n",
       "      <td>-22.837025</td>\n",
       "      <td>...</td>\n",
       "      <td>-18.009171</td>\n",
       "      <td>-17.820364</td>\n",
       "      <td>-18.525299</td>\n",
       "      <td>-18.332527</td>\n",
       "      <td>-17.388416</td>\n",
       "      <td>-17.585821</td>\n",
       "      <td>-19.182173</td>\n",
       "      <td>-19.070602</td>\n",
       "      <td>-18.440105</td>\n",
       "      <td>-18.917660</td>\n",
       "    </tr>\n",
       "  </tbody>\n",
       "</table>\n",
       "<p>5 rows × 219 columns</p>\n",
       "</div>"
      ],
      "text/plain": [
       "         labels   source                                               path  \\\n",
       "0  male_neutral  RAVDESS  ../datasets/RAVDESS/audio_speech_actors_01-24/...   \n",
       "1  male_neutral  RAVDESS  ../datasets/RAVDESS/audio_speech_actors_01-24/...   \n",
       "2  male_neutral  RAVDESS  ../datasets/RAVDESS/audio_speech_actors_01-24/...   \n",
       "3  male_neutral  RAVDESS  ../datasets/RAVDESS/audio_speech_actors_01-24/...   \n",
       "4  male_neutral  RAVDESS  ../datasets/RAVDESS/audio_speech_actors_01-24/...   \n",
       "\n",
       "           0          1          2          3          4          5  \\\n",
       "0 -21.385315 -21.385315 -21.385315 -21.385315 -21.385315 -21.385315   \n",
       "1 -19.669842 -19.838392 -20.179165 -18.405704 -18.904381 -19.933283   \n",
       "2 -21.391132 -21.391132 -21.391132 -21.391132 -21.381531 -21.391132   \n",
       "3 -21.469006 -21.469006 -21.469006 -21.469006 -21.469006 -21.469006   \n",
       "4 -22.837025 -22.837025 -22.837025 -22.837025 -22.837025 -22.837025   \n",
       "\n",
       "           6  ...        206        207        208        209        210  \\\n",
       "0 -21.385315  ... -17.314789 -18.879824 -20.803364 -21.046108 -20.095325   \n",
       "1 -20.974010  ... -21.251734 -21.251734 -21.251734 -21.251734 -21.251734   \n",
       "2 -21.391132  ... -21.391132 -21.391132 -21.391132 -21.391132 -21.108055   \n",
       "3 -21.469006  ... -17.526384 -17.198935 -17.701351 -18.673058 -19.091045   \n",
       "4 -22.837025  ... -18.009171 -17.820364 -18.525299 -18.332527 -17.388416   \n",
       "\n",
       "         211        212        213        214        215  \n",
       "0 -20.280087 -20.763123 -19.553648 -20.154835 -19.897285  \n",
       "1 -21.251734 -21.251734 -21.251734 -21.251734 -21.251734  \n",
       "2 -21.259764 -21.391132 -21.391132 -21.391132 -21.391132  \n",
       "3 -19.486828 -20.428762 -20.331993 -19.380220 -18.689539  \n",
       "4 -17.585821 -19.182173 -19.070602 -18.440105 -18.917660  \n",
       "\n",
       "[5 rows x 219 columns]"
      ]
     },
     "execution_count": 9,
     "metadata": {},
     "output_type": "execute_result"
    }
   ],
   "source": [
    "df = pd.concat([ref,pd.DataFrame(df['feature'].values.tolist())],axis=1)\n",
    "df[:5]"
   ]
  },
  {
   "cell_type": "code",
   "execution_count": 10,
   "metadata": {
    "scrolled": false
   },
   "outputs": [
    {
     "name": "stdout",
     "output_type": "stream",
     "text": [
      "(8690, 219)\n"
     ]
    },
    {
     "data": {
      "text/html": [
       "<div>\n",
       "<style scoped>\n",
       "    .dataframe tbody tr th:only-of-type {\n",
       "        vertical-align: middle;\n",
       "    }\n",
       "\n",
       "    .dataframe tbody tr th {\n",
       "        vertical-align: top;\n",
       "    }\n",
       "\n",
       "    .dataframe thead th {\n",
       "        text-align: right;\n",
       "    }\n",
       "</style>\n",
       "<table border=\"1\" class=\"dataframe\">\n",
       "  <thead>\n",
       "    <tr style=\"text-align: right;\">\n",
       "      <th></th>\n",
       "      <th>labels</th>\n",
       "      <th>source</th>\n",
       "      <th>path</th>\n",
       "      <th>0</th>\n",
       "      <th>1</th>\n",
       "      <th>2</th>\n",
       "      <th>3</th>\n",
       "      <th>4</th>\n",
       "      <th>5</th>\n",
       "      <th>6</th>\n",
       "      <th>...</th>\n",
       "      <th>206</th>\n",
       "      <th>207</th>\n",
       "      <th>208</th>\n",
       "      <th>209</th>\n",
       "      <th>210</th>\n",
       "      <th>211</th>\n",
       "      <th>212</th>\n",
       "      <th>213</th>\n",
       "      <th>214</th>\n",
       "      <th>215</th>\n",
       "    </tr>\n",
       "  </thead>\n",
       "  <tbody>\n",
       "    <tr>\n",
       "      <th>0</th>\n",
       "      <td>male_neutral</td>\n",
       "      <td>RAVDESS</td>\n",
       "      <td>../datasets/RAVDESS/audio_speech_actors_01-24/...</td>\n",
       "      <td>-21.385315</td>\n",
       "      <td>-21.385315</td>\n",
       "      <td>-21.385315</td>\n",
       "      <td>-21.385315</td>\n",
       "      <td>-21.385315</td>\n",
       "      <td>-21.385315</td>\n",
       "      <td>-21.385315</td>\n",
       "      <td>...</td>\n",
       "      <td>-17.314789</td>\n",
       "      <td>-18.879824</td>\n",
       "      <td>-20.803364</td>\n",
       "      <td>-21.046108</td>\n",
       "      <td>-20.095325</td>\n",
       "      <td>-20.280087</td>\n",
       "      <td>-20.763123</td>\n",
       "      <td>-19.553648</td>\n",
       "      <td>-20.154835</td>\n",
       "      <td>-19.897285</td>\n",
       "    </tr>\n",
       "    <tr>\n",
       "      <th>1</th>\n",
       "      <td>male_neutral</td>\n",
       "      <td>RAVDESS</td>\n",
       "      <td>../datasets/RAVDESS/audio_speech_actors_01-24/...</td>\n",
       "      <td>-19.669842</td>\n",
       "      <td>-19.838392</td>\n",
       "      <td>-20.179165</td>\n",
       "      <td>-18.405704</td>\n",
       "      <td>-18.904381</td>\n",
       "      <td>-19.933283</td>\n",
       "      <td>-20.974010</td>\n",
       "      <td>...</td>\n",
       "      <td>-21.251734</td>\n",
       "      <td>-21.251734</td>\n",
       "      <td>-21.251734</td>\n",
       "      <td>-21.251734</td>\n",
       "      <td>-21.251734</td>\n",
       "      <td>-21.251734</td>\n",
       "      <td>-21.251734</td>\n",
       "      <td>-21.251734</td>\n",
       "      <td>-21.251734</td>\n",
       "      <td>-21.251734</td>\n",
       "    </tr>\n",
       "    <tr>\n",
       "      <th>2</th>\n",
       "      <td>male_neutral</td>\n",
       "      <td>RAVDESS</td>\n",
       "      <td>../datasets/RAVDESS/audio_speech_actors_01-24/...</td>\n",
       "      <td>-21.391132</td>\n",
       "      <td>-21.391132</td>\n",
       "      <td>-21.391132</td>\n",
       "      <td>-21.391132</td>\n",
       "      <td>-21.381531</td>\n",
       "      <td>-21.391132</td>\n",
       "      <td>-21.391132</td>\n",
       "      <td>...</td>\n",
       "      <td>-21.391132</td>\n",
       "      <td>-21.391132</td>\n",
       "      <td>-21.391132</td>\n",
       "      <td>-21.391132</td>\n",
       "      <td>-21.108055</td>\n",
       "      <td>-21.259764</td>\n",
       "      <td>-21.391132</td>\n",
       "      <td>-21.391132</td>\n",
       "      <td>-21.391132</td>\n",
       "      <td>-21.391132</td>\n",
       "    </tr>\n",
       "    <tr>\n",
       "      <th>3</th>\n",
       "      <td>male_neutral</td>\n",
       "      <td>RAVDESS</td>\n",
       "      <td>../datasets/RAVDESS/audio_speech_actors_01-24/...</td>\n",
       "      <td>-21.469006</td>\n",
       "      <td>-21.469006</td>\n",
       "      <td>-21.469006</td>\n",
       "      <td>-21.469006</td>\n",
       "      <td>-21.469006</td>\n",
       "      <td>-21.469006</td>\n",
       "      <td>-21.469006</td>\n",
       "      <td>...</td>\n",
       "      <td>-17.526384</td>\n",
       "      <td>-17.198935</td>\n",
       "      <td>-17.701351</td>\n",
       "      <td>-18.673058</td>\n",
       "      <td>-19.091045</td>\n",
       "      <td>-19.486828</td>\n",
       "      <td>-20.428762</td>\n",
       "      <td>-20.331993</td>\n",
       "      <td>-19.380220</td>\n",
       "      <td>-18.689539</td>\n",
       "    </tr>\n",
       "    <tr>\n",
       "      <th>4</th>\n",
       "      <td>male_neutral</td>\n",
       "      <td>RAVDESS</td>\n",
       "      <td>../datasets/RAVDESS/audio_speech_actors_01-24/...</td>\n",
       "      <td>-22.837025</td>\n",
       "      <td>-22.837025</td>\n",
       "      <td>-22.837025</td>\n",
       "      <td>-22.837025</td>\n",
       "      <td>-22.837025</td>\n",
       "      <td>-22.837025</td>\n",
       "      <td>-22.837025</td>\n",
       "      <td>...</td>\n",
       "      <td>-18.009171</td>\n",
       "      <td>-17.820364</td>\n",
       "      <td>-18.525299</td>\n",
       "      <td>-18.332527</td>\n",
       "      <td>-17.388416</td>\n",
       "      <td>-17.585821</td>\n",
       "      <td>-19.182173</td>\n",
       "      <td>-19.070602</td>\n",
       "      <td>-18.440105</td>\n",
       "      <td>-18.917660</td>\n",
       "    </tr>\n",
       "  </tbody>\n",
       "</table>\n",
       "<p>5 rows × 219 columns</p>\n",
       "</div>"
      ],
      "text/plain": [
       "         labels   source                                               path  \\\n",
       "0  male_neutral  RAVDESS  ../datasets/RAVDESS/audio_speech_actors_01-24/...   \n",
       "1  male_neutral  RAVDESS  ../datasets/RAVDESS/audio_speech_actors_01-24/...   \n",
       "2  male_neutral  RAVDESS  ../datasets/RAVDESS/audio_speech_actors_01-24/...   \n",
       "3  male_neutral  RAVDESS  ../datasets/RAVDESS/audio_speech_actors_01-24/...   \n",
       "4  male_neutral  RAVDESS  ../datasets/RAVDESS/audio_speech_actors_01-24/...   \n",
       "\n",
       "           0          1          2          3          4          5  \\\n",
       "0 -21.385315 -21.385315 -21.385315 -21.385315 -21.385315 -21.385315   \n",
       "1 -19.669842 -19.838392 -20.179165 -18.405704 -18.904381 -19.933283   \n",
       "2 -21.391132 -21.391132 -21.391132 -21.391132 -21.381531 -21.391132   \n",
       "3 -21.469006 -21.469006 -21.469006 -21.469006 -21.469006 -21.469006   \n",
       "4 -22.837025 -22.837025 -22.837025 -22.837025 -22.837025 -22.837025   \n",
       "\n",
       "           6  ...        206        207        208        209        210  \\\n",
       "0 -21.385315  ... -17.314789 -18.879824 -20.803364 -21.046108 -20.095325   \n",
       "1 -20.974010  ... -21.251734 -21.251734 -21.251734 -21.251734 -21.251734   \n",
       "2 -21.391132  ... -21.391132 -21.391132 -21.391132 -21.391132 -21.108055   \n",
       "3 -21.469006  ... -17.526384 -17.198935 -17.701351 -18.673058 -19.091045   \n",
       "4 -22.837025  ... -18.009171 -17.820364 -18.525299 -18.332527 -17.388416   \n",
       "\n",
       "         211        212        213        214        215  \n",
       "0 -20.280087 -20.763123 -19.553648 -20.154835 -19.897285  \n",
       "1 -21.251734 -21.251734 -21.251734 -21.251734 -21.251734  \n",
       "2 -21.259764 -21.391132 -21.391132 -21.391132 -21.391132  \n",
       "3 -19.486828 -20.428762 -20.331993 -19.380220 -18.689539  \n",
       "4 -17.585821 -19.182173 -19.070602 -18.440105 -18.917660  \n",
       "\n",
       "[5 rows x 219 columns]"
      ]
     },
     "execution_count": 10,
     "metadata": {},
     "output_type": "execute_result"
    }
   ],
   "source": [
    "df=df.fillna(0)\n",
    "print(df.shape)\n",
    "df[:5]"
   ]
  },
  {
   "cell_type": "code",
   "execution_count": 11,
   "metadata": {},
   "outputs": [],
   "source": [
    "X = df.drop(['path','labels','source'],axis=1)"
   ]
  },
  {
   "cell_type": "code",
   "execution_count": 12,
   "metadata": {},
   "outputs": [],
   "source": [
    "y = df['labels'].values"
   ]
  },
  {
   "cell_type": "code",
   "execution_count": 13,
   "metadata": {},
   "outputs": [
    {
     "data": {
      "text/plain": [
       "((8690, 216), (8690,))"
      ]
     },
     "execution_count": 13,
     "metadata": {},
     "output_type": "execute_result"
    }
   ],
   "source": [
    "X.shape, y.shape"
   ]
  },
  {
   "cell_type": "code",
   "execution_count": 14,
   "metadata": {},
   "outputs": [
    {
     "data": {
      "text/html": [
       "<div>\n",
       "<style scoped>\n",
       "    .dataframe tbody tr th:only-of-type {\n",
       "        vertical-align: middle;\n",
       "    }\n",
       "\n",
       "    .dataframe tbody tr th {\n",
       "        vertical-align: top;\n",
       "    }\n",
       "\n",
       "    .dataframe thead th {\n",
       "        text-align: right;\n",
       "    }\n",
       "</style>\n",
       "<table border=\"1\" class=\"dataframe\">\n",
       "  <thead>\n",
       "    <tr style=\"text-align: right;\">\n",
       "      <th></th>\n",
       "      <th>0</th>\n",
       "      <th>1</th>\n",
       "      <th>2</th>\n",
       "      <th>3</th>\n",
       "      <th>4</th>\n",
       "      <th>5</th>\n",
       "      <th>6</th>\n",
       "      <th>7</th>\n",
       "      <th>8</th>\n",
       "      <th>9</th>\n",
       "      <th>...</th>\n",
       "      <th>206</th>\n",
       "      <th>207</th>\n",
       "      <th>208</th>\n",
       "      <th>209</th>\n",
       "      <th>210</th>\n",
       "      <th>211</th>\n",
       "      <th>212</th>\n",
       "      <th>213</th>\n",
       "      <th>214</th>\n",
       "      <th>215</th>\n",
       "    </tr>\n",
       "  </thead>\n",
       "  <tbody>\n",
       "    <tr>\n",
       "      <th>7065</th>\n",
       "      <td>-5.652812</td>\n",
       "      <td>-6.776311</td>\n",
       "      <td>-6.489865</td>\n",
       "      <td>-6.216996</td>\n",
       "      <td>-7.645125</td>\n",
       "      <td>-7.813805</td>\n",
       "      <td>-7.091050</td>\n",
       "      <td>-7.716411</td>\n",
       "      <td>-8.168571</td>\n",
       "      <td>-6.605966</td>\n",
       "      <td>...</td>\n",
       "      <td>0.000000</td>\n",
       "      <td>0.000000</td>\n",
       "      <td>0.000000</td>\n",
       "      <td>0.000000</td>\n",
       "      <td>0.000000</td>\n",
       "      <td>0.000000</td>\n",
       "      <td>0.000000</td>\n",
       "      <td>0.000000</td>\n",
       "      <td>0.000000</td>\n",
       "      <td>0.000000</td>\n",
       "    </tr>\n",
       "    <tr>\n",
       "      <th>7462</th>\n",
       "      <td>-5.298156</td>\n",
       "      <td>-5.729014</td>\n",
       "      <td>-6.299941</td>\n",
       "      <td>-6.583365</td>\n",
       "      <td>-5.820536</td>\n",
       "      <td>-6.362069</td>\n",
       "      <td>-8.291990</td>\n",
       "      <td>-7.865595</td>\n",
       "      <td>-6.619760</td>\n",
       "      <td>-6.231025</td>\n",
       "      <td>...</td>\n",
       "      <td>0.000000</td>\n",
       "      <td>0.000000</td>\n",
       "      <td>0.000000</td>\n",
       "      <td>0.000000</td>\n",
       "      <td>0.000000</td>\n",
       "      <td>0.000000</td>\n",
       "      <td>0.000000</td>\n",
       "      <td>0.000000</td>\n",
       "      <td>0.000000</td>\n",
       "      <td>0.000000</td>\n",
       "    </tr>\n",
       "    <tr>\n",
       "      <th>5928</th>\n",
       "      <td>-2.112594</td>\n",
       "      <td>-3.124799</td>\n",
       "      <td>-5.210888</td>\n",
       "      <td>-4.751945</td>\n",
       "      <td>-5.015863</td>\n",
       "      <td>-4.501850</td>\n",
       "      <td>-4.240977</td>\n",
       "      <td>-2.609289</td>\n",
       "      <td>-2.525379</td>\n",
       "      <td>-3.288661</td>\n",
       "      <td>...</td>\n",
       "      <td>0.000000</td>\n",
       "      <td>0.000000</td>\n",
       "      <td>0.000000</td>\n",
       "      <td>0.000000</td>\n",
       "      <td>0.000000</td>\n",
       "      <td>0.000000</td>\n",
       "      <td>0.000000</td>\n",
       "      <td>0.000000</td>\n",
       "      <td>0.000000</td>\n",
       "      <td>0.000000</td>\n",
       "    </tr>\n",
       "    <tr>\n",
       "      <th>2184</th>\n",
       "      <td>-7.640528</td>\n",
       "      <td>-6.696494</td>\n",
       "      <td>-5.909721</td>\n",
       "      <td>-5.552992</td>\n",
       "      <td>-6.648856</td>\n",
       "      <td>-6.502574</td>\n",
       "      <td>-7.554166</td>\n",
       "      <td>-6.673454</td>\n",
       "      <td>-6.570912</td>\n",
       "      <td>-6.359321</td>\n",
       "      <td>...</td>\n",
       "      <td>0.000000</td>\n",
       "      <td>0.000000</td>\n",
       "      <td>0.000000</td>\n",
       "      <td>0.000000</td>\n",
       "      <td>0.000000</td>\n",
       "      <td>0.000000</td>\n",
       "      <td>0.000000</td>\n",
       "      <td>0.000000</td>\n",
       "      <td>0.000000</td>\n",
       "      <td>0.000000</td>\n",
       "    </tr>\n",
       "    <tr>\n",
       "      <th>110</th>\n",
       "      <td>-20.732349</td>\n",
       "      <td>-19.731350</td>\n",
       "      <td>-19.716396</td>\n",
       "      <td>-18.947292</td>\n",
       "      <td>-18.354311</td>\n",
       "      <td>-18.791056</td>\n",
       "      <td>-19.872158</td>\n",
       "      <td>-20.679012</td>\n",
       "      <td>-20.699242</td>\n",
       "      <td>-19.989124</td>\n",
       "      <td>...</td>\n",
       "      <td>-9.449995</td>\n",
       "      <td>-10.183277</td>\n",
       "      <td>-11.181304</td>\n",
       "      <td>-13.551791</td>\n",
       "      <td>-13.095141</td>\n",
       "      <td>-12.855795</td>\n",
       "      <td>-14.772998</td>\n",
       "      <td>-13.533300</td>\n",
       "      <td>-12.520718</td>\n",
       "      <td>-11.703916</td>\n",
       "    </tr>\n",
       "    <tr>\n",
       "      <th>6786</th>\n",
       "      <td>-6.944965</td>\n",
       "      <td>-6.288961</td>\n",
       "      <td>-7.191911</td>\n",
       "      <td>-7.211984</td>\n",
       "      <td>-7.731867</td>\n",
       "      <td>-7.288754</td>\n",
       "      <td>-7.856411</td>\n",
       "      <td>-9.319613</td>\n",
       "      <td>-8.113953</td>\n",
       "      <td>-7.637610</td>\n",
       "      <td>...</td>\n",
       "      <td>-5.991698</td>\n",
       "      <td>-5.924673</td>\n",
       "      <td>-5.700793</td>\n",
       "      <td>-6.681861</td>\n",
       "      <td>-6.341326</td>\n",
       "      <td>-6.599488</td>\n",
       "      <td>-6.353091</td>\n",
       "      <td>-6.232457</td>\n",
       "      <td>-6.694018</td>\n",
       "      <td>-6.857346</td>\n",
       "    </tr>\n",
       "    <tr>\n",
       "      <th>7111</th>\n",
       "      <td>-7.537225</td>\n",
       "      <td>-7.805920</td>\n",
       "      <td>-6.723403</td>\n",
       "      <td>-5.574308</td>\n",
       "      <td>-5.256060</td>\n",
       "      <td>-5.945969</td>\n",
       "      <td>-5.592881</td>\n",
       "      <td>-5.795800</td>\n",
       "      <td>-5.778611</td>\n",
       "      <td>-5.691808</td>\n",
       "      <td>...</td>\n",
       "      <td>-5.779315</td>\n",
       "      <td>-6.412852</td>\n",
       "      <td>-6.471704</td>\n",
       "      <td>-5.907022</td>\n",
       "      <td>-6.155215</td>\n",
       "      <td>-7.285172</td>\n",
       "      <td>-7.429246</td>\n",
       "      <td>-7.557392</td>\n",
       "      <td>-7.303209</td>\n",
       "      <td>-7.190961</td>\n",
       "    </tr>\n",
       "    <tr>\n",
       "      <th>1079</th>\n",
       "      <td>-17.302807</td>\n",
       "      <td>-17.139887</td>\n",
       "      <td>-17.887287</td>\n",
       "      <td>-18.465267</td>\n",
       "      <td>-18.293123</td>\n",
       "      <td>-17.757235</td>\n",
       "      <td>-17.011190</td>\n",
       "      <td>-16.545895</td>\n",
       "      <td>-17.135075</td>\n",
       "      <td>-17.434570</td>\n",
       "      <td>...</td>\n",
       "      <td>-10.292582</td>\n",
       "      <td>-10.875978</td>\n",
       "      <td>-9.645720</td>\n",
       "      <td>-9.881312</td>\n",
       "      <td>-9.332804</td>\n",
       "      <td>-9.620864</td>\n",
       "      <td>-10.634344</td>\n",
       "      <td>-10.021311</td>\n",
       "      <td>-9.222058</td>\n",
       "      <td>-7.555440</td>\n",
       "    </tr>\n",
       "    <tr>\n",
       "      <th>2226</th>\n",
       "      <td>-1.325179</td>\n",
       "      <td>-2.417265</td>\n",
       "      <td>-4.768901</td>\n",
       "      <td>-6.344377</td>\n",
       "      <td>-7.128631</td>\n",
       "      <td>-6.700863</td>\n",
       "      <td>-6.726776</td>\n",
       "      <td>-5.894978</td>\n",
       "      <td>-5.962801</td>\n",
       "      <td>-6.616137</td>\n",
       "      <td>...</td>\n",
       "      <td>0.000000</td>\n",
       "      <td>0.000000</td>\n",
       "      <td>0.000000</td>\n",
       "      <td>0.000000</td>\n",
       "      <td>0.000000</td>\n",
       "      <td>0.000000</td>\n",
       "      <td>0.000000</td>\n",
       "      <td>0.000000</td>\n",
       "      <td>0.000000</td>\n",
       "      <td>0.000000</td>\n",
       "    </tr>\n",
       "    <tr>\n",
       "      <th>3297</th>\n",
       "      <td>-8.123964</td>\n",
       "      <td>-6.895119</td>\n",
       "      <td>-7.116265</td>\n",
       "      <td>-7.060562</td>\n",
       "      <td>-7.478992</td>\n",
       "      <td>-6.078900</td>\n",
       "      <td>-5.163329</td>\n",
       "      <td>-4.885925</td>\n",
       "      <td>-5.400164</td>\n",
       "      <td>-5.613014</td>\n",
       "      <td>...</td>\n",
       "      <td>0.000000</td>\n",
       "      <td>0.000000</td>\n",
       "      <td>0.000000</td>\n",
       "      <td>0.000000</td>\n",
       "      <td>0.000000</td>\n",
       "      <td>0.000000</td>\n",
       "      <td>0.000000</td>\n",
       "      <td>0.000000</td>\n",
       "      <td>0.000000</td>\n",
       "      <td>0.000000</td>\n",
       "    </tr>\n",
       "  </tbody>\n",
       "</table>\n",
       "<p>10 rows × 216 columns</p>\n",
       "</div>"
      ],
      "text/plain": [
       "            0          1          2          3          4          5    \\\n",
       "7065  -5.652812  -6.776311  -6.489865  -6.216996  -7.645125  -7.813805   \n",
       "7462  -5.298156  -5.729014  -6.299941  -6.583365  -5.820536  -6.362069   \n",
       "5928  -2.112594  -3.124799  -5.210888  -4.751945  -5.015863  -4.501850   \n",
       "2184  -7.640528  -6.696494  -5.909721  -5.552992  -6.648856  -6.502574   \n",
       "110  -20.732349 -19.731350 -19.716396 -18.947292 -18.354311 -18.791056   \n",
       "6786  -6.944965  -6.288961  -7.191911  -7.211984  -7.731867  -7.288754   \n",
       "7111  -7.537225  -7.805920  -6.723403  -5.574308  -5.256060  -5.945969   \n",
       "1079 -17.302807 -17.139887 -17.887287 -18.465267 -18.293123 -17.757235   \n",
       "2226  -1.325179  -2.417265  -4.768901  -6.344377  -7.128631  -6.700863   \n",
       "3297  -8.123964  -6.895119  -7.116265  -7.060562  -7.478992  -6.078900   \n",
       "\n",
       "            6          7          8          9    ...        206        207  \\\n",
       "7065  -7.091050  -7.716411  -8.168571  -6.605966  ...   0.000000   0.000000   \n",
       "7462  -8.291990  -7.865595  -6.619760  -6.231025  ...   0.000000   0.000000   \n",
       "5928  -4.240977  -2.609289  -2.525379  -3.288661  ...   0.000000   0.000000   \n",
       "2184  -7.554166  -6.673454  -6.570912  -6.359321  ...   0.000000   0.000000   \n",
       "110  -19.872158 -20.679012 -20.699242 -19.989124  ...  -9.449995 -10.183277   \n",
       "6786  -7.856411  -9.319613  -8.113953  -7.637610  ...  -5.991698  -5.924673   \n",
       "7111  -5.592881  -5.795800  -5.778611  -5.691808  ...  -5.779315  -6.412852   \n",
       "1079 -17.011190 -16.545895 -17.135075 -17.434570  ... -10.292582 -10.875978   \n",
       "2226  -6.726776  -5.894978  -5.962801  -6.616137  ...   0.000000   0.000000   \n",
       "3297  -5.163329  -4.885925  -5.400164  -5.613014  ...   0.000000   0.000000   \n",
       "\n",
       "            208        209        210        211        212        213  \\\n",
       "7065   0.000000   0.000000   0.000000   0.000000   0.000000   0.000000   \n",
       "7462   0.000000   0.000000   0.000000   0.000000   0.000000   0.000000   \n",
       "5928   0.000000   0.000000   0.000000   0.000000   0.000000   0.000000   \n",
       "2184   0.000000   0.000000   0.000000   0.000000   0.000000   0.000000   \n",
       "110  -11.181304 -13.551791 -13.095141 -12.855795 -14.772998 -13.533300   \n",
       "6786  -5.700793  -6.681861  -6.341326  -6.599488  -6.353091  -6.232457   \n",
       "7111  -6.471704  -5.907022  -6.155215  -7.285172  -7.429246  -7.557392   \n",
       "1079  -9.645720  -9.881312  -9.332804  -9.620864 -10.634344 -10.021311   \n",
       "2226   0.000000   0.000000   0.000000   0.000000   0.000000   0.000000   \n",
       "3297   0.000000   0.000000   0.000000   0.000000   0.000000   0.000000   \n",
       "\n",
       "            214        215  \n",
       "7065   0.000000   0.000000  \n",
       "7462   0.000000   0.000000  \n",
       "5928   0.000000   0.000000  \n",
       "2184   0.000000   0.000000  \n",
       "110  -12.520718 -11.703916  \n",
       "6786  -6.694018  -6.857346  \n",
       "7111  -7.303209  -7.190961  \n",
       "1079  -9.222058  -7.555440  \n",
       "2226   0.000000   0.000000  \n",
       "3297   0.000000   0.000000  \n",
       "\n",
       "[10 rows x 216 columns]"
      ]
     },
     "execution_count": 14,
     "metadata": {},
     "output_type": "execute_result"
    }
   ],
   "source": [
    "X_train, X_test, y_train, y_test = train_test_split(X\n",
    "                                                    , y\n",
    "                                                    , test_size=0.25\n",
    "                                                    , shuffle=True\n",
    "                                                    , random_state=42\n",
    "                                                   )\n",
    "\n",
    "# Lets see how the data present itself before normalisation \n",
    "X_train[150:160]"
   ]
  },
  {
   "cell_type": "code",
   "execution_count": 15,
   "metadata": {},
   "outputs": [],
   "source": [
    "label_df = pd.read_csv(\"Predictions.csv\")\n",
    "classes = label_df.actualvalues.unique()\n",
    "classes.sort()"
   ]
  },
  {
   "cell_type": "code",
   "execution_count": 16,
   "metadata": {},
   "outputs": [
    {
     "data": {
      "text/plain": [
       "array(['female_angry', 'female_disgust', 'female_fear', 'female_happy',\n",
       "       'female_neutral', 'female_sad', 'male_angry', 'male_disgust',\n",
       "       'male_fear', 'male_happy', 'male_neutral', 'male_sad'],\n",
       "      dtype=object)"
      ]
     },
     "execution_count": 16,
     "metadata": {},
     "output_type": "execute_result"
    }
   ],
   "source": [
    "classes"
   ]
  },
  {
   "cell_type": "markdown",
   "metadata": {},
   "source": [
    "## SVM (Support Vector Machine) Classifier and Fit/Train the Model\n",
    "Implementing SVM with Scikit-Learn"
   ]
  },
  {
   "cell_type": "markdown",
   "metadata": {},
   "source": [
    "To split data into training and test sets. The model_selection library of the Scikit-Learn library contains the train_test_split method which is used to split data into training and test sets.\n",
    "\n",
    "to train SVM on the training data. Scikit-Learn contains the svm library, which contains built-in classes for different SVM algorithms. "
   ]
  },
  {
   "cell_type": "code",
   "execution_count": 17,
   "metadata": {},
   "outputs": [],
   "source": [
    "svclassifier = SVC(kernel = 'linear')"
   ]
  },
  {
   "cell_type": "code",
   "execution_count": 18,
   "metadata": {
    "scrolled": true
   },
   "outputs": [
    {
     "data": {
      "text/plain": [
       "SVC(kernel='linear')"
      ]
     },
     "execution_count": 18,
     "metadata": {},
     "output_type": "execute_result"
    }
   ],
   "source": [
    "svclassifier.fit(X_train, y_train)"
   ]
  },
  {
   "cell_type": "code",
   "execution_count": 19,
   "metadata": {},
   "outputs": [],
   "source": [
    "y_pred = svclassifier.predict(X_test)"
   ]
  },
  {
   "cell_type": "code",
   "execution_count": 20,
   "metadata": {},
   "outputs": [
    {
     "name": "stdout",
     "output_type": "stream",
     "text": [
      "Accuracy: 13.48%\n",
      "Statistics:\n",
      "                precision    recall  f1-score   support\n",
      "\n",
      "  female_angry       0.15      0.21      0.18       160\n",
      "female_disgust       0.14      0.15      0.15       182\n",
      "   female_fear       0.08      0.11      0.09       160\n",
      "  female_happy       0.11      0.10      0.10       176\n",
      "female_neutral       0.12      0.15      0.14       159\n",
      "    female_sad       0.09      0.09      0.09       170\n",
      "    male_angry       0.22      0.21      0.22       192\n",
      "  male_disgust       0.18      0.14      0.16       183\n",
      "     male_fear       0.12      0.12      0.12       184\n",
      "    male_happy       0.13      0.12      0.12       205\n",
      "  male_neutral       0.13      0.11      0.12       197\n",
      "      male_sad       0.15      0.11      0.13       205\n",
      "\n",
      "      accuracy                           0.13      2173\n",
      "     macro avg       0.14      0.14      0.13      2173\n",
      "  weighted avg       0.14      0.13      0.13      2173\n",
      "\n"
     ]
    }
   ],
   "source": [
    "accuracy=accuracy_score(y_test, y_pred)\n",
    "#Print the accuracy\n",
    "print(\"Accuracy: {:.2f}%\".format(accuracy*100))\n",
    "#Print the report\n",
    "print(\"Statistics:\")\n",
    "print(classification_report(y_test,y_pred))\n",
    "\n"
   ]
  },
  {
   "cell_type": "code",
   "execution_count": 21,
   "metadata": {},
   "outputs": [
    {
     "name": "stdout",
     "output_type": "stream",
     "text": [
      "Confusion Matrix:\n"
     ]
    },
    {
     "data": {
      "image/png": "[encoded data removed]",
      "text/plain": [
       "<Figure size 720x504 with 2 Axes>"
      ]
     },
     "metadata": {
      "needs_background": "light"
     },
     "output_type": "display_data"
    }
   ],
   "source": [
    "print(\"Confusion Matrix:\")\n",
    "plt.figure(figsize=(10,7))\n",
    "matrix = confusion_matrix(y_test,y_pred)\n",
    "df_matrix = pd.DataFrame(matrix, index = classes, columns = classes)\n",
    "heatmap = sns.heatmap(df_matrix, annot=True, fmt=\"d\")\n",
    "heatmap.yaxis.set_ticklabels(heatmap.yaxis.get_ticklabels(), rotation=0, ha='right', fontsize=11)\n",
    "heatmap.xaxis.set_ticklabels(heatmap.xaxis.get_ticklabels(), rotation=45, ha='right', fontsize=11)\n",
    "plt.ylabel('True label')\n",
    "plt.xlabel('Predicted label')\n",
    "\n",
    "plt.show()"
   ]
  },
  {
   "cell_type": "code",
   "execution_count": 22,
   "metadata": {
    "scrolled": true
   },
   "outputs": [
    {
     "name": "stdout",
     "output_type": "stream",
     "text": [
      "Train Accuracy: 32.16%\n",
      "Test Accuracy: 13.48%\n"
     ]
    }
   ],
   "source": [
    "#calculate and display the train and test accuracy\n",
    "train_accuracy = float(svclassifier.score(X_train, y_train)*100)\n",
    "print(\"Train Accuracy: {:.2f}%\".format(train_accuracy))\n",
    "test_accuracy = float(svclassifier.score(X_test, y_test)*100)\n",
    "print(\"Test Accuracy: {:.2f}%\".format(test_accuracy))"
   ]
  },
  {
   "cell_type": "markdown",
   "metadata": {},
   "source": [
    "## Cross-Validation\n",
    "after calculating the training accuracy and comparing with testing accuracy, to check for overfitting of data.\n",
    "5-fold cross validation of the dataset with the SVC classifier."
   ]
  },
  {
   "cell_type": "code",
   "execution_count": 24,
   "metadata": {},
   "outputs": [
    {
     "name": "stdout",
     "output_type": "stream",
     "text": [
      "[0.12185019 0.10907836 0.11464088]\n"
     ]
    }
   ],
   "source": [
    "# no. of folds cv = 3\n",
    "cv_results = cross_val_score(svclassifier, X, y, cv = 3, n_jobs=-1)\n",
    "print(cv_results)"
   ]
  },
  {
   "cell_type": "markdown",
   "metadata": {},
   "source": [
    "## Scaling\n",
    "\n",
    "When performing the linear SVM classification, it is often helpful to normalize the training data and scale the test data with the mean and standard deviation of training data."
   ]
  },
  {
   "cell_type": "code",
   "execution_count": 25,
   "metadata": {},
   "outputs": [],
   "source": [
    "#splitting dataset into train/ test sets\n",
    "X_train, X_test, y_train, y_test = train_test_split(X, y, test_size = 0.20)"
   ]
  },
  {
   "cell_type": "code",
   "execution_count": 26,
   "metadata": {},
   "outputs": [],
   "source": [
    "# Setup the pipeline steps and create the pipeline and fit the pipeline to the training set: svc_scaled\n",
    "steps = [('scaler', StandardScaler()),\n",
    "        ('SVM', SVC())]\n",
    "pipeline = Pipeline(steps)\n",
    "svc_scaled = pipeline.fit(X_train, y_train)"
   ]
  },
  {
   "cell_type": "markdown",
   "metadata": {},
   "source": [
    "## Generalization check\n",
    "Checking for overfitting or underfitting by comparing the training and testing scores of the model"
   ]
  },
  {
   "cell_type": "code",
   "execution_count": 27,
   "metadata": {},
   "outputs": [
    {
     "name": "stdout",
     "output_type": "stream",
     "text": [
      "Train Accuracy: 28.44%\n",
      "Test Accuracy: 22.04%\n"
     ]
    }
   ],
   "source": [
    "train_accuracy = float(svc_scaled.score(X_train, y_train)*100)\n",
    "print(\"Train Accuracy: {:.2f}%\".format(train_accuracy))\n",
    "test_accuracy = float(svc_scaled.score(X_test, y_test)*100)\n",
    "print(\"Test Accuracy: {:.2f}%\".format(test_accuracy))"
   ]
  },
  {
   "cell_type": "code",
   "execution_count": 28,
   "metadata": {},
   "outputs": [],
   "source": [
    "scaled_predictions = svc_scaled.predict(X_test)"
   ]
  },
  {
   "cell_type": "code",
   "execution_count": 29,
   "metadata": {
    "scrolled": false
   },
   "outputs": [
    {
     "name": "stdout",
     "output_type": "stream",
     "text": [
      "Accuracy: 22.04%\n",
      "Statistics:\n",
      "                precision    recall  f1-score   support\n",
      "\n",
      "  female_angry       0.19      0.15      0.17       122\n",
      "female_disgust       0.20      0.20      0.20       138\n",
      "   female_fear       0.10      0.02      0.03       122\n",
      "  female_happy       0.19      0.09      0.12       139\n",
      "female_neutral       0.45      0.18      0.26       142\n",
      "    female_sad       0.24      0.35      0.29       145\n",
      "    male_angry       0.35      0.38      0.37       167\n",
      "  male_disgust       0.22      0.32      0.26       146\n",
      "     male_fear       0.18      0.08      0.11       153\n",
      "    male_happy       0.16      0.39      0.23       136\n",
      "  male_neutral       0.23      0.21      0.22       164\n",
      "      male_sad       0.17      0.22      0.19       164\n",
      "\n",
      "      accuracy                           0.22      1738\n",
      "     macro avg       0.22      0.22      0.20      1738\n",
      "  weighted avg       0.23      0.22      0.21      1738\n",
      "\n"
     ]
    }
   ],
   "source": [
    "accuracy=accuracy_score(y_test, scaled_predictions)\n",
    "\n",
    "#Print the accuracy\n",
    "print(\"Accuracy: {:.2f}%\".format(accuracy*100))\n",
    "\n",
    "#Print the report\n",
    "print(\"Statistics:\")\n",
    "print(classification_report(y_test,scaled_predictions))\n"
   ]
  },
  {
   "cell_type": "code",
   "execution_count": 30,
   "metadata": {},
   "outputs": [
    {
     "name": "stdout",
     "output_type": "stream",
     "text": [
      "Confusion Matrix:\n"
     ]
    },
    {
     "data": {
      "image/png": "[encoded data removed]",
      "text/plain": [
       "<Figure size 720x504 with 2 Axes>"
      ]
     },
     "metadata": {
      "needs_background": "light"
     },
     "output_type": "display_data"
    }
   ],
   "source": [
    "print(\"Confusion Matrix:\")\n",
    "plt.figure(figsize=(10,7))\n",
    "cm = confusion_matrix(y_test,scaled_predictions)\n",
    "df_cm = pd.DataFrame(cm, index = classes, columns = classes)\n",
    "heatmap = sns.heatmap(df_cm, annot=True, fmt=\"d\")\n",
    "heatmap.yaxis.set_ticklabels(heatmap.yaxis.get_ticklabels(), rotation=0, ha='right', fontsize=11)\n",
    "heatmap.xaxis.set_ticklabels(heatmap.xaxis.get_ticklabels(), rotation=45, ha='right', fontsize=11)\n",
    "plt.ylabel('True label')\n",
    "plt.xlabel('Predicted label')\n",
    "\n",
    "plt.show()"
   ]
  },
  {
   "cell_type": "markdown",
   "metadata": {},
   "source": [
    "The important aspect of implementing SVM algorithm is finding the hyperplane. Two conditions are to be met in the order given while choosing the right hyperplane:\n",
    "\n",
    "1. The hyperplane should classify the classes most accurately\n",
    "2. The margin distance from the hyperplane to the nearest data point must be maximized.\n",
    "\n",
    "There is still a slight improvement based on the accuracy at 22.04% using SVM but this can be further improved with the exploration of other modelling methods and feature implementations."
   ]
  },
  {
   "cell_type": "code",
   "execution_count": null,
   "metadata": {},
   "outputs": [],
   "source": []
  }
 ],
 "metadata": {
  "kernelspec": {
   "display_name": "Python 3",
   "language": "python",
   "name": "python3"
  },
  "language_info": {
   "codemirror_mode": {
    "name": "ipython",
    "version": 3
   },
   "file_extension": ".py",
   "mimetype": "text/x-python",
   "name": "python",
   "nbconvert_exporter": "python",
   "pygments_lexer": "ipython3",
   "version": "3.8.5"
  }
 },
 "nbformat": 4,
 "nbformat_minor": 4
}
