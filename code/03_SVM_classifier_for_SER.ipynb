{
 "cells": [
  {
   "cell_type": "markdown",
   "metadata": {},
   "source": [
    "#  SVM Classifier for  SER (Speech Emotion Recognition)"
   ]
  },
  {
   "cell_type": "markdown",
   "metadata": {},
   "source": [
    "## Dataset\n",
    "\n",
    "The Ryerson Audio-Visual Database of Emotional Speech and Song (RAVDESS),and it is free to download. This dataset has 7356 files rated by 247 individuals 10 times on emotional validity, intensity, and genuineness. here the Speech files of all actors (01-24) will be used and the files are available under path ../datasets/RAVDESS. It contains 1440 files: 60 trials per actor x 24 actors = 1440. \n",
    "Filename identifiers:\n",
    "<ol>\n",
    "<li>Modality (01 = full-AV, 02 = video-only, 03 = audio-only).</li>\n",
    "<li>Vocal channel (01 = speech, 02 = song).</li>\n",
    "<li>Emotion (01 = neutral, 02 = calm, 03 = happy, 04 = sad, 05 = angry, 06 = fearful, 07 = disgust, 08 = surprised).</li>\n",
    "<li>Emotional intensity (01 = normal, 02 = strong). NOTE: There is no strong intensity for the 'neutral' emotion.</li>\n",
    "<li>Statement (01 = \"Kids are talking by the door\", 02 = \"Dogs are sitting by the door\").</li>\n",
    "<li>Repetition (01 = 1st repetition, 02 = 2nd repetition)..</li>\n",
    "<li>Actor (01 to 24. Odd numbered actors are male, even numbered actors are female).</li>\n",
    "</ol>"
   ]
  },
  {
   "cell_type": "markdown",
   "metadata": {},
   "source": [
    "## Downloading Libraries"
   ]
  },
  {
   "cell_type": "code",
   "execution_count": 1,
   "metadata": {},
   "outputs": [],
   "source": [
    "#!pip install librosa soundfile numpy sklearn pyaudio"
   ]
  },
  {
   "cell_type": "code",
   "execution_count": 2,
   "metadata": {},
   "outputs": [],
   "source": [
    "#!pip install soundfile"
   ]
  },
  {
   "cell_type": "code",
   "execution_count": 3,
   "metadata": {},
   "outputs": [],
   "source": [
    "# pip install seaborn"
   ]
  },
  {
   "cell_type": "markdown",
   "metadata": {},
   "source": [
    "## Libraries Import"
   ]
  },
  {
   "cell_type": "code",
   "execution_count": 4,
   "metadata": {},
   "outputs": [],
   "source": [
    "# Import our libraries\n",
    "\n",
    "import os,glob\n",
    "import librosa\n",
    "import time\n",
    "import numpy as np\n",
    "import pandas as pd\n",
    "import matplotlib.pyplot as plt\n",
    "from sklearn.model_selection import train_test_split\n",
    "from sklearn.svm import SVC\n",
    "import time\n",
    "from sklearn.metrics import accuracy_score\n",
    "from sklearn.metrics import classification_report\n",
    "from sklearn.metrics import confusion_matrix\n",
    "import seaborn as sn\n",
    "from sklearn.svm import SVC\n",
    "import seaborn as sn\n",
    "from sklearn.model_selection import cross_val_score\n",
    "import librosa.display\n",
    "from sklearn.preprocessing import StandardScaler\n",
    "from sklearn.pipeline import Pipeline\n",
    "import soundfile\n",
    "import os.path"
   ]
  },
  {
   "cell_type": "markdown",
   "metadata": {},
   "source": [
    "## Feature Extraction\n",
    "\n",
    "This function loads the file give the file path and after resampling and computing MFCC features, returns the features. We have selected the no. of MFCCs as 40.\n"
   ]
  },
  {
   "cell_type": "code",
   "execution_count": 5,
   "metadata": {},
   "outputs": [],
   "source": [
    "#Extract features (mfcc, chroma, mel) from a given sound file(with path)\n",
    "def extract_feature(file_name, mfcc):\n",
    "    X, sample_rate = librosa.load(os.path.join(file_name), res_type='kaiser_fast')\n",
    "    result=np.array([])\n",
    "    if mfcc:\n",
    "        mfccs=np.mean(librosa.feature.mfcc(y=X, sr=sample_rate, n_mfcc=40).T, axis=0)\n",
    "        result=np.hstack((result, mfccs))\n",
    "    return result"
   ]
  },
  {
   "cell_type": "code",
   "execution_count": 6,
   "metadata": {},
   "outputs": [],
   "source": [
    "#Emotions in the RAVDESS dataset, it will not take the neutral into the modeling process\n",
    "emotions={\n",
    "  '01':'neutral',\n",
    "  '02':'calm',\n",
    "  '03':'happy',\n",
    "  '04':'sad',\n",
    "  '05':'angry',\n",
    "  '06':'fear',\n",
    "  '07':'disgust',\n",
    "  '08':'surprise'\n",
    "}\n",
    "#Emotions to observe(all emotions except neutral)\n",
    "observed_emotions=['neutral','calm', 'happy', 'sad','angry','fear', 'disgust','surprise']"
   ]
  },
  {
   "cell_type": "markdown",
   "metadata": {},
   "source": [
    "## Retrieve RAVDESS dataset from File System"
   ]
  },
  {
   "cell_type": "code",
   "execution_count": 7,
   "metadata": {},
   "outputs": [
    {
     "data": {
      "text/plain": [
       "['03-01-01-01-01-01-01.wav',\n",
       " '03-01-01-01-01-02-01.wav',\n",
       " '03-01-01-01-02-01-01.wav',\n",
       " '03-01-01-01-02-02-01.wav',\n",
       " '03-01-02-01-01-01-01.wav']"
      ]
     },
     "execution_count": 7,
     "metadata": {},
     "output_type": "execute_result"
    }
   ],
   "source": [
    "#audio file path in file system\n",
    "RAV = \"../datasets/RAVDESS/\"\n",
    "CSV = \"../datasets/CSV/\"\n",
    "# test to run one example \n",
    "dir_list = os.listdir(RAV+\"Actor_01/\")\n",
    "dir_list[0:5]"
   ]
  },
  {
   "cell_type": "code",
   "execution_count": 8,
   "metadata": {},
   "outputs": [],
   "source": [
    "#Load the data and extract features for each sound file\n",
    "def load_data(test_size=0.2): \n",
    "    x,y=[],[]\n",
    "    \n",
    "    # feature to extract\n",
    "    mfcc = True \n",
    "    path= RAV+\"Actor_*/*.wav\"   \n",
    "    for file in glob.glob(path):\n",
    "        file_name=os.path.basename(file)\n",
    "        emotion=emotions[file_name.split(\"-\")[2]] #to get emotion according to filename. dictionary emotions is defined above.\n",
    "        if emotion not in observed_emotions: #options observed_emotions - RAVDESS and TESS, ravdess_emotions for RAVDESS only\n",
    "            continue\n",
    "        feature=extract_feature(file, mfcc)\n",
    "        x.append(feature)\n",
    "        y.append(emotion)\n",
    "    return {\"X\":x,\"y\":y}"
   ]
  },
  {
   "cell_type": "code",
   "execution_count": 9,
   "metadata": {
    "scrolled": false
   },
   "outputs": [],
   "source": [
    "#load data into memory\n",
    "Trial_dict = load_data(test_size = 0.3)"
   ]
  },
  {
   "cell_type": "code",
   "execution_count": 10,
   "metadata": {
    "scrolled": true
   },
   "outputs": [
    {
     "data": {
      "text/plain": [
       "((1440, 40), (1440, 1))"
      ]
     },
     "execution_count": 10,
     "metadata": {},
     "output_type": "execute_result"
    }
   ],
   "source": [
    "X = pd.DataFrame(Trial_dict[\"X\"])\n",
    "y = pd.DataFrame(Trial_dict[\"y\"])\n",
    "X.shape, y.shape"
   ]
  },
  {
   "cell_type": "code",
   "execution_count": 11,
   "metadata": {
    "scrolled": false
   },
   "outputs": [
    {
     "data": {
      "text/html": [
       "<div>\n",
       "<style scoped>\n",
       "    .dataframe tbody tr th:only-of-type {\n",
       "        vertical-align: middle;\n",
       "    }\n",
       "\n",
       "    .dataframe tbody tr th {\n",
       "        vertical-align: top;\n",
       "    }\n",
       "\n",
       "    .dataframe thead th {\n",
       "        text-align: right;\n",
       "    }\n",
       "</style>\n",
       "<table border=\"1\" class=\"dataframe\">\n",
       "  <thead>\n",
       "    <tr style=\"text-align: right;\">\n",
       "      <th></th>\n",
       "      <th>0</th>\n",
       "      <th>1</th>\n",
       "      <th>2</th>\n",
       "      <th>3</th>\n",
       "      <th>4</th>\n",
       "      <th>5</th>\n",
       "      <th>6</th>\n",
       "      <th>7</th>\n",
       "      <th>8</th>\n",
       "      <th>9</th>\n",
       "      <th>...</th>\n",
       "      <th>31</th>\n",
       "      <th>32</th>\n",
       "      <th>33</th>\n",
       "      <th>34</th>\n",
       "      <th>35</th>\n",
       "      <th>36</th>\n",
       "      <th>37</th>\n",
       "      <th>38</th>\n",
       "      <th>39</th>\n",
       "      <th>emotion</th>\n",
       "    </tr>\n",
       "  </thead>\n",
       "  <tbody>\n",
       "    <tr>\n",
       "      <th>0</th>\n",
       "      <td>-707.226318</td>\n",
       "      <td>68.469788</td>\n",
       "      <td>-11.611320</td>\n",
       "      <td>22.716902</td>\n",
       "      <td>-0.303072</td>\n",
       "      <td>5.822211</td>\n",
       "      <td>-6.081500</td>\n",
       "      <td>-2.655389</td>\n",
       "      <td>-9.960321</td>\n",
       "      <td>-5.103168</td>\n",
       "      <td>...</td>\n",
       "      <td>-2.744597</td>\n",
       "      <td>-2.285304</td>\n",
       "      <td>-2.167415</td>\n",
       "      <td>-2.929328</td>\n",
       "      <td>-1.793007</td>\n",
       "      <td>-0.758816</td>\n",
       "      <td>-2.190662</td>\n",
       "      <td>-2.976669</td>\n",
       "      <td>-2.087532</td>\n",
       "      <td>neutral</td>\n",
       "    </tr>\n",
       "    <tr>\n",
       "      <th>1</th>\n",
       "      <td>-703.383240</td>\n",
       "      <td>70.197769</td>\n",
       "      <td>-15.213277</td>\n",
       "      <td>27.412649</td>\n",
       "      <td>-0.247905</td>\n",
       "      <td>5.837488</td>\n",
       "      <td>-4.831208</td>\n",
       "      <td>-4.569034</td>\n",
       "      <td>-10.607910</td>\n",
       "      <td>-3.820005</td>\n",
       "      <td>...</td>\n",
       "      <td>-3.116829</td>\n",
       "      <td>-1.922442</td>\n",
       "      <td>-2.564388</td>\n",
       "      <td>-2.969680</td>\n",
       "      <td>-0.872745</td>\n",
       "      <td>-1.239757</td>\n",
       "      <td>-3.162743</td>\n",
       "      <td>-2.940819</td>\n",
       "      <td>-2.609301</td>\n",
       "      <td>neutral</td>\n",
       "    </tr>\n",
       "    <tr>\n",
       "      <th>2</th>\n",
       "      <td>-700.794006</td>\n",
       "      <td>70.959595</td>\n",
       "      <td>-11.694939</td>\n",
       "      <td>23.595743</td>\n",
       "      <td>-2.463483</td>\n",
       "      <td>6.388802</td>\n",
       "      <td>-5.021149</td>\n",
       "      <td>-4.631995</td>\n",
       "      <td>-9.482592</td>\n",
       "      <td>-5.633955</td>\n",
       "      <td>...</td>\n",
       "      <td>-2.547276</td>\n",
       "      <td>-2.147709</td>\n",
       "      <td>-1.945596</td>\n",
       "      <td>-2.771029</td>\n",
       "      <td>-1.836579</td>\n",
       "      <td>-1.192164</td>\n",
       "      <td>-2.677400</td>\n",
       "      <td>-3.442389</td>\n",
       "      <td>-2.399600</td>\n",
       "      <td>neutral</td>\n",
       "    </tr>\n",
       "    <tr>\n",
       "      <th>3</th>\n",
       "      <td>-694.826050</td>\n",
       "      <td>69.669205</td>\n",
       "      <td>-9.815083</td>\n",
       "      <td>23.888597</td>\n",
       "      <td>-1.381263</td>\n",
       "      <td>8.620013</td>\n",
       "      <td>-4.805181</td>\n",
       "      <td>-6.055672</td>\n",
       "      <td>-9.544140</td>\n",
       "      <td>-5.380029</td>\n",
       "      <td>...</td>\n",
       "      <td>-2.928294</td>\n",
       "      <td>-2.366574</td>\n",
       "      <td>-3.042785</td>\n",
       "      <td>-3.062823</td>\n",
       "      <td>-1.447675</td>\n",
       "      <td>-0.979923</td>\n",
       "      <td>-2.325146</td>\n",
       "      <td>-3.415248</td>\n",
       "      <td>-3.387120</td>\n",
       "      <td>neutral</td>\n",
       "    </tr>\n",
       "    <tr>\n",
       "      <th>4</th>\n",
       "      <td>-737.437988</td>\n",
       "      <td>77.273209</td>\n",
       "      <td>-11.190391</td>\n",
       "      <td>26.755884</td>\n",
       "      <td>-1.537418</td>\n",
       "      <td>8.085284</td>\n",
       "      <td>-7.015995</td>\n",
       "      <td>-3.006230</td>\n",
       "      <td>-8.947398</td>\n",
       "      <td>-7.313802</td>\n",
       "      <td>...</td>\n",
       "      <td>-2.158252</td>\n",
       "      <td>-1.256279</td>\n",
       "      <td>-2.996467</td>\n",
       "      <td>-1.348934</td>\n",
       "      <td>-0.796627</td>\n",
       "      <td>-1.648554</td>\n",
       "      <td>-1.981015</td>\n",
       "      <td>-3.455514</td>\n",
       "      <td>-3.098281</td>\n",
       "      <td>calm</td>\n",
       "    </tr>\n",
       "    <tr>\n",
       "      <th>5</th>\n",
       "      <td>-716.575806</td>\n",
       "      <td>79.555000</td>\n",
       "      <td>-9.764153</td>\n",
       "      <td>21.266054</td>\n",
       "      <td>1.637321</td>\n",
       "      <td>6.441747</td>\n",
       "      <td>-7.460036</td>\n",
       "      <td>-3.939013</td>\n",
       "      <td>-7.493039</td>\n",
       "      <td>-6.710302</td>\n",
       "      <td>...</td>\n",
       "      <td>-3.157654</td>\n",
       "      <td>-2.751998</td>\n",
       "      <td>-3.946696</td>\n",
       "      <td>-3.424494</td>\n",
       "      <td>-1.561885</td>\n",
       "      <td>-1.812810</td>\n",
       "      <td>-3.330558</td>\n",
       "      <td>-3.927409</td>\n",
       "      <td>-4.398661</td>\n",
       "      <td>calm</td>\n",
       "    </tr>\n",
       "    <tr>\n",
       "      <th>6</th>\n",
       "      <td>-708.541504</td>\n",
       "      <td>81.566536</td>\n",
       "      <td>-14.513219</td>\n",
       "      <td>26.434237</td>\n",
       "      <td>-4.558772</td>\n",
       "      <td>9.789379</td>\n",
       "      <td>-5.627738</td>\n",
       "      <td>-3.479167</td>\n",
       "      <td>-8.197019</td>\n",
       "      <td>-6.570935</td>\n",
       "      <td>...</td>\n",
       "      <td>-2.898625</td>\n",
       "      <td>-1.729264</td>\n",
       "      <td>-3.638450</td>\n",
       "      <td>-3.722741</td>\n",
       "      <td>-2.391207</td>\n",
       "      <td>-1.859560</td>\n",
       "      <td>-2.648129</td>\n",
       "      <td>-4.284513</td>\n",
       "      <td>-3.400892</td>\n",
       "      <td>calm</td>\n",
       "    </tr>\n",
       "    <tr>\n",
       "      <th>7</th>\n",
       "      <td>-709.393677</td>\n",
       "      <td>84.234299</td>\n",
       "      <td>-13.381046</td>\n",
       "      <td>25.719385</td>\n",
       "      <td>-1.773599</td>\n",
       "      <td>8.669509</td>\n",
       "      <td>-5.068448</td>\n",
       "      <td>-4.345946</td>\n",
       "      <td>-7.930424</td>\n",
       "      <td>-6.252995</td>\n",
       "      <td>...</td>\n",
       "      <td>-2.574771</td>\n",
       "      <td>-1.703177</td>\n",
       "      <td>-2.932248</td>\n",
       "      <td>-3.322625</td>\n",
       "      <td>-1.913512</td>\n",
       "      <td>-1.099499</td>\n",
       "      <td>-2.460561</td>\n",
       "      <td>-3.341412</td>\n",
       "      <td>-3.574461</td>\n",
       "      <td>calm</td>\n",
       "    </tr>\n",
       "    <tr>\n",
       "      <th>8</th>\n",
       "      <td>-746.074280</td>\n",
       "      <td>87.865776</td>\n",
       "      <td>-12.613696</td>\n",
       "      <td>27.847467</td>\n",
       "      <td>-2.255568</td>\n",
       "      <td>9.403696</td>\n",
       "      <td>-8.469919</td>\n",
       "      <td>-1.561309</td>\n",
       "      <td>-5.440102</td>\n",
       "      <td>-6.947087</td>\n",
       "      <td>...</td>\n",
       "      <td>-4.273163</td>\n",
       "      <td>-2.579099</td>\n",
       "      <td>-3.169269</td>\n",
       "      <td>-4.250158</td>\n",
       "      <td>-0.516558</td>\n",
       "      <td>-2.046174</td>\n",
       "      <td>-3.282803</td>\n",
       "      <td>-4.088738</td>\n",
       "      <td>-3.995429</td>\n",
       "      <td>calm</td>\n",
       "    </tr>\n",
       "    <tr>\n",
       "      <th>9</th>\n",
       "      <td>-709.888733</td>\n",
       "      <td>83.872131</td>\n",
       "      <td>-16.015291</td>\n",
       "      <td>24.925694</td>\n",
       "      <td>-3.676042</td>\n",
       "      <td>7.734766</td>\n",
       "      <td>-8.870955</td>\n",
       "      <td>-4.643577</td>\n",
       "      <td>-7.436958</td>\n",
       "      <td>-6.956243</td>\n",
       "      <td>...</td>\n",
       "      <td>-3.525422</td>\n",
       "      <td>-3.342165</td>\n",
       "      <td>-3.688268</td>\n",
       "      <td>-4.542849</td>\n",
       "      <td>-1.813079</td>\n",
       "      <td>-1.500344</td>\n",
       "      <td>-2.933184</td>\n",
       "      <td>-3.796410</td>\n",
       "      <td>-4.100177</td>\n",
       "      <td>calm</td>\n",
       "    </tr>\n",
       "  </tbody>\n",
       "</table>\n",
       "<p>10 rows × 41 columns</p>\n",
       "</div>"
      ],
      "text/plain": [
       "            0          1          2          3         4         5         6  \\\n",
       "0 -707.226318  68.469788 -11.611320  22.716902 -0.303072  5.822211 -6.081500   \n",
       "1 -703.383240  70.197769 -15.213277  27.412649 -0.247905  5.837488 -4.831208   \n",
       "2 -700.794006  70.959595 -11.694939  23.595743 -2.463483  6.388802 -5.021149   \n",
       "3 -694.826050  69.669205  -9.815083  23.888597 -1.381263  8.620013 -4.805181   \n",
       "4 -737.437988  77.273209 -11.190391  26.755884 -1.537418  8.085284 -7.015995   \n",
       "5 -716.575806  79.555000  -9.764153  21.266054  1.637321  6.441747 -7.460036   \n",
       "6 -708.541504  81.566536 -14.513219  26.434237 -4.558772  9.789379 -5.627738   \n",
       "7 -709.393677  84.234299 -13.381046  25.719385 -1.773599  8.669509 -5.068448   \n",
       "8 -746.074280  87.865776 -12.613696  27.847467 -2.255568  9.403696 -8.469919   \n",
       "9 -709.888733  83.872131 -16.015291  24.925694 -3.676042  7.734766 -8.870955   \n",
       "\n",
       "          7          8         9  ...        31        32        33        34  \\\n",
       "0 -2.655389  -9.960321 -5.103168  ... -2.744597 -2.285304 -2.167415 -2.929328   \n",
       "1 -4.569034 -10.607910 -3.820005  ... -3.116829 -1.922442 -2.564388 -2.969680   \n",
       "2 -4.631995  -9.482592 -5.633955  ... -2.547276 -2.147709 -1.945596 -2.771029   \n",
       "3 -6.055672  -9.544140 -5.380029  ... -2.928294 -2.366574 -3.042785 -3.062823   \n",
       "4 -3.006230  -8.947398 -7.313802  ... -2.158252 -1.256279 -2.996467 -1.348934   \n",
       "5 -3.939013  -7.493039 -6.710302  ... -3.157654 -2.751998 -3.946696 -3.424494   \n",
       "6 -3.479167  -8.197019 -6.570935  ... -2.898625 -1.729264 -3.638450 -3.722741   \n",
       "7 -4.345946  -7.930424 -6.252995  ... -2.574771 -1.703177 -2.932248 -3.322625   \n",
       "8 -1.561309  -5.440102 -6.947087  ... -4.273163 -2.579099 -3.169269 -4.250158   \n",
       "9 -4.643577  -7.436958 -6.956243  ... -3.525422 -3.342165 -3.688268 -4.542849   \n",
       "\n",
       "         35        36        37        38        39  emotion  \n",
       "0 -1.793007 -0.758816 -2.190662 -2.976669 -2.087532  neutral  \n",
       "1 -0.872745 -1.239757 -3.162743 -2.940819 -2.609301  neutral  \n",
       "2 -1.836579 -1.192164 -2.677400 -3.442389 -2.399600  neutral  \n",
       "3 -1.447675 -0.979923 -2.325146 -3.415248 -3.387120  neutral  \n",
       "4 -0.796627 -1.648554 -1.981015 -3.455514 -3.098281     calm  \n",
       "5 -1.561885 -1.812810 -3.330558 -3.927409 -4.398661     calm  \n",
       "6 -2.391207 -1.859560 -2.648129 -4.284513 -3.400892     calm  \n",
       "7 -1.913512 -1.099499 -2.460561 -3.341412 -3.574461     calm  \n",
       "8 -0.516558 -2.046174 -3.282803 -4.088738 -3.995429     calm  \n",
       "9 -1.813079 -1.500344 -2.933184 -3.796410 -4.100177     calm  \n",
       "\n",
       "[10 rows x 41 columns]"
      ]
     },
     "execution_count": 11,
     "metadata": {},
     "output_type": "execute_result"
    }
   ],
   "source": [
    "#renaming the label column to emotion, store the attributes and label into dataframe\n",
    "y=y.rename(columns= {0: 'emotion'})\n",
    "data = pd.concat([X, y], axis =1)\n",
    "#view the first 10 record\n",
    "data.head(10)"
   ]
  },
  {
   "cell_type": "code",
   "execution_count": 12,
   "metadata": {
    "scrolled": false
   },
   "outputs": [
    {
     "data": {
      "text/html": [
       "<div>\n",
       "<style scoped>\n",
       "    .dataframe tbody tr th:only-of-type {\n",
       "        vertical-align: middle;\n",
       "    }\n",
       "\n",
       "    .dataframe tbody tr th {\n",
       "        vertical-align: top;\n",
       "    }\n",
       "\n",
       "    .dataframe thead th {\n",
       "        text-align: right;\n",
       "    }\n",
       "</style>\n",
       "<table border=\"1\" class=\"dataframe\">\n",
       "  <thead>\n",
       "    <tr style=\"text-align: right;\">\n",
       "      <th></th>\n",
       "      <th>0</th>\n",
       "      <th>1</th>\n",
       "      <th>2</th>\n",
       "      <th>3</th>\n",
       "      <th>4</th>\n",
       "      <th>5</th>\n",
       "      <th>6</th>\n",
       "      <th>7</th>\n",
       "      <th>8</th>\n",
       "      <th>9</th>\n",
       "      <th>...</th>\n",
       "      <th>31</th>\n",
       "      <th>32</th>\n",
       "      <th>33</th>\n",
       "      <th>34</th>\n",
       "      <th>35</th>\n",
       "      <th>36</th>\n",
       "      <th>37</th>\n",
       "      <th>38</th>\n",
       "      <th>39</th>\n",
       "      <th>emotion</th>\n",
       "    </tr>\n",
       "  </thead>\n",
       "  <tbody>\n",
       "    <tr>\n",
       "      <th>1181</th>\n",
       "      <td>-338.552917</td>\n",
       "      <td>52.547874</td>\n",
       "      <td>-66.126472</td>\n",
       "      <td>9.332636</td>\n",
       "      <td>-39.159100</td>\n",
       "      <td>-4.312311</td>\n",
       "      <td>-14.967619</td>\n",
       "      <td>-21.269730</td>\n",
       "      <td>-1.338707</td>\n",
       "      <td>-4.430122</td>\n",
       "      <td>...</td>\n",
       "      <td>-0.803120</td>\n",
       "      <td>1.389611</td>\n",
       "      <td>0.891820</td>\n",
       "      <td>3.008963</td>\n",
       "      <td>1.303128</td>\n",
       "      <td>-0.155162</td>\n",
       "      <td>3.049829</td>\n",
       "      <td>0.637024</td>\n",
       "      <td>1.995336</td>\n",
       "      <td>fear</td>\n",
       "    </tr>\n",
       "    <tr>\n",
       "      <th>229</th>\n",
       "      <td>-529.205994</td>\n",
       "      <td>41.442177</td>\n",
       "      <td>-23.711945</td>\n",
       "      <td>13.085968</td>\n",
       "      <td>-17.080690</td>\n",
       "      <td>0.660945</td>\n",
       "      <td>-8.595633</td>\n",
       "      <td>-8.980066</td>\n",
       "      <td>-8.972059</td>\n",
       "      <td>-7.440603</td>\n",
       "      <td>...</td>\n",
       "      <td>1.744527</td>\n",
       "      <td>0.299460</td>\n",
       "      <td>-1.841356</td>\n",
       "      <td>-1.014504</td>\n",
       "      <td>0.452295</td>\n",
       "      <td>0.421560</td>\n",
       "      <td>-1.298387</td>\n",
       "      <td>-0.621251</td>\n",
       "      <td>0.503425</td>\n",
       "      <td>disgust</td>\n",
       "    </tr>\n",
       "    <tr>\n",
       "      <th>530</th>\n",
       "      <td>-663.652466</td>\n",
       "      <td>89.418388</td>\n",
       "      <td>-18.095991</td>\n",
       "      <td>33.272022</td>\n",
       "      <td>2.141862</td>\n",
       "      <td>4.263889</td>\n",
       "      <td>-3.587417</td>\n",
       "      <td>-3.004566</td>\n",
       "      <td>-3.533011</td>\n",
       "      <td>-5.172489</td>\n",
       "      <td>...</td>\n",
       "      <td>-0.929295</td>\n",
       "      <td>-2.033277</td>\n",
       "      <td>-1.425915</td>\n",
       "      <td>-2.352132</td>\n",
       "      <td>-1.267427</td>\n",
       "      <td>-1.643792</td>\n",
       "      <td>-3.332950</td>\n",
       "      <td>-2.821668</td>\n",
       "      <td>-1.973515</td>\n",
       "      <td>disgust</td>\n",
       "    </tr>\n",
       "    <tr>\n",
       "      <th>1253</th>\n",
       "      <td>-577.867371</td>\n",
       "      <td>73.619087</td>\n",
       "      <td>-18.327152</td>\n",
       "      <td>23.281162</td>\n",
       "      <td>-5.826913</td>\n",
       "      <td>1.010728</td>\n",
       "      <td>-5.946479</td>\n",
       "      <td>-3.472930</td>\n",
       "      <td>-11.609866</td>\n",
       "      <td>-4.337431</td>\n",
       "      <td>...</td>\n",
       "      <td>-0.851080</td>\n",
       "      <td>0.668009</td>\n",
       "      <td>-0.169132</td>\n",
       "      <td>-0.305280</td>\n",
       "      <td>0.965824</td>\n",
       "      <td>-0.069652</td>\n",
       "      <td>-1.459645</td>\n",
       "      <td>-1.763995</td>\n",
       "      <td>-0.148795</td>\n",
       "      <td>surprise</td>\n",
       "    </tr>\n",
       "    <tr>\n",
       "      <th>51</th>\n",
       "      <td>-513.729797</td>\n",
       "      <td>59.866940</td>\n",
       "      <td>-17.027695</td>\n",
       "      <td>13.162114</td>\n",
       "      <td>-14.650084</td>\n",
       "      <td>5.518641</td>\n",
       "      <td>-17.602156</td>\n",
       "      <td>-14.143149</td>\n",
       "      <td>-7.284636</td>\n",
       "      <td>-8.277965</td>\n",
       "      <td>...</td>\n",
       "      <td>0.475055</td>\n",
       "      <td>0.127056</td>\n",
       "      <td>-0.652664</td>\n",
       "      <td>0.509092</td>\n",
       "      <td>2.348787</td>\n",
       "      <td>0.892388</td>\n",
       "      <td>-0.256712</td>\n",
       "      <td>-0.552961</td>\n",
       "      <td>-0.891407</td>\n",
       "      <td>disgust</td>\n",
       "    </tr>\n",
       "    <tr>\n",
       "      <th>342</th>\n",
       "      <td>-414.027649</td>\n",
       "      <td>36.129814</td>\n",
       "      <td>-69.737396</td>\n",
       "      <td>8.073068</td>\n",
       "      <td>-28.755129</td>\n",
       "      <td>-14.839826</td>\n",
       "      <td>-27.123951</td>\n",
       "      <td>-11.327147</td>\n",
       "      <td>-6.922168</td>\n",
       "      <td>7.212120</td>\n",
       "      <td>...</td>\n",
       "      <td>1.991788</td>\n",
       "      <td>3.569013</td>\n",
       "      <td>3.779816</td>\n",
       "      <td>3.009219</td>\n",
       "      <td>3.814130</td>\n",
       "      <td>1.700310</td>\n",
       "      <td>3.197318</td>\n",
       "      <td>0.907908</td>\n",
       "      <td>1.488265</td>\n",
       "      <td>fear</td>\n",
       "    </tr>\n",
       "    <tr>\n",
       "      <th>1182</th>\n",
       "      <td>-387.384186</td>\n",
       "      <td>40.128887</td>\n",
       "      <td>-55.072609</td>\n",
       "      <td>-1.671332</td>\n",
       "      <td>-29.367205</td>\n",
       "      <td>-9.791156</td>\n",
       "      <td>-17.020586</td>\n",
       "      <td>-9.832851</td>\n",
       "      <td>-2.657130</td>\n",
       "      <td>-1.879729</td>\n",
       "      <td>...</td>\n",
       "      <td>-2.378070</td>\n",
       "      <td>1.149091</td>\n",
       "      <td>1.021891</td>\n",
       "      <td>1.044353</td>\n",
       "      <td>-0.068962</td>\n",
       "      <td>0.223435</td>\n",
       "      <td>-0.206250</td>\n",
       "      <td>-2.848704</td>\n",
       "      <td>0.276213</td>\n",
       "      <td>fear</td>\n",
       "    </tr>\n",
       "    <tr>\n",
       "      <th>473</th>\n",
       "      <td>-623.693909</td>\n",
       "      <td>65.962906</td>\n",
       "      <td>-14.317391</td>\n",
       "      <td>21.362665</td>\n",
       "      <td>-8.618156</td>\n",
       "      <td>8.517733</td>\n",
       "      <td>-2.920807</td>\n",
       "      <td>-9.779818</td>\n",
       "      <td>-1.106733</td>\n",
       "      <td>-1.929996</td>\n",
       "      <td>...</td>\n",
       "      <td>3.629236</td>\n",
       "      <td>5.204339</td>\n",
       "      <td>5.060178</td>\n",
       "      <td>3.593176</td>\n",
       "      <td>2.540422</td>\n",
       "      <td>1.588792</td>\n",
       "      <td>1.188847</td>\n",
       "      <td>2.000696</td>\n",
       "      <td>3.643912</td>\n",
       "      <td>surprise</td>\n",
       "    </tr>\n",
       "    <tr>\n",
       "      <th>174</th>\n",
       "      <td>-596.577881</td>\n",
       "      <td>69.952179</td>\n",
       "      <td>-21.356483</td>\n",
       "      <td>18.109856</td>\n",
       "      <td>-12.931476</td>\n",
       "      <td>6.526531</td>\n",
       "      <td>-15.431810</td>\n",
       "      <td>-9.309428</td>\n",
       "      <td>-4.748190</td>\n",
       "      <td>-12.159624</td>\n",
       "      <td>...</td>\n",
       "      <td>-2.703156</td>\n",
       "      <td>-1.397105</td>\n",
       "      <td>-2.204569</td>\n",
       "      <td>-3.199779</td>\n",
       "      <td>-1.581236</td>\n",
       "      <td>-4.535791</td>\n",
       "      <td>-3.786324</td>\n",
       "      <td>0.338193</td>\n",
       "      <td>2.889488</td>\n",
       "      <td>surprise</td>\n",
       "    </tr>\n",
       "    <tr>\n",
       "      <th>861</th>\n",
       "      <td>-677.968872</td>\n",
       "      <td>88.534340</td>\n",
       "      <td>-12.694828</td>\n",
       "      <td>33.097542</td>\n",
       "      <td>6.205454</td>\n",
       "      <td>9.754973</td>\n",
       "      <td>4.073512</td>\n",
       "      <td>2.037340</td>\n",
       "      <td>0.535989</td>\n",
       "      <td>3.446408</td>\n",
       "      <td>...</td>\n",
       "      <td>-0.234609</td>\n",
       "      <td>1.960120</td>\n",
       "      <td>0.685929</td>\n",
       "      <td>0.605203</td>\n",
       "      <td>1.771387</td>\n",
       "      <td>0.430735</td>\n",
       "      <td>1.019703</td>\n",
       "      <td>-0.600915</td>\n",
       "      <td>-0.536826</td>\n",
       "      <td>sad</td>\n",
       "    </tr>\n",
       "  </tbody>\n",
       "</table>\n",
       "<p>10 rows × 41 columns</p>\n",
       "</div>"
      ],
      "text/plain": [
       "               0          1          2          3          4          5  \\\n",
       "1181 -338.552917  52.547874 -66.126472   9.332636 -39.159100  -4.312311   \n",
       "229  -529.205994  41.442177 -23.711945  13.085968 -17.080690   0.660945   \n",
       "530  -663.652466  89.418388 -18.095991  33.272022   2.141862   4.263889   \n",
       "1253 -577.867371  73.619087 -18.327152  23.281162  -5.826913   1.010728   \n",
       "51   -513.729797  59.866940 -17.027695  13.162114 -14.650084   5.518641   \n",
       "342  -414.027649  36.129814 -69.737396   8.073068 -28.755129 -14.839826   \n",
       "1182 -387.384186  40.128887 -55.072609  -1.671332 -29.367205  -9.791156   \n",
       "473  -623.693909  65.962906 -14.317391  21.362665  -8.618156   8.517733   \n",
       "174  -596.577881  69.952179 -21.356483  18.109856 -12.931476   6.526531   \n",
       "861  -677.968872  88.534340 -12.694828  33.097542   6.205454   9.754973   \n",
       "\n",
       "              6          7          8          9  ...        31        32  \\\n",
       "1181 -14.967619 -21.269730  -1.338707  -4.430122  ... -0.803120  1.389611   \n",
       "229   -8.595633  -8.980066  -8.972059  -7.440603  ...  1.744527  0.299460   \n",
       "530   -3.587417  -3.004566  -3.533011  -5.172489  ... -0.929295 -2.033277   \n",
       "1253  -5.946479  -3.472930 -11.609866  -4.337431  ... -0.851080  0.668009   \n",
       "51   -17.602156 -14.143149  -7.284636  -8.277965  ...  0.475055  0.127056   \n",
       "342  -27.123951 -11.327147  -6.922168   7.212120  ...  1.991788  3.569013   \n",
       "1182 -17.020586  -9.832851  -2.657130  -1.879729  ... -2.378070  1.149091   \n",
       "473   -2.920807  -9.779818  -1.106733  -1.929996  ...  3.629236  5.204339   \n",
       "174  -15.431810  -9.309428  -4.748190 -12.159624  ... -2.703156 -1.397105   \n",
       "861    4.073512   2.037340   0.535989   3.446408  ... -0.234609  1.960120   \n",
       "\n",
       "            33        34        35        36        37        38        39  \\\n",
       "1181  0.891820  3.008963  1.303128 -0.155162  3.049829  0.637024  1.995336   \n",
       "229  -1.841356 -1.014504  0.452295  0.421560 -1.298387 -0.621251  0.503425   \n",
       "530  -1.425915 -2.352132 -1.267427 -1.643792 -3.332950 -2.821668 -1.973515   \n",
       "1253 -0.169132 -0.305280  0.965824 -0.069652 -1.459645 -1.763995 -0.148795   \n",
       "51   -0.652664  0.509092  2.348787  0.892388 -0.256712 -0.552961 -0.891407   \n",
       "342   3.779816  3.009219  3.814130  1.700310  3.197318  0.907908  1.488265   \n",
       "1182  1.021891  1.044353 -0.068962  0.223435 -0.206250 -2.848704  0.276213   \n",
       "473   5.060178  3.593176  2.540422  1.588792  1.188847  2.000696  3.643912   \n",
       "174  -2.204569 -3.199779 -1.581236 -4.535791 -3.786324  0.338193  2.889488   \n",
       "861   0.685929  0.605203  1.771387  0.430735  1.019703 -0.600915 -0.536826   \n",
       "\n",
       "       emotion  \n",
       "1181      fear  \n",
       "229    disgust  \n",
       "530    disgust  \n",
       "1253  surprise  \n",
       "51     disgust  \n",
       "342       fear  \n",
       "1182      fear  \n",
       "473   surprise  \n",
       "174   surprise  \n",
       "861        sad  \n",
       "\n",
       "[10 rows x 41 columns]"
      ]
     },
     "execution_count": 12,
     "metadata": {},
     "output_type": "execute_result"
    }
   ],
   "source": [
    "#to shuffle the data\n",
    "data = data.reindex(np.random.permutation(data.index))\n",
    "#view the first 10 record after shuffle\n",
    "data.head(10)"
   ]
  },
  {
   "cell_type": "code",
   "execution_count": 13,
   "metadata": {
    "scrolled": false
   },
   "outputs": [
    {
     "name": "stdout",
     "output_type": "stream",
     "text": [
      "File already exist! Delete it first from file system if you want to replace old data\n"
     ]
    },
    {
     "data": {
      "text/plain": [
       "(1440, 41)"
      ]
     },
     "execution_count": 13,
     "metadata": {},
     "output_type": "execute_result"
    }
   ],
   "source": [
    "# save the shuffled data into csv file for future use.\n",
    "if os.path.isfile(CSV+\"mfcc_feature.csv\"):\n",
    "    print (\"File already exist! Delete it first from file system if you want to replace old data\")\n",
    "else:\n",
    "    data.to_csv(CSV+\"mfcc_feature.csv\")\n",
    "#to view the data dimension \n",
    "data.shape"
   ]
  },
  {
   "cell_type": "code",
   "execution_count": 14,
   "metadata": {
    "scrolled": true
   },
   "outputs": [
    {
     "data": {
      "text/plain": [
       "Index([        0,         1,         2,         3,         4,         5,\n",
       "               6,         7,         8,         9,        10,        11,\n",
       "              12,        13,        14,        15,        16,        17,\n",
       "              18,        19,        20,        21,        22,        23,\n",
       "              24,        25,        26,        27,        28,        29,\n",
       "              30,        31,        32,        33,        34,        35,\n",
       "              36,        37,        38,        39, 'emotion'],\n",
       "      dtype='object')"
      ]
     },
     "execution_count": 14,
     "metadata": {},
     "output_type": "execute_result"
    }
   ],
   "source": [
    "#check all the fields(columns) in the data\n",
    "data.columns"
   ]
  },
  {
   "cell_type": "code",
   "execution_count": 15,
   "metadata": {},
   "outputs": [
    {
     "data": {
      "text/plain": [
       "((1440, 40), (1440,))"
      ]
     },
     "execution_count": 15,
     "metadata": {},
     "output_type": "execute_result"
    }
   ],
   "source": [
    "#separating features and target outputs\n",
    "#X variable contains attributes while y variable contains corresponding labels.\n",
    "X = data.drop('emotion', axis = 1).values\n",
    "y = data['emotion'].values\n",
    "#check the shape of x and y\n",
    "X.shape, y.shape"
   ]
  },
  {
   "cell_type": "markdown",
   "metadata": {},
   "source": [
    "## SVM (Support Vector Machine) Classifier and Fit/Train the Model\n",
    "Implementing SVM with Scikit-Learn"
   ]
  },
  {
   "cell_type": "markdown",
   "metadata": {},
   "source": [
    "To split data into training and test sets. The model_selection library of the Scikit-Learn library contains the train_test_split method which is used to split data into training and test sets.\n",
    "\n",
    "to train SVM on the training data. Scikit-Learn contains the svm library, which contains built-in classes for different SVM algorithms. "
   ]
  },
  {
   "cell_type": "code",
   "execution_count": 16,
   "metadata": {},
   "outputs": [],
   "source": [
    "X_train, X_test, y_train, y_test = train_test_split(X, y, test_size = 0.20)\n",
    "svclassifier = SVC(kernel = 'linear')"
   ]
  },
  {
   "cell_type": "code",
   "execution_count": 17,
   "metadata": {},
   "outputs": [
    {
     "data": {
      "text/plain": [
       "SVC(kernel='linear')"
      ]
     },
     "execution_count": 17,
     "metadata": {},
     "output_type": "execute_result"
    }
   ],
   "source": [
    "svclassifier.fit(X_train, y_train)"
   ]
  },
  {
   "cell_type": "code",
   "execution_count": 18,
   "metadata": {},
   "outputs": [],
   "source": [
    "y_pred = svclassifier.predict(X_test)"
   ]
  },
  {
   "cell_type": "code",
   "execution_count": 19,
   "metadata": {
    "scrolled": false
   },
   "outputs": [
    {
     "name": "stdout",
     "output_type": "stream",
     "text": [
      "Accuracy: 47.92%\n",
      "Statistics:\n",
      "              precision    recall  f1-score   support\n",
      "\n",
      "       angry       0.65      0.81      0.72        42\n",
      "        calm       0.54      0.71      0.61        41\n",
      "     disgust       0.46      0.63      0.54        30\n",
      "        fear       0.44      0.38      0.41        32\n",
      "       happy       0.34      0.30      0.32        37\n",
      "     neutral       0.50      0.20      0.29        25\n",
      "         sad       0.41      0.47      0.44        40\n",
      "    surprise       0.35      0.22      0.27        41\n",
      "\n",
      "    accuracy                           0.48       288\n",
      "   macro avg       0.46      0.46      0.45       288\n",
      "weighted avg       0.46      0.48      0.46       288\n",
      "\n",
      "Confusion Matrix:\n"
     ]
    },
    {
     "data": {
      "image/png": "[encoded data removed]",
      "text/plain": [
       "<Figure size 432x288 with 2 Axes>"
      ]
     },
     "metadata": {
      "needs_background": "light"
     },
     "output_type": "display_data"
    }
   ],
   "source": [
    "accuracy=accuracy_score(y_test, y_pred)\n",
    "#Print the accuracy\n",
    "print(\"Accuracy: {:.2f}%\".format(accuracy*100))\n",
    "#Print the report\n",
    "print(\"Statistics:\")\n",
    "print(classification_report(y_test,y_pred))\n",
    "\n",
    "print(\"Confusion Matrix:\")\n",
    "matrix = confusion_matrix(y_test,y_pred)\n",
    "df_matrix = pd.DataFrame(matrix)\n",
    "sn.heatmap(df_matrix, annot=True, fmt='')\n",
    "plt.show()"
   ]
  },
  {
   "cell_type": "code",
   "execution_count": 20,
   "metadata": {
    "scrolled": false
   },
   "outputs": [
    {
     "name": "stdout",
     "output_type": "stream",
     "text": [
      "Train Accuracy: 65.19%\n",
      "Test Accuracy: 47.92%\n"
     ]
    }
   ],
   "source": [
    "#calculate and display the train and test accuracy\n",
    "train_accuracy = float(svclassifier.score(X_train, y_train)*100)\n",
    "print(\"Train Accuracy: {:.2f}%\".format(train_accuracy))\n",
    "test_accuracy = float(svclassifier.score(X_test, y_test)*100)\n",
    "print(\"Test Accuracy: {:.2f}%\".format(test_accuracy))"
   ]
  },
  {
   "cell_type": "markdown",
   "metadata": {},
   "source": [
    "## Cross-Validation\n",
    "after calculating the training accuracy and comparing with testing accuracy, to check for overfitting of data.\n",
    "5-fold cross validation of the dataset with the SVC classifier."
   ]
  },
  {
   "cell_type": "code",
   "execution_count": 21,
   "metadata": {},
   "outputs": [
    {
     "name": "stdout",
     "output_type": "stream",
     "text": [
      "[0.47569444 0.46180556 0.41666667 0.47916667 0.44444444]\n"
     ]
    }
   ],
   "source": [
    "# no. of folds cv = 5\n",
    "cv_results = cross_val_score(svclassifier, X, y, cv = 5)\n",
    "print(cv_results)"
   ]
  },
  {
   "cell_type": "markdown",
   "metadata": {},
   "source": [
    "## Scaling\n",
    "\n",
    "When performing the linear SVM classification, it is often helpful to normalize the training data and scale the test data with the mean and standard deviation of training data."
   ]
  },
  {
   "cell_type": "code",
   "execution_count": 22,
   "metadata": {},
   "outputs": [],
   "source": [
    "#splitting dataset into train/ test sets\n",
    "X_train, X_test, y_train, y_test = train_test_split(X, y, test_size = 0.20)"
   ]
  },
  {
   "cell_type": "code",
   "execution_count": 23,
   "metadata": {},
   "outputs": [],
   "source": [
    "# Setup the pipeline steps and create the pipeline and fit the pipeline to the training set: svc_scaled\n",
    "steps = [('scaler', StandardScaler()),\n",
    "        ('SVM', SVC())]\n",
    "pipeline = Pipeline(steps)\n",
    "svc_scaled = pipeline.fit(X_train, y_train)"
   ]
  },
  {
   "cell_type": "code",
   "execution_count": 24,
   "metadata": {
    "scrolled": true
   },
   "outputs": [
    {
     "name": "stdout",
     "output_type": "stream",
     "text": [
      "Accuracy with Scaling: 52.08%\n",
      "Accuracy without Scaling: 44.10%\n"
     ]
    }
   ],
   "source": [
    "# fit a classifier to the unscaled data, Compute and print metrics\n",
    "svc_unscaled = SVC(kernel = 'linear').fit(X_train, y_train)\n",
    "Scaling_accuracy = float(svc_scaled.score(X_test, y_test)*100)\n",
    "Non_Scaling_accuracy = float(svc_unscaled.score(X_test, y_test)*100)\n",
    "print('Accuracy with Scaling: {:.2f}%'.format(Scaling_accuracy))\n",
    "print('Accuracy without Scaling: {:.2f}%'.format(Non_Scaling_accuracy))"
   ]
  },
  {
   "cell_type": "markdown",
   "metadata": {},
   "source": [
    "## Generalization check\n",
    "Checking for overfitting or underfitting by comparing the training and testing scores of the model"
   ]
  },
  {
   "cell_type": "code",
   "execution_count": 25,
   "metadata": {},
   "outputs": [
    {
     "name": "stdout",
     "output_type": "stream",
     "text": [
      "Train Accuracy: 75.95%\n",
      "Test Accuracy: 52.08%\n"
     ]
    }
   ],
   "source": [
    "train_accuracy = float(svc_scaled.score(X_train, y_train)*100)\n",
    "print(\"Train Accuracy: {:.2f}%\".format(train_accuracy))\n",
    "test_accuracy = float(svc_scaled.score(X_test, y_test)*100)\n",
    "print(\"Test Accuracy: {:.2f}%\".format(test_accuracy))"
   ]
  },
  {
   "cell_type": "code",
   "execution_count": 26,
   "metadata": {},
   "outputs": [],
   "source": [
    "scaled_predictions = svc_scaled.predict(X_test)"
   ]
  },
  {
   "cell_type": "code",
   "execution_count": 27,
   "metadata": {
    "scrolled": false
   },
   "outputs": [
    {
     "name": "stdout",
     "output_type": "stream",
     "text": [
      "Accuracy: 52.08%\n",
      "Statistics:\n",
      "              precision    recall  f1-score   support\n",
      "\n",
      "       angry       0.69      0.73      0.71        33\n",
      "        calm       0.56      0.69      0.62        45\n",
      "     disgust       0.47      0.57      0.51        35\n",
      "        fear       0.44      0.75      0.55        28\n",
      "       happy       0.45      0.32      0.37        41\n",
      "     neutral       0.50      0.25      0.33        16\n",
      "         sad       0.42      0.19      0.26        43\n",
      "    surprise       0.57      0.62      0.59        47\n",
      "\n",
      "    accuracy                           0.52       288\n",
      "   macro avg       0.51      0.51      0.49       288\n",
      "weighted avg       0.51      0.52      0.50       288\n",
      "\n",
      "Confusion Matrix:\n"
     ]
    },
    {
     "data": {
      "image/png": "[encoded data removed]",
      "text/plain": [
       "<Figure size 432x288 with 2 Axes>"
      ]
     },
     "metadata": {
      "needs_background": "light"
     },
     "output_type": "display_data"
    }
   ],
   "source": [
    "accuracy=accuracy_score(y_test, scaled_predictions)\n",
    "\n",
    "#Print the accuracy\n",
    "print(\"Accuracy: {:.2f}%\".format(accuracy*100))\n",
    "\n",
    "#Print the report\n",
    "print(\"Statistics:\")\n",
    "print(classification_report(y_test,scaled_predictions))\n",
    "\n",
    "print(\"Confusion Matrix:\")\n",
    "cm = confusion_matrix(y_test,scaled_predictions)\n",
    "df_cm = pd.DataFrame(cm)\n",
    "sn.heatmap(df_cm, annot=True, fmt='')\n",
    "plt.show()"
   ]
  },
  {
   "cell_type": "code",
   "execution_count": 28,
   "metadata": {},
   "outputs": [
    {
     "name": "stdout",
     "output_type": "stream",
     "text": [
      "[0.57291667 0.55555556 0.54166667 0.56597222 0.52777778]\n"
     ]
    }
   ],
   "source": [
    "cv_results = cross_val_score(svc_scaled, X, y, cv = 5)\n",
    "print(cv_results)"
   ]
  },
  {
   "cell_type": "markdown",
   "metadata": {},
   "source": [
    "By making use of the soundfile library to read the sound files, extracting features from each file and applying SVM Classifier, the model delivered an accuracy of 52%"
   ]
  }
 ],
 "metadata": {
  "kernelspec": {
   "display_name": "Python 3",
   "language": "python",
   "name": "python3"
  },
  "language_info": {
   "codemirror_mode": {
    "name": "ipython",
    "version": 3
   },
   "file_extension": ".py",
   "mimetype": "text/x-python",
   "name": "python",
   "nbconvert_exporter": "python",
   "pygments_lexer": "ipython3",
   "version": "3.8.5"
  }
 },
 "nbformat": 4,
 "nbformat_minor": 4
}
