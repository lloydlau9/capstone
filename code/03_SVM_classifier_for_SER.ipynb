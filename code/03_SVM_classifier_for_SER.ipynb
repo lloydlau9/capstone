{
 "cells": [
  {
   "cell_type": "markdown",
   "metadata": {},
   "source": [
    "#  SVM Classifier for  SER (Speech Emotion Recognition)"
   ]
  },
  {
   "cell_type": "markdown",
   "metadata": {},
   "source": [
    "Support Vector Machines (SVM) with non-linear kernels are often the most successfully applied algorithms for speech emotion recognition. \n",
    "\n",
    "A SVM using non-linear kernel transforms the input feature vectors into a higher dimensional feature space using a kernel mapping function. By choosing appropriate non-linear kernels functions, classifiers that are non-linear in the original space can become linear in the feature space."
   ]
  },
  {
   "cell_type": "markdown",
   "metadata": {},
   "source": [
    "## Dataset\n",
    "\n",
    "The Ryerson Audio-Visual Database of Emotional Speech and Song (RAVDESS),and it is free to download. This dataset has 7356 files rated by 247 individuals 10 times on emotional validity, intensity, and genuineness. here the Speech files of all actors (01-24) will be used and the files are available under path ../datasets/RAVDESS. It contains 1440 files: 60 trials per actor x 24 actors = 1440. \n",
    "Filename identifiers:\n",
    "<ol>\n",
    "<li>Modality (01 = full-AV, 02 = video-only, 03 = audio-only).</li>\n",
    "<li>Vocal channel (01 = speech, 02 = song).</li>\n",
    "<li>Emotion (01 = neutral, 02 = calm, 03 = happy, 04 = sad, 05 = angry, 06 = fearful, 07 = disgust, 08 = surprised).</li>\n",
    "<li>Emotional intensity (01 = normal, 02 = strong). NOTE: There is no strong intensity for the 'neutral' emotion.</li>\n",
    "<li>Statement (01 = \"Kids are talking by the door\", 02 = \"Dogs are sitting by the door\").</li>\n",
    "<li>Repetition (01 = 1st repetition, 02 = 2nd repetition)..</li>\n",
    "<li>Actor (01 to 24. Odd numbered actors are male, even numbered actors are female).</li>\n",
    "</ol>"
   ]
  },
  {
   "cell_type": "markdown",
   "metadata": {},
   "source": [
    "## Downloading Libraries"
   ]
  },
  {
   "cell_type": "code",
   "execution_count": 1,
   "metadata": {},
   "outputs": [],
   "source": [
    "#!pip install librosa soundfile numpy sklearn pyaudio"
   ]
  },
  {
   "cell_type": "code",
   "execution_count": 2,
   "metadata": {},
   "outputs": [],
   "source": [
    "#!pip install soundfile"
   ]
  },
  {
   "cell_type": "code",
   "execution_count": 3,
   "metadata": {},
   "outputs": [],
   "source": [
    "# pip install seaborn"
   ]
  },
  {
   "cell_type": "markdown",
   "metadata": {},
   "source": [
    "## Libraries Import"
   ]
  },
  {
   "cell_type": "code",
   "execution_count": 4,
   "metadata": {},
   "outputs": [],
   "source": [
    "# Import our libraries\n",
    "\n",
    "import os,glob\n",
    "import librosa\n",
    "import time\n",
    "import numpy as np\n",
    "import pandas as pd\n",
    "import matplotlib.pyplot as plt\n",
    "from sklearn.model_selection import train_test_split\n",
    "from sklearn.svm import SVC\n",
    "import time\n",
    "from sklearn.metrics import accuracy_score\n",
    "from sklearn.metrics import classification_report\n",
    "from sklearn.metrics import confusion_matrix\n",
    "import seaborn as sn\n",
    "from sklearn.svm import SVC\n",
    "import seaborn as sn\n",
    "from sklearn.model_selection import cross_val_score\n",
    "import librosa.display\n",
    "from sklearn.preprocessing import StandardScaler\n",
    "from sklearn.pipeline import Pipeline\n",
    "import soundfile\n",
    "import os.path"
   ]
  },
  {
   "cell_type": "markdown",
   "metadata": {},
   "source": [
    "## Feature Extraction\n",
    "\n",
    "This function loads the file give the file path and after resampling and computing MFCC features, returns the features. We have selected the no. of MFCCs as 40.\n"
   ]
  },
  {
   "cell_type": "code",
   "execution_count": 5,
   "metadata": {},
   "outputs": [],
   "source": [
    "#Extract features (mfcc, chroma, mel) from a given sound file(with path)\n",
    "def extract_feature(file_name, mfcc):\n",
    "    X, sample_rate = librosa.load(os.path.join(file_name), res_type='kaiser_fast')\n",
    "    result=np.array([])\n",
    "    if mfcc:\n",
    "        mfccs=np.mean(librosa.feature.mfcc(y=X, sr=sample_rate, n_mfcc=40).T, axis=0)\n",
    "        result=np.hstack((result, mfccs))\n",
    "    return result"
   ]
  },
  {
   "cell_type": "code",
   "execution_count": 6,
   "metadata": {},
   "outputs": [],
   "source": [
    "#Emotions in the RAVDESS dataset, it will not take the neutral into the modeling process\n",
    "emotions={\n",
    "  '01':'neutral',\n",
    "  '02':'calm',\n",
    "  '03':'happy',\n",
    "  '04':'sad',\n",
    "  '05':'angry',\n",
    "  '06':'fear',\n",
    "  '07':'disgust',\n",
    "  '08':'surprise'\n",
    "}\n",
    "#Emotions to observe(all emotions except neutral)\n",
    "observed_emotions=['neutral','calm', 'happy', 'sad','angry','fear', 'disgust','surprise']"
   ]
  },
  {
   "cell_type": "markdown",
   "metadata": {},
   "source": [
    "## Retrieve RAVDESS dataset from File System"
   ]
  },
  {
   "cell_type": "code",
   "execution_count": 7,
   "metadata": {},
   "outputs": [
    {
     "data": {
      "text/plain": [
       "['03-01-01-01-01-01-01.wav',\n",
       " '03-01-01-01-01-02-01.wav',\n",
       " '03-01-01-01-02-01-01.wav',\n",
       " '03-01-01-01-02-02-01.wav',\n",
       " '03-01-02-01-01-01-01.wav']"
      ]
     },
     "execution_count": 7,
     "metadata": {},
     "output_type": "execute_result"
    }
   ],
   "source": [
    "#audio file path in file system\n",
    "RAV = \"../datasets/RAVDESS/\"\n",
    "CSV = \"../datasets/CSV/\"\n",
    "# test to run one example \n",
    "dir_list = os.listdir(RAV+\"Actor_01/\")\n",
    "dir_list[0:5]"
   ]
  },
  {
   "cell_type": "code",
   "execution_count": 8,
   "metadata": {},
   "outputs": [],
   "source": [
    "#Load the data and extract features for each sound file\n",
    "def load_data(test_size=0.2): \n",
    "    x,y=[],[]\n",
    "    \n",
    "    # feature to extract\n",
    "    mfcc = True \n",
    "    path= RAV+\"Actor_*/*.wav\"   \n",
    "    for file in glob.glob(path):\n",
    "        file_name=os.path.basename(file)\n",
    "        emotion=emotions[file_name.split(\"-\")[2]] #to get emotion according to filename. dictionary emotions is defined above.\n",
    "        if emotion not in observed_emotions: #options observed_emotions - RAVDESS and TESS, ravdess_emotions for RAVDESS only\n",
    "            continue\n",
    "        feature=extract_feature(file, mfcc)\n",
    "        x.append(feature)\n",
    "        y.append(emotion)\n",
    "    return {\"X\":x,\"y\":y}"
   ]
  },
  {
   "cell_type": "code",
   "execution_count": 9,
   "metadata": {
    "scrolled": false
   },
   "outputs": [],
   "source": [
    "#load data into memory\n",
    "Trial_dict = load_data(test_size = 0.3)"
   ]
  },
  {
   "cell_type": "code",
   "execution_count": 10,
   "metadata": {
    "scrolled": true
   },
   "outputs": [
    {
     "data": {
      "text/plain": [
       "((1440, 40), (1440, 1))"
      ]
     },
     "execution_count": 10,
     "metadata": {},
     "output_type": "execute_result"
    }
   ],
   "source": [
    "X = pd.DataFrame(Trial_dict[\"X\"])\n",
    "y = pd.DataFrame(Trial_dict[\"y\"])\n",
    "X.shape, y.shape"
   ]
  },
  {
   "cell_type": "code",
   "execution_count": 11,
   "metadata": {
    "scrolled": false
   },
   "outputs": [
    {
     "data": {
      "text/html": [
       "<div>\n",
       "<style scoped>\n",
       "    .dataframe tbody tr th:only-of-type {\n",
       "        vertical-align: middle;\n",
       "    }\n",
       "\n",
       "    .dataframe tbody tr th {\n",
       "        vertical-align: top;\n",
       "    }\n",
       "\n",
       "    .dataframe thead th {\n",
       "        text-align: right;\n",
       "    }\n",
       "</style>\n",
       "<table border=\"1\" class=\"dataframe\">\n",
       "  <thead>\n",
       "    <tr style=\"text-align: right;\">\n",
       "      <th></th>\n",
       "      <th>0</th>\n",
       "      <th>1</th>\n",
       "      <th>2</th>\n",
       "      <th>3</th>\n",
       "      <th>4</th>\n",
       "      <th>5</th>\n",
       "      <th>6</th>\n",
       "      <th>7</th>\n",
       "      <th>8</th>\n",
       "      <th>9</th>\n",
       "      <th>...</th>\n",
       "      <th>31</th>\n",
       "      <th>32</th>\n",
       "      <th>33</th>\n",
       "      <th>34</th>\n",
       "      <th>35</th>\n",
       "      <th>36</th>\n",
       "      <th>37</th>\n",
       "      <th>38</th>\n",
       "      <th>39</th>\n",
       "      <th>emotion</th>\n",
       "    </tr>\n",
       "  </thead>\n",
       "  <tbody>\n",
       "    <tr>\n",
       "      <th>0</th>\n",
       "      <td>-707.226318</td>\n",
       "      <td>68.469788</td>\n",
       "      <td>-11.611320</td>\n",
       "      <td>22.716902</td>\n",
       "      <td>-0.303072</td>\n",
       "      <td>5.822211</td>\n",
       "      <td>-6.081500</td>\n",
       "      <td>-2.655389</td>\n",
       "      <td>-9.960321</td>\n",
       "      <td>-5.103168</td>\n",
       "      <td>...</td>\n",
       "      <td>-2.744597</td>\n",
       "      <td>-2.285304</td>\n",
       "      <td>-2.167415</td>\n",
       "      <td>-2.929328</td>\n",
       "      <td>-1.793007</td>\n",
       "      <td>-0.758816</td>\n",
       "      <td>-2.190662</td>\n",
       "      <td>-2.976669</td>\n",
       "      <td>-2.087532</td>\n",
       "      <td>neutral</td>\n",
       "    </tr>\n",
       "    <tr>\n",
       "      <th>1</th>\n",
       "      <td>-703.383240</td>\n",
       "      <td>70.197769</td>\n",
       "      <td>-15.213277</td>\n",
       "      <td>27.412649</td>\n",
       "      <td>-0.247905</td>\n",
       "      <td>5.837488</td>\n",
       "      <td>-4.831208</td>\n",
       "      <td>-4.569034</td>\n",
       "      <td>-10.607910</td>\n",
       "      <td>-3.820005</td>\n",
       "      <td>...</td>\n",
       "      <td>-3.116829</td>\n",
       "      <td>-1.922442</td>\n",
       "      <td>-2.564388</td>\n",
       "      <td>-2.969680</td>\n",
       "      <td>-0.872745</td>\n",
       "      <td>-1.239757</td>\n",
       "      <td>-3.162743</td>\n",
       "      <td>-2.940819</td>\n",
       "      <td>-2.609301</td>\n",
       "      <td>neutral</td>\n",
       "    </tr>\n",
       "    <tr>\n",
       "      <th>2</th>\n",
       "      <td>-700.794006</td>\n",
       "      <td>70.959595</td>\n",
       "      <td>-11.694939</td>\n",
       "      <td>23.595743</td>\n",
       "      <td>-2.463483</td>\n",
       "      <td>6.388802</td>\n",
       "      <td>-5.021149</td>\n",
       "      <td>-4.631995</td>\n",
       "      <td>-9.482592</td>\n",
       "      <td>-5.633955</td>\n",
       "      <td>...</td>\n",
       "      <td>-2.547276</td>\n",
       "      <td>-2.147709</td>\n",
       "      <td>-1.945596</td>\n",
       "      <td>-2.771029</td>\n",
       "      <td>-1.836579</td>\n",
       "      <td>-1.192164</td>\n",
       "      <td>-2.677400</td>\n",
       "      <td>-3.442389</td>\n",
       "      <td>-2.399600</td>\n",
       "      <td>neutral</td>\n",
       "    </tr>\n",
       "    <tr>\n",
       "      <th>3</th>\n",
       "      <td>-694.826050</td>\n",
       "      <td>69.669205</td>\n",
       "      <td>-9.815083</td>\n",
       "      <td>23.888597</td>\n",
       "      <td>-1.381263</td>\n",
       "      <td>8.620013</td>\n",
       "      <td>-4.805181</td>\n",
       "      <td>-6.055672</td>\n",
       "      <td>-9.544140</td>\n",
       "      <td>-5.380029</td>\n",
       "      <td>...</td>\n",
       "      <td>-2.928294</td>\n",
       "      <td>-2.366574</td>\n",
       "      <td>-3.042785</td>\n",
       "      <td>-3.062823</td>\n",
       "      <td>-1.447675</td>\n",
       "      <td>-0.979923</td>\n",
       "      <td>-2.325146</td>\n",
       "      <td>-3.415248</td>\n",
       "      <td>-3.387120</td>\n",
       "      <td>neutral</td>\n",
       "    </tr>\n",
       "    <tr>\n",
       "      <th>4</th>\n",
       "      <td>-737.437988</td>\n",
       "      <td>77.273209</td>\n",
       "      <td>-11.190391</td>\n",
       "      <td>26.755884</td>\n",
       "      <td>-1.537418</td>\n",
       "      <td>8.085284</td>\n",
       "      <td>-7.015995</td>\n",
       "      <td>-3.006230</td>\n",
       "      <td>-8.947398</td>\n",
       "      <td>-7.313802</td>\n",
       "      <td>...</td>\n",
       "      <td>-2.158252</td>\n",
       "      <td>-1.256279</td>\n",
       "      <td>-2.996467</td>\n",
       "      <td>-1.348934</td>\n",
       "      <td>-0.796627</td>\n",
       "      <td>-1.648554</td>\n",
       "      <td>-1.981015</td>\n",
       "      <td>-3.455514</td>\n",
       "      <td>-3.098281</td>\n",
       "      <td>calm</td>\n",
       "    </tr>\n",
       "    <tr>\n",
       "      <th>5</th>\n",
       "      <td>-716.575806</td>\n",
       "      <td>79.555000</td>\n",
       "      <td>-9.764153</td>\n",
       "      <td>21.266054</td>\n",
       "      <td>1.637321</td>\n",
       "      <td>6.441747</td>\n",
       "      <td>-7.460036</td>\n",
       "      <td>-3.939013</td>\n",
       "      <td>-7.493039</td>\n",
       "      <td>-6.710302</td>\n",
       "      <td>...</td>\n",
       "      <td>-3.157654</td>\n",
       "      <td>-2.751998</td>\n",
       "      <td>-3.946696</td>\n",
       "      <td>-3.424494</td>\n",
       "      <td>-1.561885</td>\n",
       "      <td>-1.812810</td>\n",
       "      <td>-3.330558</td>\n",
       "      <td>-3.927409</td>\n",
       "      <td>-4.398661</td>\n",
       "      <td>calm</td>\n",
       "    </tr>\n",
       "    <tr>\n",
       "      <th>6</th>\n",
       "      <td>-708.541504</td>\n",
       "      <td>81.566536</td>\n",
       "      <td>-14.513219</td>\n",
       "      <td>26.434237</td>\n",
       "      <td>-4.558772</td>\n",
       "      <td>9.789379</td>\n",
       "      <td>-5.627738</td>\n",
       "      <td>-3.479167</td>\n",
       "      <td>-8.197019</td>\n",
       "      <td>-6.570935</td>\n",
       "      <td>...</td>\n",
       "      <td>-2.898625</td>\n",
       "      <td>-1.729264</td>\n",
       "      <td>-3.638450</td>\n",
       "      <td>-3.722741</td>\n",
       "      <td>-2.391207</td>\n",
       "      <td>-1.859560</td>\n",
       "      <td>-2.648129</td>\n",
       "      <td>-4.284513</td>\n",
       "      <td>-3.400892</td>\n",
       "      <td>calm</td>\n",
       "    </tr>\n",
       "    <tr>\n",
       "      <th>7</th>\n",
       "      <td>-709.393677</td>\n",
       "      <td>84.234299</td>\n",
       "      <td>-13.381046</td>\n",
       "      <td>25.719385</td>\n",
       "      <td>-1.773599</td>\n",
       "      <td>8.669509</td>\n",
       "      <td>-5.068448</td>\n",
       "      <td>-4.345946</td>\n",
       "      <td>-7.930424</td>\n",
       "      <td>-6.252995</td>\n",
       "      <td>...</td>\n",
       "      <td>-2.574771</td>\n",
       "      <td>-1.703177</td>\n",
       "      <td>-2.932248</td>\n",
       "      <td>-3.322625</td>\n",
       "      <td>-1.913512</td>\n",
       "      <td>-1.099499</td>\n",
       "      <td>-2.460561</td>\n",
       "      <td>-3.341412</td>\n",
       "      <td>-3.574461</td>\n",
       "      <td>calm</td>\n",
       "    </tr>\n",
       "    <tr>\n",
       "      <th>8</th>\n",
       "      <td>-746.074280</td>\n",
       "      <td>87.865776</td>\n",
       "      <td>-12.613696</td>\n",
       "      <td>27.847467</td>\n",
       "      <td>-2.255568</td>\n",
       "      <td>9.403696</td>\n",
       "      <td>-8.469919</td>\n",
       "      <td>-1.561309</td>\n",
       "      <td>-5.440102</td>\n",
       "      <td>-6.947087</td>\n",
       "      <td>...</td>\n",
       "      <td>-4.273163</td>\n",
       "      <td>-2.579099</td>\n",
       "      <td>-3.169269</td>\n",
       "      <td>-4.250158</td>\n",
       "      <td>-0.516558</td>\n",
       "      <td>-2.046174</td>\n",
       "      <td>-3.282803</td>\n",
       "      <td>-4.088738</td>\n",
       "      <td>-3.995429</td>\n",
       "      <td>calm</td>\n",
       "    </tr>\n",
       "    <tr>\n",
       "      <th>9</th>\n",
       "      <td>-709.888733</td>\n",
       "      <td>83.872131</td>\n",
       "      <td>-16.015291</td>\n",
       "      <td>24.925694</td>\n",
       "      <td>-3.676042</td>\n",
       "      <td>7.734766</td>\n",
       "      <td>-8.870955</td>\n",
       "      <td>-4.643577</td>\n",
       "      <td>-7.436958</td>\n",
       "      <td>-6.956243</td>\n",
       "      <td>...</td>\n",
       "      <td>-3.525422</td>\n",
       "      <td>-3.342165</td>\n",
       "      <td>-3.688268</td>\n",
       "      <td>-4.542849</td>\n",
       "      <td>-1.813079</td>\n",
       "      <td>-1.500344</td>\n",
       "      <td>-2.933184</td>\n",
       "      <td>-3.796410</td>\n",
       "      <td>-4.100177</td>\n",
       "      <td>calm</td>\n",
       "    </tr>\n",
       "  </tbody>\n",
       "</table>\n",
       "<p>10 rows × 41 columns</p>\n",
       "</div>"
      ],
      "text/plain": [
       "            0          1          2          3         4         5         6  \\\n",
       "0 -707.226318  68.469788 -11.611320  22.716902 -0.303072  5.822211 -6.081500   \n",
       "1 -703.383240  70.197769 -15.213277  27.412649 -0.247905  5.837488 -4.831208   \n",
       "2 -700.794006  70.959595 -11.694939  23.595743 -2.463483  6.388802 -5.021149   \n",
       "3 -694.826050  69.669205  -9.815083  23.888597 -1.381263  8.620013 -4.805181   \n",
       "4 -737.437988  77.273209 -11.190391  26.755884 -1.537418  8.085284 -7.015995   \n",
       "5 -716.575806  79.555000  -9.764153  21.266054  1.637321  6.441747 -7.460036   \n",
       "6 -708.541504  81.566536 -14.513219  26.434237 -4.558772  9.789379 -5.627738   \n",
       "7 -709.393677  84.234299 -13.381046  25.719385 -1.773599  8.669509 -5.068448   \n",
       "8 -746.074280  87.865776 -12.613696  27.847467 -2.255568  9.403696 -8.469919   \n",
       "9 -709.888733  83.872131 -16.015291  24.925694 -3.676042  7.734766 -8.870955   \n",
       "\n",
       "          7          8         9  ...        31        32        33        34  \\\n",
       "0 -2.655389  -9.960321 -5.103168  ... -2.744597 -2.285304 -2.167415 -2.929328   \n",
       "1 -4.569034 -10.607910 -3.820005  ... -3.116829 -1.922442 -2.564388 -2.969680   \n",
       "2 -4.631995  -9.482592 -5.633955  ... -2.547276 -2.147709 -1.945596 -2.771029   \n",
       "3 -6.055672  -9.544140 -5.380029  ... -2.928294 -2.366574 -3.042785 -3.062823   \n",
       "4 -3.006230  -8.947398 -7.313802  ... -2.158252 -1.256279 -2.996467 -1.348934   \n",
       "5 -3.939013  -7.493039 -6.710302  ... -3.157654 -2.751998 -3.946696 -3.424494   \n",
       "6 -3.479167  -8.197019 -6.570935  ... -2.898625 -1.729264 -3.638450 -3.722741   \n",
       "7 -4.345946  -7.930424 -6.252995  ... -2.574771 -1.703177 -2.932248 -3.322625   \n",
       "8 -1.561309  -5.440102 -6.947087  ... -4.273163 -2.579099 -3.169269 -4.250158   \n",
       "9 -4.643577  -7.436958 -6.956243  ... -3.525422 -3.342165 -3.688268 -4.542849   \n",
       "\n",
       "         35        36        37        38        39  emotion  \n",
       "0 -1.793007 -0.758816 -2.190662 -2.976669 -2.087532  neutral  \n",
       "1 -0.872745 -1.239757 -3.162743 -2.940819 -2.609301  neutral  \n",
       "2 -1.836579 -1.192164 -2.677400 -3.442389 -2.399600  neutral  \n",
       "3 -1.447675 -0.979923 -2.325146 -3.415248 -3.387120  neutral  \n",
       "4 -0.796627 -1.648554 -1.981015 -3.455514 -3.098281     calm  \n",
       "5 -1.561885 -1.812810 -3.330558 -3.927409 -4.398661     calm  \n",
       "6 -2.391207 -1.859560 -2.648129 -4.284513 -3.400892     calm  \n",
       "7 -1.913512 -1.099499 -2.460561 -3.341412 -3.574461     calm  \n",
       "8 -0.516558 -2.046174 -3.282803 -4.088738 -3.995429     calm  \n",
       "9 -1.813079 -1.500344 -2.933184 -3.796410 -4.100177     calm  \n",
       "\n",
       "[10 rows x 41 columns]"
      ]
     },
     "execution_count": 11,
     "metadata": {},
     "output_type": "execute_result"
    }
   ],
   "source": [
    "#renaming the label column to emotion, store the attributes and label into dataframe\n",
    "y=y.rename(columns= {0: 'emotion'})\n",
    "data = pd.concat([X, y], axis =1)\n",
    "#view the first 10 record\n",
    "data.head(10)"
   ]
  },
  {
   "cell_type": "code",
   "execution_count": 12,
   "metadata": {
    "scrolled": false
   },
   "outputs": [
    {
     "data": {
      "text/html": [
       "<div>\n",
       "<style scoped>\n",
       "    .dataframe tbody tr th:only-of-type {\n",
       "        vertical-align: middle;\n",
       "    }\n",
       "\n",
       "    .dataframe tbody tr th {\n",
       "        vertical-align: top;\n",
       "    }\n",
       "\n",
       "    .dataframe thead th {\n",
       "        text-align: right;\n",
       "    }\n",
       "</style>\n",
       "<table border=\"1\" class=\"dataframe\">\n",
       "  <thead>\n",
       "    <tr style=\"text-align: right;\">\n",
       "      <th></th>\n",
       "      <th>0</th>\n",
       "      <th>1</th>\n",
       "      <th>2</th>\n",
       "      <th>3</th>\n",
       "      <th>4</th>\n",
       "      <th>5</th>\n",
       "      <th>6</th>\n",
       "      <th>7</th>\n",
       "      <th>8</th>\n",
       "      <th>9</th>\n",
       "      <th>...</th>\n",
       "      <th>31</th>\n",
       "      <th>32</th>\n",
       "      <th>33</th>\n",
       "      <th>34</th>\n",
       "      <th>35</th>\n",
       "      <th>36</th>\n",
       "      <th>37</th>\n",
       "      <th>38</th>\n",
       "      <th>39</th>\n",
       "      <th>emotion</th>\n",
       "    </tr>\n",
       "  </thead>\n",
       "  <tbody>\n",
       "    <tr>\n",
       "      <th>837</th>\n",
       "      <td>-612.889465</td>\n",
       "      <td>60.484142</td>\n",
       "      <td>-33.139824</td>\n",
       "      <td>14.430557</td>\n",
       "      <td>-25.730021</td>\n",
       "      <td>-1.615577</td>\n",
       "      <td>-13.334091</td>\n",
       "      <td>-11.038139</td>\n",
       "      <td>-3.860162</td>\n",
       "      <td>-9.789520</td>\n",
       "      <td>...</td>\n",
       "      <td>0.284887</td>\n",
       "      <td>0.595238</td>\n",
       "      <td>1.864178</td>\n",
       "      <td>1.324267</td>\n",
       "      <td>0.440616</td>\n",
       "      <td>0.743832</td>\n",
       "      <td>1.538353</td>\n",
       "      <td>0.053994</td>\n",
       "      <td>-0.652274</td>\n",
       "      <td>surprise</td>\n",
       "    </tr>\n",
       "    <tr>\n",
       "      <th>426</th>\n",
       "      <td>-718.973450</td>\n",
       "      <td>88.248528</td>\n",
       "      <td>-1.895767</td>\n",
       "      <td>40.467831</td>\n",
       "      <td>-6.006004</td>\n",
       "      <td>18.770641</td>\n",
       "      <td>-2.217117</td>\n",
       "      <td>-3.476284</td>\n",
       "      <td>-0.431350</td>\n",
       "      <td>-1.344159</td>\n",
       "      <td>...</td>\n",
       "      <td>4.981710</td>\n",
       "      <td>5.236771</td>\n",
       "      <td>4.729672</td>\n",
       "      <td>5.271637</td>\n",
       "      <td>5.383510</td>\n",
       "      <td>4.902306</td>\n",
       "      <td>5.170654</td>\n",
       "      <td>4.605467</td>\n",
       "      <td>3.721352</td>\n",
       "      <td>calm</td>\n",
       "    </tr>\n",
       "    <tr>\n",
       "      <th>1266</th>\n",
       "      <td>-707.412842</td>\n",
       "      <td>71.419327</td>\n",
       "      <td>-20.437294</td>\n",
       "      <td>21.591042</td>\n",
       "      <td>-12.306248</td>\n",
       "      <td>8.831614</td>\n",
       "      <td>-15.967534</td>\n",
       "      <td>-6.411924</td>\n",
       "      <td>-6.803803</td>\n",
       "      <td>-2.748699</td>\n",
       "      <td>...</td>\n",
       "      <td>-0.364807</td>\n",
       "      <td>2.172129</td>\n",
       "      <td>4.454664</td>\n",
       "      <td>4.073978</td>\n",
       "      <td>4.003541</td>\n",
       "      <td>3.500179</td>\n",
       "      <td>2.913928</td>\n",
       "      <td>0.902833</td>\n",
       "      <td>1.520646</td>\n",
       "      <td>calm</td>\n",
       "    </tr>\n",
       "    <tr>\n",
       "      <th>1223</th>\n",
       "      <td>-649.496460</td>\n",
       "      <td>84.173363</td>\n",
       "      <td>-15.145669</td>\n",
       "      <td>33.747490</td>\n",
       "      <td>-2.595109</td>\n",
       "      <td>7.285811</td>\n",
       "      <td>-0.517072</td>\n",
       "      <td>-4.707127</td>\n",
       "      <td>-8.272731</td>\n",
       "      <td>-2.827012</td>\n",
       "      <td>...</td>\n",
       "      <td>-0.266615</td>\n",
       "      <td>-1.609079</td>\n",
       "      <td>-1.409853</td>\n",
       "      <td>-0.350218</td>\n",
       "      <td>0.339474</td>\n",
       "      <td>-0.925962</td>\n",
       "      <td>-1.720541</td>\n",
       "      <td>-2.406834</td>\n",
       "      <td>-0.915122</td>\n",
       "      <td>sad</td>\n",
       "    </tr>\n",
       "    <tr>\n",
       "      <th>104</th>\n",
       "      <td>-644.337341</td>\n",
       "      <td>67.355614</td>\n",
       "      <td>-26.891243</td>\n",
       "      <td>18.875643</td>\n",
       "      <td>-17.336878</td>\n",
       "      <td>6.614766</td>\n",
       "      <td>-11.475815</td>\n",
       "      <td>-12.515427</td>\n",
       "      <td>-1.231060</td>\n",
       "      <td>-5.575198</td>\n",
       "      <td>...</td>\n",
       "      <td>2.629303</td>\n",
       "      <td>3.768831</td>\n",
       "      <td>4.272171</td>\n",
       "      <td>3.145573</td>\n",
       "      <td>1.772489</td>\n",
       "      <td>-0.269299</td>\n",
       "      <td>0.528593</td>\n",
       "      <td>1.142558</td>\n",
       "      <td>2.954832</td>\n",
       "      <td>disgust</td>\n",
       "    </tr>\n",
       "    <tr>\n",
       "      <th>61</th>\n",
       "      <td>-655.662964</td>\n",
       "      <td>62.571815</td>\n",
       "      <td>-22.922899</td>\n",
       "      <td>21.521524</td>\n",
       "      <td>-13.453729</td>\n",
       "      <td>1.765044</td>\n",
       "      <td>-7.482203</td>\n",
       "      <td>-7.502895</td>\n",
       "      <td>-0.771601</td>\n",
       "      <td>-5.268409</td>\n",
       "      <td>...</td>\n",
       "      <td>3.019748</td>\n",
       "      <td>3.953481</td>\n",
       "      <td>2.882185</td>\n",
       "      <td>2.401105</td>\n",
       "      <td>2.614947</td>\n",
       "      <td>0.323896</td>\n",
       "      <td>1.203141</td>\n",
       "      <td>0.199793</td>\n",
       "      <td>-0.850466</td>\n",
       "      <td>neutral</td>\n",
       "    </tr>\n",
       "    <tr>\n",
       "      <th>275</th>\n",
       "      <td>-357.476013</td>\n",
       "      <td>49.399376</td>\n",
       "      <td>-32.865940</td>\n",
       "      <td>10.458498</td>\n",
       "      <td>-13.753160</td>\n",
       "      <td>-1.870867</td>\n",
       "      <td>-17.129063</td>\n",
       "      <td>1.156773</td>\n",
       "      <td>-12.378003</td>\n",
       "      <td>-12.521690</td>\n",
       "      <td>...</td>\n",
       "      <td>0.104905</td>\n",
       "      <td>-0.662621</td>\n",
       "      <td>0.773487</td>\n",
       "      <td>1.851344</td>\n",
       "      <td>1.957320</td>\n",
       "      <td>1.313171</td>\n",
       "      <td>1.842822</td>\n",
       "      <td>0.910074</td>\n",
       "      <td>0.084269</td>\n",
       "      <td>angry</td>\n",
       "    </tr>\n",
       "    <tr>\n",
       "      <th>131</th>\n",
       "      <td>-549.409119</td>\n",
       "      <td>88.465225</td>\n",
       "      <td>-29.896425</td>\n",
       "      <td>28.894361</td>\n",
       "      <td>-14.343749</td>\n",
       "      <td>15.059596</td>\n",
       "      <td>-25.925045</td>\n",
       "      <td>-1.424819</td>\n",
       "      <td>-1.791473</td>\n",
       "      <td>-9.878350</td>\n",
       "      <td>...</td>\n",
       "      <td>-2.100602</td>\n",
       "      <td>-2.799891</td>\n",
       "      <td>-2.838132</td>\n",
       "      <td>-1.386407</td>\n",
       "      <td>0.867447</td>\n",
       "      <td>-2.599573</td>\n",
       "      <td>-2.653195</td>\n",
       "      <td>-2.683659</td>\n",
       "      <td>-0.855325</td>\n",
       "      <td>calm</td>\n",
       "    </tr>\n",
       "    <tr>\n",
       "      <th>649</th>\n",
       "      <td>-595.085754</td>\n",
       "      <td>81.648155</td>\n",
       "      <td>-11.325518</td>\n",
       "      <td>38.705971</td>\n",
       "      <td>-10.289028</td>\n",
       "      <td>15.196450</td>\n",
       "      <td>-3.172453</td>\n",
       "      <td>2.938144</td>\n",
       "      <td>-5.064816</td>\n",
       "      <td>-1.827428</td>\n",
       "      <td>...</td>\n",
       "      <td>-0.517556</td>\n",
       "      <td>1.934994</td>\n",
       "      <td>-0.319087</td>\n",
       "      <td>-0.408385</td>\n",
       "      <td>0.630491</td>\n",
       "      <td>-0.967746</td>\n",
       "      <td>-0.527166</td>\n",
       "      <td>-0.764839</td>\n",
       "      <td>-0.834925</td>\n",
       "      <td>disgust</td>\n",
       "    </tr>\n",
       "    <tr>\n",
       "      <th>543</th>\n",
       "      <td>-613.369812</td>\n",
       "      <td>72.141228</td>\n",
       "      <td>-7.900881</td>\n",
       "      <td>29.488386</td>\n",
       "      <td>-7.131350</td>\n",
       "      <td>9.053183</td>\n",
       "      <td>-9.880034</td>\n",
       "      <td>-6.376668</td>\n",
       "      <td>-3.016141</td>\n",
       "      <td>-1.794952</td>\n",
       "      <td>...</td>\n",
       "      <td>2.351800</td>\n",
       "      <td>5.902199</td>\n",
       "      <td>4.994890</td>\n",
       "      <td>6.285316</td>\n",
       "      <td>3.633797</td>\n",
       "      <td>1.362231</td>\n",
       "      <td>4.073762</td>\n",
       "      <td>4.280592</td>\n",
       "      <td>6.021703</td>\n",
       "      <td>neutral</td>\n",
       "    </tr>\n",
       "  </tbody>\n",
       "</table>\n",
       "<p>10 rows × 41 columns</p>\n",
       "</div>"
      ],
      "text/plain": [
       "               0          1          2          3          4          5  \\\n",
       "837  -612.889465  60.484142 -33.139824  14.430557 -25.730021  -1.615577   \n",
       "426  -718.973450  88.248528  -1.895767  40.467831  -6.006004  18.770641   \n",
       "1266 -707.412842  71.419327 -20.437294  21.591042 -12.306248   8.831614   \n",
       "1223 -649.496460  84.173363 -15.145669  33.747490  -2.595109   7.285811   \n",
       "104  -644.337341  67.355614 -26.891243  18.875643 -17.336878   6.614766   \n",
       "61   -655.662964  62.571815 -22.922899  21.521524 -13.453729   1.765044   \n",
       "275  -357.476013  49.399376 -32.865940  10.458498 -13.753160  -1.870867   \n",
       "131  -549.409119  88.465225 -29.896425  28.894361 -14.343749  15.059596   \n",
       "649  -595.085754  81.648155 -11.325518  38.705971 -10.289028  15.196450   \n",
       "543  -613.369812  72.141228  -7.900881  29.488386  -7.131350   9.053183   \n",
       "\n",
       "              6          7          8          9  ...        31        32  \\\n",
       "837  -13.334091 -11.038139  -3.860162  -9.789520  ...  0.284887  0.595238   \n",
       "426   -2.217117  -3.476284  -0.431350  -1.344159  ...  4.981710  5.236771   \n",
       "1266 -15.967534  -6.411924  -6.803803  -2.748699  ... -0.364807  2.172129   \n",
       "1223  -0.517072  -4.707127  -8.272731  -2.827012  ... -0.266615 -1.609079   \n",
       "104  -11.475815 -12.515427  -1.231060  -5.575198  ...  2.629303  3.768831   \n",
       "61    -7.482203  -7.502895  -0.771601  -5.268409  ...  3.019748  3.953481   \n",
       "275  -17.129063   1.156773 -12.378003 -12.521690  ...  0.104905 -0.662621   \n",
       "131  -25.925045  -1.424819  -1.791473  -9.878350  ... -2.100602 -2.799891   \n",
       "649   -3.172453   2.938144  -5.064816  -1.827428  ... -0.517556  1.934994   \n",
       "543   -9.880034  -6.376668  -3.016141  -1.794952  ...  2.351800  5.902199   \n",
       "\n",
       "            33        34        35        36        37        38        39  \\\n",
       "837   1.864178  1.324267  0.440616  0.743832  1.538353  0.053994 -0.652274   \n",
       "426   4.729672  5.271637  5.383510  4.902306  5.170654  4.605467  3.721352   \n",
       "1266  4.454664  4.073978  4.003541  3.500179  2.913928  0.902833  1.520646   \n",
       "1223 -1.409853 -0.350218  0.339474 -0.925962 -1.720541 -2.406834 -0.915122   \n",
       "104   4.272171  3.145573  1.772489 -0.269299  0.528593  1.142558  2.954832   \n",
       "61    2.882185  2.401105  2.614947  0.323896  1.203141  0.199793 -0.850466   \n",
       "275   0.773487  1.851344  1.957320  1.313171  1.842822  0.910074  0.084269   \n",
       "131  -2.838132 -1.386407  0.867447 -2.599573 -2.653195 -2.683659 -0.855325   \n",
       "649  -0.319087 -0.408385  0.630491 -0.967746 -0.527166 -0.764839 -0.834925   \n",
       "543   4.994890  6.285316  3.633797  1.362231  4.073762  4.280592  6.021703   \n",
       "\n",
       "       emotion  \n",
       "837   surprise  \n",
       "426       calm  \n",
       "1266      calm  \n",
       "1223       sad  \n",
       "104    disgust  \n",
       "61     neutral  \n",
       "275      angry  \n",
       "131       calm  \n",
       "649    disgust  \n",
       "543    neutral  \n",
       "\n",
       "[10 rows x 41 columns]"
      ]
     },
     "execution_count": 12,
     "metadata": {},
     "output_type": "execute_result"
    }
   ],
   "source": [
    "#to shuffle the data\n",
    "data = data.reindex(np.random.permutation(data.index))\n",
    "#view the first 10 record after shuffle\n",
    "data.head(10)"
   ]
  },
  {
   "cell_type": "code",
   "execution_count": 13,
   "metadata": {
    "scrolled": false
   },
   "outputs": [
    {
     "name": "stdout",
     "output_type": "stream",
     "text": [
      "File already exist! Delete it first from file system if you want to replace old data\n"
     ]
    },
    {
     "data": {
      "text/plain": [
       "(1440, 41)"
      ]
     },
     "execution_count": 13,
     "metadata": {},
     "output_type": "execute_result"
    }
   ],
   "source": [
    "# save the shuffled data into csv file for future use.\n",
    "if os.path.isfile(CSV+\"mfcc_feature.csv\"):\n",
    "    print (\"File already exist! Delete it first from file system if you want to replace old data\")\n",
    "else:\n",
    "    data.to_csv(CSV+\"mfcc_feature.csv\")\n",
    "#to view the data dimension \n",
    "data.shape"
   ]
  },
  {
   "cell_type": "code",
   "execution_count": 14,
   "metadata": {
    "scrolled": true
   },
   "outputs": [
    {
     "data": {
      "text/plain": [
       "Index([        0,         1,         2,         3,         4,         5,\n",
       "               6,         7,         8,         9,        10,        11,\n",
       "              12,        13,        14,        15,        16,        17,\n",
       "              18,        19,        20,        21,        22,        23,\n",
       "              24,        25,        26,        27,        28,        29,\n",
       "              30,        31,        32,        33,        34,        35,\n",
       "              36,        37,        38,        39, 'emotion'],\n",
       "      dtype='object')"
      ]
     },
     "execution_count": 14,
     "metadata": {},
     "output_type": "execute_result"
    }
   ],
   "source": [
    "#check all the fields(columns) in the data\n",
    "data.columns"
   ]
  },
  {
   "cell_type": "code",
   "execution_count": 15,
   "metadata": {},
   "outputs": [
    {
     "data": {
      "text/plain": [
       "((1440, 40), (1440,))"
      ]
     },
     "execution_count": 15,
     "metadata": {},
     "output_type": "execute_result"
    }
   ],
   "source": [
    "#separating features and target outputs\n",
    "#X variable contains attributes while y variable contains corresponding labels.\n",
    "X = data.drop('emotion', axis = 1).values\n",
    "y = data['emotion'].values\n",
    "#check the shape of x and y\n",
    "X.shape, y.shape"
   ]
  },
  {
   "cell_type": "markdown",
   "metadata": {},
   "source": [
    "## SVM (Support Vector Machine) Classifier and Fit/Train the Model\n",
    "Implementing SVM with Scikit-Learn"
   ]
  },
  {
   "cell_type": "markdown",
   "metadata": {},
   "source": [
    "To split data into training and test sets. The model_selection library of the Scikit-Learn library contains the train_test_split method which is used to split data into training and test sets.\n",
    "\n",
    "to train SVM on the training data. Scikit-Learn contains the svm library, which contains built-in classes for different SVM algorithms. "
   ]
  },
  {
   "cell_type": "code",
   "execution_count": 16,
   "metadata": {},
   "outputs": [],
   "source": [
    "X_train, X_test, y_train, y_test = train_test_split(X, y, test_size = 0.20)\n",
    "svclassifier = SVC(kernel = 'linear')"
   ]
  },
  {
   "cell_type": "code",
   "execution_count": 17,
   "metadata": {},
   "outputs": [
    {
     "data": {
      "text/plain": [
       "SVC(kernel='linear')"
      ]
     },
     "execution_count": 17,
     "metadata": {},
     "output_type": "execute_result"
    }
   ],
   "source": [
    "svclassifier.fit(X_train, y_train)"
   ]
  },
  {
   "cell_type": "code",
   "execution_count": 18,
   "metadata": {},
   "outputs": [],
   "source": [
    "y_pred = svclassifier.predict(X_test)"
   ]
  },
  {
   "cell_type": "code",
   "execution_count": 19,
   "metadata": {
    "scrolled": false
   },
   "outputs": [
    {
     "name": "stdout",
     "output_type": "stream",
     "text": [
      "Accuracy: 49.65%\n",
      "Statistics:\n",
      "              precision    recall  f1-score   support\n",
      "\n",
      "       angry       0.52      0.59      0.55        39\n",
      "        calm       0.49      0.70      0.57        33\n",
      "     disgust       0.57      0.46      0.51        37\n",
      "        fear       0.48      0.62      0.54        39\n",
      "       happy       0.41      0.33      0.37        48\n",
      "     neutral       0.47      0.44      0.45        16\n",
      "         sad       0.45      0.41      0.43        34\n",
      "    surprise       0.59      0.45      0.51        42\n",
      "\n",
      "    accuracy                           0.50       288\n",
      "   macro avg       0.50      0.50      0.49       288\n",
      "weighted avg       0.50      0.50      0.49       288\n",
      "\n",
      "Confusion Matrix:\n"
     ]
    },
    {
     "data": {
      "image/png": "[encoded data removed]",
      "text/plain": [
       "<Figure size 432x288 with 2 Axes>"
      ]
     },
     "metadata": {
      "needs_background": "light"
     },
     "output_type": "display_data"
    }
   ],
   "source": [
    "accuracy=accuracy_score(y_test, y_pred)\n",
    "#Print the accuracy\n",
    "print(\"Accuracy: {:.2f}%\".format(accuracy*100))\n",
    "#Print the report\n",
    "print(\"Statistics:\")\n",
    "print(classification_report(y_test,y_pred))\n",
    "\n",
    "print(\"Confusion Matrix:\")\n",
    "matrix = confusion_matrix(y_test,y_pred)\n",
    "df_matrix = pd.DataFrame(matrix)\n",
    "sn.heatmap(df_matrix, annot=True, fmt='')\n",
    "plt.show()"
   ]
  },
  {
   "cell_type": "code",
   "execution_count": 20,
   "metadata": {
    "scrolled": false
   },
   "outputs": [
    {
     "name": "stdout",
     "output_type": "stream",
     "text": [
      "Train Accuracy: 64.84%\n",
      "Test Accuracy: 49.65%\n"
     ]
    }
   ],
   "source": [
    "#calculate and display the train and test accuracy\n",
    "train_accuracy = float(svclassifier.score(X_train, y_train)*100)\n",
    "print(\"Train Accuracy: {:.2f}%\".format(train_accuracy))\n",
    "test_accuracy = float(svclassifier.score(X_test, y_test)*100)\n",
    "print(\"Test Accuracy: {:.2f}%\".format(test_accuracy))"
   ]
  },
  {
   "cell_type": "markdown",
   "metadata": {},
   "source": [
    "## Cross-Validation\n",
    "after calculating the training accuracy and comparing with testing accuracy, to check for overfitting of data.\n",
    "5-fold cross validation of the dataset with the SVC classifier."
   ]
  },
  {
   "cell_type": "code",
   "execution_count": 21,
   "metadata": {},
   "outputs": [
    {
     "name": "stdout",
     "output_type": "stream",
     "text": [
      "[0.45833333 0.47916667 0.42708333 0.42708333 0.44791667]\n"
     ]
    }
   ],
   "source": [
    "# no. of folds cv = 5\n",
    "cv_results = cross_val_score(svclassifier, X, y, cv = 5)\n",
    "print(cv_results)"
   ]
  },
  {
   "cell_type": "markdown",
   "metadata": {},
   "source": [
    "## Scaling\n",
    "\n",
    "When performing the linear SVM classification, it is often helpful to normalize the training data and scale the test data with the mean and standard deviation of training data."
   ]
  },
  {
   "cell_type": "code",
   "execution_count": 22,
   "metadata": {},
   "outputs": [],
   "source": [
    "#splitting dataset into train/ test sets\n",
    "X_train, X_test, y_train, y_test = train_test_split(X, y, test_size = 0.20)"
   ]
  },
  {
   "cell_type": "code",
   "execution_count": 23,
   "metadata": {},
   "outputs": [],
   "source": [
    "# Setup the pipeline steps and create the pipeline and fit the pipeline to the training set: svc_scaled\n",
    "steps = [('scaler', StandardScaler()),\n",
    "        ('SVM', SVC())]\n",
    "pipeline = Pipeline(steps)\n",
    "svc_scaled = pipeline.fit(X_train, y_train)"
   ]
  },
  {
   "cell_type": "code",
   "execution_count": 24,
   "metadata": {
    "scrolled": true
   },
   "outputs": [
    {
     "name": "stdout",
     "output_type": "stream",
     "text": [
      "Accuracy with Scaling: 54.86%\n",
      "Accuracy without Scaling: 45.83%\n"
     ]
    }
   ],
   "source": [
    "# fit a classifier to the unscaled data, Compute and print metrics\n",
    "svc_unscaled = SVC(kernel = 'linear').fit(X_train, y_train)\n",
    "Scaling_accuracy = float(svc_scaled.score(X_test, y_test)*100)\n",
    "Non_Scaling_accuracy = float(svc_unscaled.score(X_test, y_test)*100)\n",
    "print('Accuracy with Scaling: {:.2f}%'.format(Scaling_accuracy))\n",
    "print('Accuracy without Scaling: {:.2f}%'.format(Non_Scaling_accuracy))"
   ]
  },
  {
   "cell_type": "markdown",
   "metadata": {},
   "source": [
    "## Generalization check\n",
    "Checking for overfitting or underfitting by comparing the training and testing scores of the model"
   ]
  },
  {
   "cell_type": "code",
   "execution_count": 25,
   "metadata": {},
   "outputs": [
    {
     "name": "stdout",
     "output_type": "stream",
     "text": [
      "Train Accuracy: 78.12%\n",
      "Test Accuracy: 54.86%\n"
     ]
    }
   ],
   "source": [
    "train_accuracy = float(svc_scaled.score(X_train, y_train)*100)\n",
    "print(\"Train Accuracy: {:.2f}%\".format(train_accuracy))\n",
    "test_accuracy = float(svc_scaled.score(X_test, y_test)*100)\n",
    "print(\"Test Accuracy: {:.2f}%\".format(test_accuracy))"
   ]
  },
  {
   "cell_type": "code",
   "execution_count": 26,
   "metadata": {},
   "outputs": [],
   "source": [
    "scaled_predictions = svc_scaled.predict(X_test)"
   ]
  },
  {
   "cell_type": "code",
   "execution_count": 27,
   "metadata": {
    "scrolled": false
   },
   "outputs": [
    {
     "name": "stdout",
     "output_type": "stream",
     "text": [
      "Accuracy: 54.86%\n",
      "Statistics:\n",
      "              precision    recall  f1-score   support\n",
      "\n",
      "       angry       0.81      0.67      0.73        33\n",
      "        calm       0.55      0.79      0.65        42\n",
      "     disgust       0.48      0.63      0.55        38\n",
      "        fear       0.63      0.54      0.58        41\n",
      "       happy       0.54      0.30      0.38        47\n",
      "     neutral       0.00      0.00      0.00        22\n",
      "         sad       0.36      0.57      0.44        30\n",
      "    surprise       0.60      0.74      0.67        35\n",
      "\n",
      "    accuracy                           0.55       288\n",
      "   macro avg       0.50      0.53      0.50       288\n",
      "weighted avg       0.53      0.55      0.52       288\n",
      "\n",
      "Confusion Matrix:\n"
     ]
    },
    {
     "name": "stderr",
     "output_type": "stream",
     "text": [
      "C:\\Users\\User\\anaconda3\\anaconda3\\lib\\site-packages\\sklearn\\metrics\\_classification.py:1248: UndefinedMetricWarning: Precision and F-score are ill-defined and being set to 0.0 in labels with no predicted samples. Use `zero_division` parameter to control this behavior.\n",
      "  _warn_prf(average, modifier, msg_start, len(result))\n",
      "C:\\Users\\User\\anaconda3\\anaconda3\\lib\\site-packages\\sklearn\\metrics\\_classification.py:1248: UndefinedMetricWarning: Precision and F-score are ill-defined and being set to 0.0 in labels with no predicted samples. Use `zero_division` parameter to control this behavior.\n",
      "  _warn_prf(average, modifier, msg_start, len(result))\n",
      "C:\\Users\\User\\anaconda3\\anaconda3\\lib\\site-packages\\sklearn\\metrics\\_classification.py:1248: UndefinedMetricWarning: Precision and F-score are ill-defined and being set to 0.0 in labels with no predicted samples. Use `zero_division` parameter to control this behavior.\n",
      "  _warn_prf(average, modifier, msg_start, len(result))\n"
     ]
    },
    {
     "data": {
      "image/png": "[encoded data removed]",
      "text/plain": [
       "<Figure size 432x288 with 2 Axes>"
      ]
     },
     "metadata": {
      "needs_background": "light"
     },
     "output_type": "display_data"
    }
   ],
   "source": [
    "accuracy=accuracy_score(y_test, scaled_predictions)\n",
    "\n",
    "#Print the accuracy\n",
    "print(\"Accuracy: {:.2f}%\".format(accuracy*100))\n",
    "\n",
    "#Print the report\n",
    "print(\"Statistics:\")\n",
    "print(classification_report(y_test,scaled_predictions))\n",
    "\n",
    "print(\"Confusion Matrix:\")\n",
    "cm = confusion_matrix(y_test,scaled_predictions)\n",
    "df_cm = pd.DataFrame(cm)\n",
    "sn.heatmap(df_cm, annot=True, fmt='')\n",
    "plt.show()"
   ]
  },
  {
   "cell_type": "code",
   "execution_count": 28,
   "metadata": {},
   "outputs": [
    {
     "name": "stdout",
     "output_type": "stream",
     "text": [
      "[0.54513889 0.56597222 0.55208333 0.54861111 0.52083333]\n"
     ]
    }
   ],
   "source": [
    "cv_results = cross_val_score(svc_scaled, X, y, cv = 5)\n",
    "print(cv_results)"
   ]
  }
 ],
 "metadata": {
  "kernelspec": {
   "display_name": "Python 3",
   "language": "python",
   "name": "python3"
  },
  "language_info": {
   "codemirror_mode": {
    "name": "ipython",
    "version": 3
   },
   "file_extension": ".py",
   "mimetype": "text/x-python",
   "name": "python",
   "nbconvert_exporter": "python",
   "pygments_lexer": "ipython3",
   "version": "3.8.5"
  }
 },
 "nbformat": 4,
 "nbformat_minor": 4
}
