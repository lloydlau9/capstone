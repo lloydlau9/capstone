{
 "cells": [
  {
   "cell_type": "markdown",
   "metadata": {},
   "source": [
    "## Capstone - Speech Emotion Recognition "
   ]
  },
  {
   "cell_type": "markdown",
   "metadata": {},
   "source": [
    "## Dataset\n",
    "\n",
    "The Ryerson Audio-Visual Database of Emotional Speech and Song (RAVDESS),and it is free to download. This dataset has 7356 files rated by 247 individuals 10 times on emotional validity, intensity, and genuineness. here the Speech files of all actors (01-24) will be used and the files are available under path ../datasets/RAVDESS. It contains 1440 files: 60 trials per actor x 24 actors = 1440. \n",
    "Filename identifiers:\n",
    "<ol>\n",
    "<li>Modality (01 = full-AV, 02 = video-only, 03 = audio-only).</li>\n",
    "<li>Vocal channel (01 = speech, 02 = song).</li>\n",
    "<li>Emotion (01 = neutral, 02 = calm, 03 = happy, 04 = sad, 05 = angry, 06 = fearful, 07 = disgust, 08 = surprised).</li>\n",
    "<li>Emotional intensity (01 = normal, 02 = strong). NOTE: There is no strong intensity for the 'neutral' emotion.</li>\n",
    "<li>Statement (01 = \"Kids are talking by the door\", 02 = \"Dogs are sitting by the door\").</li>\n",
    "<li>Repetition (01 = 1st repetition, 02 = 2nd repetition)..</li>\n",
    "<li>Actor (01 to 24. Odd numbered actors are male, even numbered actors are female).</li>\n",
    "</ol>"
   ]
  },
  {
   "cell_type": "markdown",
   "metadata": {},
   "source": [
    "### Libraries imports"
   ]
  },
  {
   "cell_type": "code",
   "execution_count": 1,
   "metadata": {},
   "outputs": [],
   "source": [
    "#pip install librosa soundfile numpy sklearn pyaudio"
   ]
  },
  {
   "cell_type": "code",
   "execution_count": 2,
   "metadata": {},
   "outputs": [],
   "source": [
    "#pip install --upgrade tensorflow"
   ]
  },
  {
   "cell_type": "code",
   "execution_count": 3,
   "metadata": {},
   "outputs": [],
   "source": [
    "# Import libraries \n",
    "import librosa\n",
    "import librosa.display\n",
    "import soundfile\n",
    "import numpy as np\n",
    "import matplotlib.pyplot as plt\n",
    "import tensorflow as tf\n",
    "from matplotlib.pyplot import specgram\n",
    "import pandas as pd\n",
    "\n",
    "import seaborn as sns\n",
    "\n",
    "from sklearn.metrics import confusion_matrix, accuracy_score\n",
    "from sklearn.model_selection import train_test_split\n",
    "from sklearn.neural_network import MLPClassifier\n",
    "\n",
    "import IPython.display as ipd  # To play sound in the notebook\n",
    "import os, glob, pickle\n",
    "import sys\n",
    "import warnings\n",
    "# ignore warnings \n",
    "if not sys.warnoptions:\n",
    "    warnings.simplefilter(\"ignore\")\n",
    "warnings.filterwarnings(\"ignore\", category=DeprecationWarning) "
   ]
  },
  {
   "cell_type": "markdown",
   "metadata": {},
   "source": [
    "### Retrieve RAVDESS dataset from File System"
   ]
  },
  {
   "cell_type": "code",
   "execution_count": 4,
   "metadata": {
    "scrolled": false
   },
   "outputs": [
    {
     "data": {
      "text/plain": [
       "['03-01-01-01-01-01-01.wav',\n",
       " '03-01-01-01-01-02-01.wav',\n",
       " '03-01-01-01-02-01-01.wav',\n",
       " '03-01-01-01-02-02-01.wav',\n",
       " '03-01-02-01-01-01-01.wav']"
      ]
     },
     "execution_count": 4,
     "metadata": {},
     "output_type": "execute_result"
    }
   ],
   "source": [
    "#for dirname, _, filenames in os.walk('/kaggle/input'):\n",
    "#    for filename in filenames:\n",
    "#        print(os.path.join(dirname, filename))\n",
    "\n",
    "# TESS = \"/kaggle/input/toronto-emotional-speech-set-tess/tess toronto emotional speech set data/TESS Toronto emotional speech set data/\"\n",
    "RAV = \"../datasets/RAVDESS/\"\n",
    "#RAV = \"../datasets/RAVDESS/audio_speech_actors_01-24/\"\n",
    "#SAVEE = \"/kaggle/input/surrey-audiovisual-expressed-emotion-savee/ALL/\"\n",
    "#CREMA = \"../datasets/AudioWAV/\"\n",
    "\n",
    "# Run one example \n",
    "dir_list = os.listdir(RAV+\"Actor_01/\")\n",
    "dir_list[0:5]"
   ]
  },
  {
   "cell_type": "markdown",
   "metadata": {},
   "source": [
    "### Data statistics by motion and gender"
   ]
  },
  {
   "cell_type": "code",
   "execution_count": 5,
   "metadata": {
    "scrolled": true
   },
   "outputs": [
    {
     "data": {
      "text/plain": [
       "male_happy         96\n",
       "female_surprise    96\n",
       "male_sad           96\n",
       "female_fear        96\n",
       "female_calm        96\n",
       "female_sad         96\n",
       "male_surprise      96\n",
       "male_disgust       96\n",
       "male_calm          96\n",
       "male_angry         96\n",
       "female_disgust     96\n",
       "female_happy       96\n",
       "female_angry       96\n",
       "male_fear          96\n",
       "female_neutral     48\n",
       "male_neutral       48\n",
       "Name: labels, dtype: int64"
      ]
     },
     "execution_count": 5,
     "metadata": {},
     "output_type": "execute_result"
    }
   ],
   "source": [
    "dir_list = os.listdir(RAV)\n",
    "dir_list.sort()\n",
    "\n",
    "emotion = []\n",
    "gender = []\n",
    "path = []\n",
    "#loop to get all actor's sound files path\n",
    "#print(\"actor folder:\"+i)\n",
    "for i in dir_list:\n",
    "    fname = os.listdir(RAV + i)\n",
    "    #to get all actor's relative file path\n",
    "    #print(\"relative path for \"+i+\": \"+RAV+i)\n",
    "    for f in fname:\n",
    "        part = f.split('.')[0].split('-')\n",
    "        emotion.append(int(part[2]))\n",
    "        temp = int(part[6])\n",
    "        if temp%2 == 0:\n",
    "            temp = \"female\"\n",
    "        else:\n",
    "            temp = \"male\"\n",
    "        gender.append(temp)\n",
    "        path.append(RAV + i + '/' + f)\n",
    "\n",
    "        \n",
    "RAV_df = pd.DataFrame(emotion)\n",
    "RAV_df = RAV_df.replace({1:'neutral', 2:'calm', 3:'happy', 4:'sad', 5:'angry', 6:'fear', 7:'disgust', 8:'surprise'})\n",
    "RAV_df = pd.concat([pd.DataFrame(gender),RAV_df],axis=1)\n",
    "RAV_df.columns = ['gender','emotion']\n",
    "RAV_df['labels'] =RAV_df.gender + '_' + RAV_df.emotion\n",
    "RAV_df['source'] = 'RAVDESS'  \n",
    "RAV_df = pd.concat([RAV_df,pd.DataFrame(path, columns = ['path'])],axis=1)\n",
    "RAV_df = RAV_df.drop(['gender', 'emotion'], axis=1)\n",
    "RAV_df.labels.value_counts()"
   ]
  },
  {
   "cell_type": "code",
   "execution_count": 7,
   "metadata": {
    "scrolled": true
   },
   "outputs": [
    {
     "data": {
      "text/html": [
       "<div>\n",
       "<style scoped>\n",
       "    .dataframe tbody tr th:only-of-type {\n",
       "        vertical-align: middle;\n",
       "    }\n",
       "\n",
       "    .dataframe tbody tr th {\n",
       "        vertical-align: top;\n",
       "    }\n",
       "\n",
       "    .dataframe thead th {\n",
       "        text-align: right;\n",
       "    }\n",
       "</style>\n",
       "<table border=\"1\" class=\"dataframe\">\n",
       "  <thead>\n",
       "    <tr style=\"text-align: right;\">\n",
       "      <th></th>\n",
       "      <th>labels</th>\n",
       "      <th>source</th>\n",
       "      <th>path</th>\n",
       "    </tr>\n",
       "  </thead>\n",
       "  <tbody>\n",
       "    <tr>\n",
       "      <th>0</th>\n",
       "      <td>male_neutral</td>\n",
       "      <td>RAVDESS</td>\n",
       "      <td>../datasets/RAVDESS/Actor_01/03-01-01-01-01-01...</td>\n",
       "    </tr>\n",
       "    <tr>\n",
       "      <th>1</th>\n",
       "      <td>male_neutral</td>\n",
       "      <td>RAVDESS</td>\n",
       "      <td>../datasets/RAVDESS/Actor_01/03-01-01-01-01-02...</td>\n",
       "    </tr>\n",
       "    <tr>\n",
       "      <th>2</th>\n",
       "      <td>male_neutral</td>\n",
       "      <td>RAVDESS</td>\n",
       "      <td>../datasets/RAVDESS/Actor_01/03-01-01-01-02-01...</td>\n",
       "    </tr>\n",
       "    <tr>\n",
       "      <th>3</th>\n",
       "      <td>male_neutral</td>\n",
       "      <td>RAVDESS</td>\n",
       "      <td>../datasets/RAVDESS/Actor_01/03-01-01-01-02-02...</td>\n",
       "    </tr>\n",
       "    <tr>\n",
       "      <th>4</th>\n",
       "      <td>male_calm</td>\n",
       "      <td>RAVDESS</td>\n",
       "      <td>../datasets/RAVDESS/Actor_01/03-01-02-01-01-01...</td>\n",
       "    </tr>\n",
       "    <tr>\n",
       "      <th>...</th>\n",
       "      <td>...</td>\n",
       "      <td>...</td>\n",
       "      <td>...</td>\n",
       "    </tr>\n",
       "    <tr>\n",
       "      <th>1435</th>\n",
       "      <td>female_surprise</td>\n",
       "      <td>RAVDESS</td>\n",
       "      <td>../datasets/RAVDESS/Actor_24/03-01-08-01-02-02...</td>\n",
       "    </tr>\n",
       "    <tr>\n",
       "      <th>1436</th>\n",
       "      <td>female_surprise</td>\n",
       "      <td>RAVDESS</td>\n",
       "      <td>../datasets/RAVDESS/Actor_24/03-01-08-02-01-01...</td>\n",
       "    </tr>\n",
       "    <tr>\n",
       "      <th>1437</th>\n",
       "      <td>female_surprise</td>\n",
       "      <td>RAVDESS</td>\n",
       "      <td>../datasets/RAVDESS/Actor_24/03-01-08-02-01-02...</td>\n",
       "    </tr>\n",
       "    <tr>\n",
       "      <th>1438</th>\n",
       "      <td>female_surprise</td>\n",
       "      <td>RAVDESS</td>\n",
       "      <td>../datasets/RAVDESS/Actor_24/03-01-08-02-02-01...</td>\n",
       "    </tr>\n",
       "    <tr>\n",
       "      <th>1439</th>\n",
       "      <td>female_surprise</td>\n",
       "      <td>RAVDESS</td>\n",
       "      <td>../datasets/RAVDESS/Actor_24/03-01-08-02-02-02...</td>\n",
       "    </tr>\n",
       "  </tbody>\n",
       "</table>\n",
       "<p>1440 rows × 3 columns</p>\n",
       "</div>"
      ],
      "text/plain": [
       "               labels   source  \\\n",
       "0        male_neutral  RAVDESS   \n",
       "1        male_neutral  RAVDESS   \n",
       "2        male_neutral  RAVDESS   \n",
       "3        male_neutral  RAVDESS   \n",
       "4           male_calm  RAVDESS   \n",
       "...               ...      ...   \n",
       "1435  female_surprise  RAVDESS   \n",
       "1436  female_surprise  RAVDESS   \n",
       "1437  female_surprise  RAVDESS   \n",
       "1438  female_surprise  RAVDESS   \n",
       "1439  female_surprise  RAVDESS   \n",
       "\n",
       "                                                   path  \n",
       "0     ../datasets/RAVDESS/Actor_01/03-01-01-01-01-01...  \n",
       "1     ../datasets/RAVDESS/Actor_01/03-01-01-01-01-02...  \n",
       "2     ../datasets/RAVDESS/Actor_01/03-01-01-01-02-01...  \n",
       "3     ../datasets/RAVDESS/Actor_01/03-01-01-01-02-02...  \n",
       "4     ../datasets/RAVDESS/Actor_01/03-01-02-01-01-01...  \n",
       "...                                                 ...  \n",
       "1435  ../datasets/RAVDESS/Actor_24/03-01-08-01-02-02...  \n",
       "1436  ../datasets/RAVDESS/Actor_24/03-01-08-02-01-01...  \n",
       "1437  ../datasets/RAVDESS/Actor_24/03-01-08-02-01-02...  \n",
       "1438  ../datasets/RAVDESS/Actor_24/03-01-08-02-02-01...  \n",
       "1439  ../datasets/RAVDESS/Actor_24/03-01-08-02-02-02...  \n",
       "\n",
       "[1440 rows x 3 columns]"
      ]
     },
     "execution_count": 7,
     "metadata": {},
     "output_type": "execute_result"
    }
   ],
   "source": [
    "RAV_df"
   ]
  },
  {
   "cell_type": "code",
   "execution_count": 14,
   "metadata": {},
   "outputs": [],
   "source": [
    "#Extract features (mfcc, chroma, mel) from a given sound file(with path)\n",
    "def extract_feature(file_name, mfcc):\n",
    "    X, sample_rate = librosa.load(os.path.join(file_name), res_type='kaiser_fast')\n",
    "    result=np.array([])\n",
    "    if mfcc:\n",
    "        mfccs=np.mean(librosa.feature.mfcc(y=X, sr=sample_rate, n_mfcc=40).T, axis=0)\n",
    "        result=np.hstack((result, mfccs))\n",
    "    return result"
   ]
  },
  {
   "cell_type": "code",
   "execution_count": 15,
   "metadata": {},
   "outputs": [],
   "source": [
    "#Emotions in the RAVDESS dataset, it will not take the neutral into the modeling process\n",
    "emotions={\n",
    "  '01':'neutral',\n",
    "  '02':'calm',\n",
    "  '03':'happy',\n",
    "  '04':'sad',\n",
    "  '05':'angry',\n",
    "  '06':'fear',\n",
    "  '07':'disgust',\n",
    "  '08':'surprise'\n",
    "}\n",
    "#Emotions to observe(all emotions except neutral)\n",
    "observed_emotions=['calm', 'happy', 'sad','angry','fear', 'disgust','surprise']"
   ]
  },
  {
   "cell_type": "code",
   "execution_count": 16,
   "metadata": {},
   "outputs": [],
   "source": [
    "#Load the data and extract features for each sound file\n",
    "def load_data(test_size=0.2): \n",
    "    x,y=[],[]\n",
    "    \n",
    "    # feature to extract\n",
    "    mfcc = True \n",
    "    path= RAV+\"Actor_*/*.wav\"   \n",
    "    for file in glob.glob(path):\n",
    "        file_name=os.path.basename(file)\n",
    "        emotion=emotions[file_name.split(\"-\")[2]] #to get emotion according to filename. dictionary emotions is defined above.\n",
    "        if emotion not in observed_emotions: #options observed_emotions - RAVDESS and TESS, ravdess_emotions for RAVDESS only\n",
    "            continue\n",
    "        feature=extract_feature(file, mfcc)\n",
    "        x.append(feature)\n",
    "        y.append(emotion)\n",
    "    return {\"X\":x,\"y\":y}"
   ]
  },
  {
   "cell_type": "code",
   "execution_count": 17,
   "metadata": {
    "scrolled": false
   },
   "outputs": [],
   "source": [
    "#load data into memory\n",
    "Trial_dict = load_data(test_size = 0.3)"
   ]
  },
  {
   "cell_type": "code",
   "execution_count": 18,
   "metadata": {
    "scrolled": true
   },
   "outputs": [
    {
     "data": {
      "text/plain": [
       "((1344, 40), (1344, 1))"
      ]
     },
     "execution_count": 18,
     "metadata": {},
     "output_type": "execute_result"
    }
   ],
   "source": [
    "X = pd.DataFrame(Trial_dict[\"X\"])\n",
    "y = pd.DataFrame(Trial_dict[\"y\"])\n",
    "X.shape, y.shape"
   ]
  },
  {
   "cell_type": "code",
   "execution_count": 19,
   "metadata": {
    "scrolled": false
   },
   "outputs": [
    {
     "data": {
      "text/html": [
       "<div>\n",
       "<style scoped>\n",
       "    .dataframe tbody tr th:only-of-type {\n",
       "        vertical-align: middle;\n",
       "    }\n",
       "\n",
       "    .dataframe tbody tr th {\n",
       "        vertical-align: top;\n",
       "    }\n",
       "\n",
       "    .dataframe thead th {\n",
       "        text-align: right;\n",
       "    }\n",
       "</style>\n",
       "<table border=\"1\" class=\"dataframe\">\n",
       "  <thead>\n",
       "    <tr style=\"text-align: right;\">\n",
       "      <th></th>\n",
       "      <th>0</th>\n",
       "      <th>1</th>\n",
       "      <th>2</th>\n",
       "      <th>3</th>\n",
       "      <th>4</th>\n",
       "      <th>5</th>\n",
       "      <th>6</th>\n",
       "      <th>7</th>\n",
       "      <th>8</th>\n",
       "      <th>9</th>\n",
       "      <th>...</th>\n",
       "      <th>31</th>\n",
       "      <th>32</th>\n",
       "      <th>33</th>\n",
       "      <th>34</th>\n",
       "      <th>35</th>\n",
       "      <th>36</th>\n",
       "      <th>37</th>\n",
       "      <th>38</th>\n",
       "      <th>39</th>\n",
       "      <th>emotion</th>\n",
       "    </tr>\n",
       "  </thead>\n",
       "  <tbody>\n",
       "    <tr>\n",
       "      <th>0</th>\n",
       "      <td>-737.437988</td>\n",
       "      <td>77.273209</td>\n",
       "      <td>-11.190391</td>\n",
       "      <td>26.755884</td>\n",
       "      <td>-1.537418</td>\n",
       "      <td>8.085284</td>\n",
       "      <td>-7.015995</td>\n",
       "      <td>-3.006230</td>\n",
       "      <td>-8.947398</td>\n",
       "      <td>-7.313802</td>\n",
       "      <td>...</td>\n",
       "      <td>-2.158252</td>\n",
       "      <td>-1.256279</td>\n",
       "      <td>-2.996467</td>\n",
       "      <td>-1.348934</td>\n",
       "      <td>-0.796627</td>\n",
       "      <td>-1.648554</td>\n",
       "      <td>-1.981015</td>\n",
       "      <td>-3.455514</td>\n",
       "      <td>-3.098281</td>\n",
       "      <td>calm</td>\n",
       "    </tr>\n",
       "    <tr>\n",
       "      <th>1</th>\n",
       "      <td>-716.575806</td>\n",
       "      <td>79.555000</td>\n",
       "      <td>-9.764153</td>\n",
       "      <td>21.266054</td>\n",
       "      <td>1.637321</td>\n",
       "      <td>6.441747</td>\n",
       "      <td>-7.460036</td>\n",
       "      <td>-3.939013</td>\n",
       "      <td>-7.493039</td>\n",
       "      <td>-6.710302</td>\n",
       "      <td>...</td>\n",
       "      <td>-3.157654</td>\n",
       "      <td>-2.751998</td>\n",
       "      <td>-3.946696</td>\n",
       "      <td>-3.424494</td>\n",
       "      <td>-1.561885</td>\n",
       "      <td>-1.812810</td>\n",
       "      <td>-3.330558</td>\n",
       "      <td>-3.927409</td>\n",
       "      <td>-4.398661</td>\n",
       "      <td>calm</td>\n",
       "    </tr>\n",
       "    <tr>\n",
       "      <th>2</th>\n",
       "      <td>-708.541504</td>\n",
       "      <td>81.566536</td>\n",
       "      <td>-14.513219</td>\n",
       "      <td>26.434237</td>\n",
       "      <td>-4.558772</td>\n",
       "      <td>9.789379</td>\n",
       "      <td>-5.627738</td>\n",
       "      <td>-3.479167</td>\n",
       "      <td>-8.197019</td>\n",
       "      <td>-6.570935</td>\n",
       "      <td>...</td>\n",
       "      <td>-2.898625</td>\n",
       "      <td>-1.729264</td>\n",
       "      <td>-3.638450</td>\n",
       "      <td>-3.722741</td>\n",
       "      <td>-2.391207</td>\n",
       "      <td>-1.859560</td>\n",
       "      <td>-2.648129</td>\n",
       "      <td>-4.284513</td>\n",
       "      <td>-3.400892</td>\n",
       "      <td>calm</td>\n",
       "    </tr>\n",
       "    <tr>\n",
       "      <th>3</th>\n",
       "      <td>-709.393677</td>\n",
       "      <td>84.234299</td>\n",
       "      <td>-13.381046</td>\n",
       "      <td>25.719385</td>\n",
       "      <td>-1.773599</td>\n",
       "      <td>8.669509</td>\n",
       "      <td>-5.068448</td>\n",
       "      <td>-4.345946</td>\n",
       "      <td>-7.930424</td>\n",
       "      <td>-6.252995</td>\n",
       "      <td>...</td>\n",
       "      <td>-2.574771</td>\n",
       "      <td>-1.703177</td>\n",
       "      <td>-2.932248</td>\n",
       "      <td>-3.322625</td>\n",
       "      <td>-1.913512</td>\n",
       "      <td>-1.099499</td>\n",
       "      <td>-2.460561</td>\n",
       "      <td>-3.341412</td>\n",
       "      <td>-3.574461</td>\n",
       "      <td>calm</td>\n",
       "    </tr>\n",
       "    <tr>\n",
       "      <th>4</th>\n",
       "      <td>-746.074280</td>\n",
       "      <td>87.865776</td>\n",
       "      <td>-12.613696</td>\n",
       "      <td>27.847467</td>\n",
       "      <td>-2.255568</td>\n",
       "      <td>9.403696</td>\n",
       "      <td>-8.469919</td>\n",
       "      <td>-1.561309</td>\n",
       "      <td>-5.440102</td>\n",
       "      <td>-6.947087</td>\n",
       "      <td>...</td>\n",
       "      <td>-4.273163</td>\n",
       "      <td>-2.579099</td>\n",
       "      <td>-3.169269</td>\n",
       "      <td>-4.250158</td>\n",
       "      <td>-0.516558</td>\n",
       "      <td>-2.046174</td>\n",
       "      <td>-3.282803</td>\n",
       "      <td>-4.088738</td>\n",
       "      <td>-3.995429</td>\n",
       "      <td>calm</td>\n",
       "    </tr>\n",
       "    <tr>\n",
       "      <th>5</th>\n",
       "      <td>-709.888733</td>\n",
       "      <td>83.872131</td>\n",
       "      <td>-16.015291</td>\n",
       "      <td>24.925694</td>\n",
       "      <td>-3.676042</td>\n",
       "      <td>7.734766</td>\n",
       "      <td>-8.870955</td>\n",
       "      <td>-4.643577</td>\n",
       "      <td>-7.436958</td>\n",
       "      <td>-6.956243</td>\n",
       "      <td>...</td>\n",
       "      <td>-3.525422</td>\n",
       "      <td>-3.342165</td>\n",
       "      <td>-3.688268</td>\n",
       "      <td>-4.542849</td>\n",
       "      <td>-1.813079</td>\n",
       "      <td>-1.500344</td>\n",
       "      <td>-2.933184</td>\n",
       "      <td>-3.796410</td>\n",
       "      <td>-4.100177</td>\n",
       "      <td>calm</td>\n",
       "    </tr>\n",
       "    <tr>\n",
       "      <th>6</th>\n",
       "      <td>-720.888245</td>\n",
       "      <td>92.256973</td>\n",
       "      <td>-18.105085</td>\n",
       "      <td>30.677149</td>\n",
       "      <td>-10.106495</td>\n",
       "      <td>15.879362</td>\n",
       "      <td>-11.433564</td>\n",
       "      <td>-2.788313</td>\n",
       "      <td>-7.744429</td>\n",
       "      <td>-8.076165</td>\n",
       "      <td>...</td>\n",
       "      <td>-3.706883</td>\n",
       "      <td>-1.538929</td>\n",
       "      <td>-3.815779</td>\n",
       "      <td>-3.584084</td>\n",
       "      <td>-0.928449</td>\n",
       "      <td>-1.271769</td>\n",
       "      <td>-3.799274</td>\n",
       "      <td>-4.361970</td>\n",
       "      <td>-3.352691</td>\n",
       "      <td>calm</td>\n",
       "    </tr>\n",
       "    <tr>\n",
       "      <th>7</th>\n",
       "      <td>-705.742493</td>\n",
       "      <td>85.947540</td>\n",
       "      <td>-23.038992</td>\n",
       "      <td>31.084396</td>\n",
       "      <td>-6.655587</td>\n",
       "      <td>12.099257</td>\n",
       "      <td>-10.085448</td>\n",
       "      <td>-6.330753</td>\n",
       "      <td>-9.188592</td>\n",
       "      <td>-6.314198</td>\n",
       "      <td>...</td>\n",
       "      <td>-4.014781</td>\n",
       "      <td>-3.026642</td>\n",
       "      <td>-3.410466</td>\n",
       "      <td>-3.797046</td>\n",
       "      <td>-1.172301</td>\n",
       "      <td>-1.161485</td>\n",
       "      <td>-3.672012</td>\n",
       "      <td>-4.021473</td>\n",
       "      <td>-4.525779</td>\n",
       "      <td>calm</td>\n",
       "    </tr>\n",
       "    <tr>\n",
       "      <th>8</th>\n",
       "      <td>-656.485229</td>\n",
       "      <td>77.593452</td>\n",
       "      <td>-17.653610</td>\n",
       "      <td>23.665281</td>\n",
       "      <td>-4.467983</td>\n",
       "      <td>2.782660</td>\n",
       "      <td>-8.844941</td>\n",
       "      <td>-6.033539</td>\n",
       "      <td>-10.424742</td>\n",
       "      <td>-4.884527</td>\n",
       "      <td>...</td>\n",
       "      <td>-3.279285</td>\n",
       "      <td>-2.219877</td>\n",
       "      <td>-4.012078</td>\n",
       "      <td>-4.080649</td>\n",
       "      <td>-2.527309</td>\n",
       "      <td>-2.363561</td>\n",
       "      <td>-0.933180</td>\n",
       "      <td>-1.785354</td>\n",
       "      <td>-1.123829</td>\n",
       "      <td>happy</td>\n",
       "    </tr>\n",
       "    <tr>\n",
       "      <th>9</th>\n",
       "      <td>-640.136536</td>\n",
       "      <td>75.095604</td>\n",
       "      <td>-16.732061</td>\n",
       "      <td>24.470444</td>\n",
       "      <td>-0.250077</td>\n",
       "      <td>2.672507</td>\n",
       "      <td>-8.478719</td>\n",
       "      <td>-4.934093</td>\n",
       "      <td>-11.976707</td>\n",
       "      <td>-4.061225</td>\n",
       "      <td>...</td>\n",
       "      <td>-3.427801</td>\n",
       "      <td>-1.946495</td>\n",
       "      <td>-2.589383</td>\n",
       "      <td>-3.530886</td>\n",
       "      <td>-1.168457</td>\n",
       "      <td>-1.520232</td>\n",
       "      <td>-1.751718</td>\n",
       "      <td>-2.530553</td>\n",
       "      <td>-0.991988</td>\n",
       "      <td>happy</td>\n",
       "    </tr>\n",
       "  </tbody>\n",
       "</table>\n",
       "<p>10 rows × 41 columns</p>\n",
       "</div>"
      ],
      "text/plain": [
       "            0          1          2          3          4          5  \\\n",
       "0 -737.437988  77.273209 -11.190391  26.755884  -1.537418   8.085284   \n",
       "1 -716.575806  79.555000  -9.764153  21.266054   1.637321   6.441747   \n",
       "2 -708.541504  81.566536 -14.513219  26.434237  -4.558772   9.789379   \n",
       "3 -709.393677  84.234299 -13.381046  25.719385  -1.773599   8.669509   \n",
       "4 -746.074280  87.865776 -12.613696  27.847467  -2.255568   9.403696   \n",
       "5 -709.888733  83.872131 -16.015291  24.925694  -3.676042   7.734766   \n",
       "6 -720.888245  92.256973 -18.105085  30.677149 -10.106495  15.879362   \n",
       "7 -705.742493  85.947540 -23.038992  31.084396  -6.655587  12.099257   \n",
       "8 -656.485229  77.593452 -17.653610  23.665281  -4.467983   2.782660   \n",
       "9 -640.136536  75.095604 -16.732061  24.470444  -0.250077   2.672507   \n",
       "\n",
       "           6         7          8         9  ...        31        32  \\\n",
       "0  -7.015995 -3.006230  -8.947398 -7.313802  ... -2.158252 -1.256279   \n",
       "1  -7.460036 -3.939013  -7.493039 -6.710302  ... -3.157654 -2.751998   \n",
       "2  -5.627738 -3.479167  -8.197019 -6.570935  ... -2.898625 -1.729264   \n",
       "3  -5.068448 -4.345946  -7.930424 -6.252995  ... -2.574771 -1.703177   \n",
       "4  -8.469919 -1.561309  -5.440102 -6.947087  ... -4.273163 -2.579099   \n",
       "5  -8.870955 -4.643577  -7.436958 -6.956243  ... -3.525422 -3.342165   \n",
       "6 -11.433564 -2.788313  -7.744429 -8.076165  ... -3.706883 -1.538929   \n",
       "7 -10.085448 -6.330753  -9.188592 -6.314198  ... -4.014781 -3.026642   \n",
       "8  -8.844941 -6.033539 -10.424742 -4.884527  ... -3.279285 -2.219877   \n",
       "9  -8.478719 -4.934093 -11.976707 -4.061225  ... -3.427801 -1.946495   \n",
       "\n",
       "         33        34        35        36        37        38        39  \\\n",
       "0 -2.996467 -1.348934 -0.796627 -1.648554 -1.981015 -3.455514 -3.098281   \n",
       "1 -3.946696 -3.424494 -1.561885 -1.812810 -3.330558 -3.927409 -4.398661   \n",
       "2 -3.638450 -3.722741 -2.391207 -1.859560 -2.648129 -4.284513 -3.400892   \n",
       "3 -2.932248 -3.322625 -1.913512 -1.099499 -2.460561 -3.341412 -3.574461   \n",
       "4 -3.169269 -4.250158 -0.516558 -2.046174 -3.282803 -4.088738 -3.995429   \n",
       "5 -3.688268 -4.542849 -1.813079 -1.500344 -2.933184 -3.796410 -4.100177   \n",
       "6 -3.815779 -3.584084 -0.928449 -1.271769 -3.799274 -4.361970 -3.352691   \n",
       "7 -3.410466 -3.797046 -1.172301 -1.161485 -3.672012 -4.021473 -4.525779   \n",
       "8 -4.012078 -4.080649 -2.527309 -2.363561 -0.933180 -1.785354 -1.123829   \n",
       "9 -2.589383 -3.530886 -1.168457 -1.520232 -1.751718 -2.530553 -0.991988   \n",
       "\n",
       "   emotion  \n",
       "0     calm  \n",
       "1     calm  \n",
       "2     calm  \n",
       "3     calm  \n",
       "4     calm  \n",
       "5     calm  \n",
       "6     calm  \n",
       "7     calm  \n",
       "8    happy  \n",
       "9    happy  \n",
       "\n",
       "[10 rows x 41 columns]"
      ]
     },
     "execution_count": 19,
     "metadata": {},
     "output_type": "execute_result"
    }
   ],
   "source": [
    "#renaming the label column to emotion, store the attributes and label into dataframe\n",
    "y=y.rename(columns= {0: 'emotion'})\n",
    "data = pd.concat([X, y], axis =1)\n",
    "#view the first 10 record\n",
    "data.head(10)"
   ]
  },
  {
   "cell_type": "code",
   "execution_count": 34,
   "metadata": {},
   "outputs": [
    {
     "data": {
      "text/plain": [
       "0       3.801008\n",
       "1       4.074472\n",
       "2       4.394899\n",
       "3       2.902733\n",
       "4       5.016706\n",
       "          ...   \n",
       "1339   -4.068598\n",
       "1340   -3.571874\n",
       "1341   -0.927179\n",
       "1342   -0.013987\n",
       "1343   -1.748590\n",
       "Name: 10, Length: 1344, dtype: float64"
      ]
     },
     "execution_count": 34,
     "metadata": {},
     "output_type": "execute_result"
    }
   ],
   "source": [
    "data[10]"
   ]
  },
  {
   "cell_type": "code",
   "execution_count": 28,
   "metadata": {},
   "outputs": [
    {
     "data": {
      "text/plain": [
       "sad         192\n",
       "fear        192\n",
       "angry       192\n",
       "calm        192\n",
       "happy       192\n",
       "disgust     192\n",
       "surprise    192\n",
       "Name: emotion, dtype: int64"
      ]
     },
     "execution_count": 28,
     "metadata": {},
     "output_type": "execute_result"
    }
   ],
   "source": [
    "data['emotion'].value_counts()"
   ]
  },
  {
   "cell_type": "code",
   "execution_count": 39,
   "metadata": {},
   "outputs": [
    {
     "data": {
      "text/plain": [
       "<AxesSubplot:xlabel='emotion', ylabel='10'>"
      ]
     },
     "execution_count": 39,
     "metadata": {},
     "output_type": "execute_result"
    },
    {
     "data": {
      "image/png": "[encoded data removed]",
      "text/plain": [
       "<Figure size 432x288 with 1 Axes>"
      ]
     },
     "metadata": {
      "needs_background": "light"
     },
     "output_type": "display_data"
    }
   ],
   "source": [
    "sns.boxplot(x='emotion',y=data[10], data=data)"
   ]
  },
  {
   "cell_type": "code",
   "execution_count": 48,
   "metadata": {},
   "outputs": [
    {
     "data": {
      "text/plain": [
       "<AxesSubplot:xlabel='emotion', ylabel='1'>"
      ]
     },
     "execution_count": 48,
     "metadata": {},
     "output_type": "execute_result"
    },
    {
     "data": {
      "image/png": "[encoded data removed]",
      "text/plain": [
       "<Figure size 432x288 with 1 Axes>"
      ]
     },
     "metadata": {
      "needs_background": "light"
     },
     "output_type": "display_data"
    }
   ],
   "source": [
    "sns.boxplot(x='emotion',y=1, data=data)"
   ]
  },
  {
   "cell_type": "markdown",
   "metadata": {},
   "source": [
    "### Waveform view for Different Emotions"
   ]
  },
  {
   "cell_type": "code",
   "execution_count": null,
   "metadata": {},
   "outputs": [],
   "source": [
    "# Pick all the emotions\n",
    "all_emotions=['neutral','calm','happy', 'sad', 'angry', 'fear', 'disgust', 'surprise']\n",
    "data = []\n",
    "sampling_rate = []\n",
    "file_name=[]\n",
    "ax = {}\n",
    "\n",
    "fig, (ax) = plt.subplots(4, 2,figsize=(15,20))\n",
    "\n",
    "fig.suptitle('Waveform for Different Emotions')\n",
    "k=0\n",
    "for i in range (4):\n",
    "    for j in range (2):\n",
    "        #print(RAV + 'Actor_01/03-01-0'+str(k+1)+'-01-01-01.wav')\n",
    "        fr=RAV + 'Actor_01/03-01-0'+str(k+1)+'-01-01-01-01.wav'\n",
    "        da, sr = librosa.load(fr)\n",
    "        data.append(da)\n",
    "        sampling_rate.append(sr)\n",
    "        file_name.append(fr)\n",
    "        ax[i][j].set_title(all_emotions[k])\n",
    "        ax[i][j].set_ylabel('Amplitude')\n",
    "        librosa.display.waveplot(da, sr=sr,ax=ax[i][j])\n",
    "        k=k+1;"
   ]
  },
  {
   "cell_type": "code",
   "execution_count": null,
   "metadata": {},
   "outputs": [],
   "source": [
    "# 0:'neutral', 1:'calm', 2:'happy', 3:'sad', 4:'angry', 5:'fear', 6:'disgust', 7:'surprise'\n",
    "ipd.Audio(file_name[7])"
   ]
  },
  {
   "cell_type": "markdown",
   "metadata": {},
   "source": [
    "### Speech Emotion Compared by Gender"
   ]
  },
  {
   "cell_type": "code",
   "execution_count": null,
   "metadata": {},
   "outputs": [],
   "source": [
    "# Pick selected the emotions\n",
    "selected_emotions=['calm', 'sad',  'fear', 'surprise']\n",
    "\n",
    "fig, (ax) = plt.subplots(4, 2,figsize=(15,20))\n",
    "file_name_by_gender=[]\n",
    "fig.suptitle('Waveform for Different Emotions')\n",
    "k=2\n",
    "m=0\n",
    "for i in range (4):\n",
    "    for j in range (2):\n",
    "        \n",
    "        if(j==0):\n",
    "            print(RAV + 'Actor_01/03-01-0'+str(k)+'-01-01-01.wav')\n",
    "            fr=RAV + 'Actor_01/03-01-0'+str(k)+'-01-01-01-01.wav'\n",
    "            gender=\"male\"\n",
    "        else :\n",
    "            print(RAV + 'Actor_01/03-01-0'+str(k)+'-01-01-02.wav')\n",
    "            fr=RAV + 'Actor_02/03-01-0'+str(k)+'-01-01-01-02.wav' \n",
    "            gender=\"female\"\n",
    "        da, sr = librosa.load(fr)\n",
    "        file_name_by_gender.append(fr)\n",
    "        ax[i][j].set_title(gender+\" with \"+ selected_emotions[m]+\" emotion\")\n",
    "        ax[i][j].set_ylabel('Amplitude')\n",
    "        librosa.display.waveplot(da, sr=sr,ax=ax[i][j])\n",
    "    k=k+2\n",
    "    m=m+1"
   ]
  },
  {
   "cell_type": "code",
   "execution_count": null,
   "metadata": {},
   "outputs": [],
   "source": [
    "# 0:'male with calm', 1:'female with calm', 2:'male with sad', 3:'female with sad', 4:'male with fear', 5:'female with fear', \n",
    "# 6:'male with surprise'7:'female with surprise'\n",
    "ipd.Audio(file_name_by_gender[7])"
   ]
  },
  {
   "cell_type": "markdown",
   "metadata": {},
   "source": [
    "### Spectrogram View for Different Emotions"
   ]
  },
  {
   "cell_type": "code",
   "execution_count": null,
   "metadata": {},
   "outputs": [],
   "source": [
    "ax1 = {}\n",
    "all_emotions=['neutral','calm','happy', 'sad', 'angry', 'fear', 'disgust', 'surprise']\n",
    "fig, (ax1) = plt.subplots(4, 2,figsize=(15,20))\n",
    "fig.suptitle('Spectrogram View for Different Emotions')\n",
    "k=0\n",
    "for i in range (4):\n",
    "    for j in range (2): \n",
    "        ax1[i][j].set_title(all_emotions[k])\n",
    "        Xdb = librosa.amplitude_to_db(abs(librosa.stft(data[k])))\n",
    "        librosa.display.specshow(Xdb, sr=sr, x_axis='time', y_axis='hz',ax=ax1[i][j])\n",
    "        k=k+1;"
   ]
  },
  {
   "cell_type": "code",
   "execution_count": null,
   "metadata": {},
   "outputs": [],
   "source": [
    "ax1 = {}\n",
    "all_emotions=['neutral','calm','happy', 'sad', 'angry', 'fear', 'disgust', 'surprise']\n",
    "fig, (ax1) = plt.subplots(4, 2,figsize=(15,20))\n",
    "fig.suptitle('Mel-Spectrogram View for Different Emotions')\n",
    "k=0\n",
    "\n",
    "for i in range (4):\n",
    "    for j in range (2): \n",
    "        ax1[i][j].set_title(all_emotions[k])\n",
    "        Xdb = librosa.amplitude_to_db(abs(librosa.stft(data[k])))\n",
    "        librosa.display.specshow(Xdb, sr=sr, x_axis='time', y_axis='mel',ax=ax1[i][j])\n",
    "        k=k+1;"
   ]
  }
 ],
 "metadata": {
  "kernelspec": {
   "display_name": "Python 3",
   "language": "python",
   "name": "python3"
  },
  "language_info": {
   "codemirror_mode": {
    "name": "ipython",
    "version": 3
   },
   "file_extension": ".py",
   "mimetype": "text/x-python",
   "name": "python",
   "nbconvert_exporter": "python",
   "pygments_lexer": "ipython3",
   "version": "3.8.5"
  }
 },
 "nbformat": 4,
 "nbformat_minor": 4
}
